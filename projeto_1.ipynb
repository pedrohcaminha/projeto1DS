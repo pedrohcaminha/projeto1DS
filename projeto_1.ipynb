{
  "nbformat": 4,
  "nbformat_minor": 0,
  "metadata": {
    "colab": {
      "name": "projeto_1.ipynb",
      "provenance": [],
      "collapsed_sections": [
        "gakru6IX1ipX",
        "2XjjhARp7H_m",
        "gb2dfe-Y1dDF",
        "eBFOV8fQCk3E",
        "zmi1Cs7-OXY7"
      ],
      "include_colab_link": true
    },
    "kernelspec": {
      "name": "python3",
      "display_name": "Python 3"
    }
  },
  "cells": [
    {
      "cell_type": "markdown",
      "metadata": {
        "id": "view-in-github",
        "colab_type": "text"
      },
      "source": [
        "<a href=\"https://colab.research.google.com/github/pedrohcaminha/projeto1DS/blob/main/projeto_1.ipynb\" target=\"_parent\"><img src=\"https://colab.research.google.com/assets/colab-badge.svg\" alt=\"Open In Colab\"/></a>"
      ]
    },
    {
      "cell_type": "markdown",
      "metadata": {
        "id": "R5VqP0Pv76E4"
      },
      "source": [
        "# Projeto 1"
      ]
    },
    {
      "cell_type": "markdown",
      "metadata": {
        "id": "gakru6IX1ipX"
      },
      "source": [
        "## Importação de bibliotecas e dados"
      ]
    },
    {
      "cell_type": "markdown",
      "metadata": {
        "id": "R9Tu5ZlL1tZ6"
      },
      "source": [
        "### Importando bibliotecas"
      ]
    },
    {
      "cell_type": "code",
      "metadata": {
        "id": "zJnf2V7e1piH"
      },
      "source": [
        "import pandas as pd\n",
        "import datetime\n",
        "import seaborn as sns\n",
        "import numpy as np"
      ],
      "execution_count": 355,
      "outputs": []
    },
    {
      "cell_type": "markdown",
      "metadata": {
        "id": "Bxa3UFmq0ZvQ"
      },
      "source": [
        "### Importando dados"
      ]
    },
    {
      "cell_type": "code",
      "metadata": {
        "colab": {
          "base_uri": "https://localhost:8080/",
          "height": 0
        },
        "id": "vkQ0ppqWpih2",
        "outputId": "bd8780f5-6228-4cd2-d57b-af43c3306124"
      },
      "source": [
        "url = 'https://raw.githubusercontent.com/pedrohcaminha/projeto1DS/main/data.csv'\n",
        "data = pd.read_csv(url, sep='\\t')\n",
        "data.head()"
      ],
      "execution_count": 356,
      "outputs": [
        {
          "output_type": "execute_result",
          "data": {
            "text/html": [
              "<div>\n",
              "<style scoped>\n",
              "    .dataframe tbody tr th:only-of-type {\n",
              "        vertical-align: middle;\n",
              "    }\n",
              "\n",
              "    .dataframe tbody tr th {\n",
              "        vertical-align: top;\n",
              "    }\n",
              "\n",
              "    .dataframe thead th {\n",
              "        text-align: right;\n",
              "    }\n",
              "</style>\n",
              "<table border=\"1\" class=\"dataframe\">\n",
              "  <thead>\n",
              "    <tr style=\"text-align: right;\">\n",
              "      <th></th>\n",
              "      <th>Time</th>\n",
              "      <th>Temperature</th>\n",
              "      <th>Dew Point</th>\n",
              "      <th>Humidity</th>\n",
              "      <th>Wind</th>\n",
              "      <th>Wind Speed</th>\n",
              "      <th>Wind Gust</th>\n",
              "      <th>Pressure</th>\n",
              "      <th>Preciptation</th>\n",
              "      <th>Condition</th>\n",
              "      <th>day</th>\n",
              "    </tr>\n",
              "  </thead>\n",
              "  <tbody>\n",
              "    <tr>\n",
              "      <th>0</th>\n",
              "      <td>12:51 AM</td>\n",
              "      <td>40 F</td>\n",
              "      <td>25 F</td>\n",
              "      <td>55 %</td>\n",
              "      <td>W</td>\n",
              "      <td>14 mph</td>\n",
              "      <td>24 mph</td>\n",
              "      <td>29.63 in</td>\n",
              "      <td>0.0 in</td>\n",
              "      <td>Cloudy</td>\n",
              "      <td>1</td>\n",
              "    </tr>\n",
              "    <tr>\n",
              "      <th>1</th>\n",
              "      <td>1:51 AM</td>\n",
              "      <td>40 F</td>\n",
              "      <td>26 F</td>\n",
              "      <td>58 %</td>\n",
              "      <td>W</td>\n",
              "      <td>17 mph</td>\n",
              "      <td>22 mph</td>\n",
              "      <td>29.64 in</td>\n",
              "      <td>0.0 in</td>\n",
              "      <td>Cloudy</td>\n",
              "      <td>1</td>\n",
              "    </tr>\n",
              "    <tr>\n",
              "      <th>2</th>\n",
              "      <td>2:51 AM</td>\n",
              "      <td>40 F</td>\n",
              "      <td>25 F</td>\n",
              "      <td>55 %</td>\n",
              "      <td>W</td>\n",
              "      <td>16 mph</td>\n",
              "      <td>28 mph</td>\n",
              "      <td>29.64 in</td>\n",
              "      <td>0.0 in</td>\n",
              "      <td>Mostly Cloudy</td>\n",
              "      <td>1</td>\n",
              "    </tr>\n",
              "    <tr>\n",
              "      <th>3</th>\n",
              "      <td>3:51 AM</td>\n",
              "      <td>39 F</td>\n",
              "      <td>23 F</td>\n",
              "      <td>53 %</td>\n",
              "      <td>W</td>\n",
              "      <td>16 mph</td>\n",
              "      <td>0 mph</td>\n",
              "      <td>29.66 in</td>\n",
              "      <td>0.0 in</td>\n",
              "      <td>Cloudy</td>\n",
              "      <td>1</td>\n",
              "    </tr>\n",
              "    <tr>\n",
              "      <th>4</th>\n",
              "      <td>4:51 AM</td>\n",
              "      <td>38 F</td>\n",
              "      <td>23 F</td>\n",
              "      <td>55 %</td>\n",
              "      <td>W</td>\n",
              "      <td>14 mph</td>\n",
              "      <td>23 mph</td>\n",
              "      <td>29.66 in</td>\n",
              "      <td>0.0 in</td>\n",
              "      <td>Cloudy</td>\n",
              "      <td>1</td>\n",
              "    </tr>\n",
              "  </tbody>\n",
              "</table>\n",
              "</div>"
            ],
            "text/plain": [
              "       Time Temperature Dew Point  ... Preciptation      Condition day\n",
              "0  12:51 AM        40 F      25 F  ...       0.0 in         Cloudy   1\n",
              "1   1:51 AM        40 F      26 F  ...       0.0 in         Cloudy   1\n",
              "2   2:51 AM        40 F      25 F  ...       0.0 in  Mostly Cloudy   1\n",
              "3   3:51 AM        39 F      23 F  ...       0.0 in         Cloudy   1\n",
              "4   4:51 AM        38 F      23 F  ...       0.0 in         Cloudy   1\n",
              "\n",
              "[5 rows x 11 columns]"
            ]
          },
          "metadata": {
            "tags": []
          },
          "execution_count": 356
        }
      ]
    },
    {
      "cell_type": "markdown",
      "metadata": {
        "id": "2XjjhARp7H_m"
      },
      "source": [
        "## Tratamento de dados faltantes"
      ]
    },
    {
      "cell_type": "markdown",
      "metadata": {
        "id": "OE55VxPA61zN"
      },
      "source": [
        "### Verificando se existem dados ausentes"
      ]
    },
    {
      "cell_type": "code",
      "metadata": {
        "colab": {
          "base_uri": "https://localhost:8080/"
        },
        "id": "FTHfosMb5OxN",
        "outputId": "737d40f1-f194-4fee-cc79-9b2b78683d94"
      },
      "source": [
        "data.isnull().sum()"
      ],
      "execution_count": 357,
      "outputs": [
        {
          "output_type": "execute_result",
          "data": {
            "text/plain": [
              "Time            0\n",
              "Temperature     0\n",
              "Dew Point       0\n",
              "Humidity        0\n",
              "Wind            5\n",
              "Wind Speed      0\n",
              "Wind Gust       0\n",
              "Pressure        0\n",
              "Preciptation    0\n",
              "Condition       1\n",
              "day             0\n",
              "dtype: int64"
            ]
          },
          "metadata": {
            "tags": []
          },
          "execution_count": 357
        }
      ]
    },
    {
      "cell_type": "markdown",
      "metadata": {
        "id": "lokHCKLy689_"
      },
      "source": [
        "### Como existem poucos dados ausentes, as linhas serão removidas"
      ]
    },
    {
      "cell_type": "code",
      "metadata": {
        "colab": {
          "base_uri": "https://localhost:8080/"
        },
        "id": "q9rhiAk77DU4",
        "outputId": "61b4a6df-091f-4a7b-b621-53901bcbaaa0"
      },
      "source": [
        "data.shape"
      ],
      "execution_count": 358,
      "outputs": [
        {
          "output_type": "execute_result",
          "data": {
            "text/plain": [
              "(10252, 11)"
            ]
          },
          "metadata": {
            "tags": []
          },
          "execution_count": 358
        }
      ]
    },
    {
      "cell_type": "code",
      "metadata": {
        "colab": {
          "base_uri": "https://localhost:8080/"
        },
        "id": "ykjOHAH46MHR",
        "outputId": "aaae1646-8607-4304-adda-059f1293b423"
      },
      "source": [
        "data.dropna(inplace=True)\n",
        "data.shape"
      ],
      "execution_count": 359,
      "outputs": [
        {
          "output_type": "execute_result",
          "data": {
            "text/plain": [
              "(10246, 11)"
            ]
          },
          "metadata": {
            "tags": []
          },
          "execution_count": 359
        }
      ]
    },
    {
      "cell_type": "markdown",
      "metadata": {
        "id": "gb2dfe-Y1dDF"
      },
      "source": [
        "## Realizando correções de Tipos"
      ]
    },
    {
      "cell_type": "markdown",
      "metadata": {
        "id": "gVDlos6t1VX7"
      },
      "source": [
        "### Verificando os tipos\n"
      ]
    },
    {
      "cell_type": "code",
      "metadata": {
        "colab": {
          "base_uri": "https://localhost:8080/"
        },
        "id": "u1Lb1Bbo1Y1O",
        "outputId": "80ebdfe6-105f-4e84-c3d9-1a3674cb87ba"
      },
      "source": [
        "data.dtypes"
      ],
      "execution_count": 360,
      "outputs": [
        {
          "output_type": "execute_result",
          "data": {
            "text/plain": [
              "Time            object\n",
              "Temperature     object\n",
              "Dew Point       object\n",
              "Humidity        object\n",
              "Wind            object\n",
              "Wind Speed      object\n",
              "Wind Gust       object\n",
              "Pressure        object\n",
              "Preciptation    object\n",
              "Condition       object\n",
              "day              int64\n",
              "dtype: object"
            ]
          },
          "metadata": {
            "tags": []
          },
          "execution_count": 360
        }
      ]
    },
    {
      "cell_type": "markdown",
      "metadata": {
        "id": "HFes194I0dDU"
      },
      "source": [
        "### Corrigindo os dados de tempo"
      ]
    },
    {
      "cell_type": "code",
      "metadata": {
        "colab": {
          "base_uri": "https://localhost:8080/",
          "height": 0
        },
        "id": "aYYFeaYrpoiT",
        "outputId": "35c89b6b-72fd-429e-e0db-a600ef315ddb"
      },
      "source": [
        "start_date = datetime.date(2020, 1, 1)\n",
        "end_date = datetime.date(2020, 12, 31)\n",
        "delta = datetime.timedelta(hours=24)\n",
        "\n",
        "timeseries = []\n",
        "last_day = 1\n",
        "for index, row in data.iterrows():\n",
        "  if(last_day != row['day']):\n",
        "    start_date += delta\n",
        "    last_day = row['day']\n",
        "  timeseries.append(str(start_date) + \" \" + row['Time'])\n",
        "data['Time'] = timeseries\n",
        "data['Time'] =  pd.to_datetime(data['Time'], infer_datetime_format=True)\n",
        "data.drop(columns=['day'], inplace=True)\n",
        "data.head()"
      ],
      "execution_count": 361,
      "outputs": [
        {
          "output_type": "execute_result",
          "data": {
            "text/html": [
              "<div>\n",
              "<style scoped>\n",
              "    .dataframe tbody tr th:only-of-type {\n",
              "        vertical-align: middle;\n",
              "    }\n",
              "\n",
              "    .dataframe tbody tr th {\n",
              "        vertical-align: top;\n",
              "    }\n",
              "\n",
              "    .dataframe thead th {\n",
              "        text-align: right;\n",
              "    }\n",
              "</style>\n",
              "<table border=\"1\" class=\"dataframe\">\n",
              "  <thead>\n",
              "    <tr style=\"text-align: right;\">\n",
              "      <th></th>\n",
              "      <th>Time</th>\n",
              "      <th>Temperature</th>\n",
              "      <th>Dew Point</th>\n",
              "      <th>Humidity</th>\n",
              "      <th>Wind</th>\n",
              "      <th>Wind Speed</th>\n",
              "      <th>Wind Gust</th>\n",
              "      <th>Pressure</th>\n",
              "      <th>Preciptation</th>\n",
              "      <th>Condition</th>\n",
              "    </tr>\n",
              "  </thead>\n",
              "  <tbody>\n",
              "    <tr>\n",
              "      <th>0</th>\n",
              "      <td>2020-01-01 00:51:00</td>\n",
              "      <td>40 F</td>\n",
              "      <td>25 F</td>\n",
              "      <td>55 %</td>\n",
              "      <td>W</td>\n",
              "      <td>14 mph</td>\n",
              "      <td>24 mph</td>\n",
              "      <td>29.63 in</td>\n",
              "      <td>0.0 in</td>\n",
              "      <td>Cloudy</td>\n",
              "    </tr>\n",
              "    <tr>\n",
              "      <th>1</th>\n",
              "      <td>2020-01-01 01:51:00</td>\n",
              "      <td>40 F</td>\n",
              "      <td>26 F</td>\n",
              "      <td>58 %</td>\n",
              "      <td>W</td>\n",
              "      <td>17 mph</td>\n",
              "      <td>22 mph</td>\n",
              "      <td>29.64 in</td>\n",
              "      <td>0.0 in</td>\n",
              "      <td>Cloudy</td>\n",
              "    </tr>\n",
              "    <tr>\n",
              "      <th>2</th>\n",
              "      <td>2020-01-01 02:51:00</td>\n",
              "      <td>40 F</td>\n",
              "      <td>25 F</td>\n",
              "      <td>55 %</td>\n",
              "      <td>W</td>\n",
              "      <td>16 mph</td>\n",
              "      <td>28 mph</td>\n",
              "      <td>29.64 in</td>\n",
              "      <td>0.0 in</td>\n",
              "      <td>Mostly Cloudy</td>\n",
              "    </tr>\n",
              "    <tr>\n",
              "      <th>3</th>\n",
              "      <td>2020-01-01 03:51:00</td>\n",
              "      <td>39 F</td>\n",
              "      <td>23 F</td>\n",
              "      <td>53 %</td>\n",
              "      <td>W</td>\n",
              "      <td>16 mph</td>\n",
              "      <td>0 mph</td>\n",
              "      <td>29.66 in</td>\n",
              "      <td>0.0 in</td>\n",
              "      <td>Cloudy</td>\n",
              "    </tr>\n",
              "    <tr>\n",
              "      <th>4</th>\n",
              "      <td>2020-01-01 04:51:00</td>\n",
              "      <td>38 F</td>\n",
              "      <td>23 F</td>\n",
              "      <td>55 %</td>\n",
              "      <td>W</td>\n",
              "      <td>14 mph</td>\n",
              "      <td>23 mph</td>\n",
              "      <td>29.66 in</td>\n",
              "      <td>0.0 in</td>\n",
              "      <td>Cloudy</td>\n",
              "    </tr>\n",
              "  </tbody>\n",
              "</table>\n",
              "</div>"
            ],
            "text/plain": [
              "                 Time Temperature  ... Preciptation      Condition\n",
              "0 2020-01-01 00:51:00        40 F  ...       0.0 in         Cloudy\n",
              "1 2020-01-01 01:51:00        40 F  ...       0.0 in         Cloudy\n",
              "2 2020-01-01 02:51:00        40 F  ...       0.0 in  Mostly Cloudy\n",
              "3 2020-01-01 03:51:00        39 F  ...       0.0 in         Cloudy\n",
              "4 2020-01-01 04:51:00        38 F  ...       0.0 in         Cloudy\n",
              "\n",
              "[5 rows x 10 columns]"
            ]
          },
          "metadata": {
            "tags": []
          },
          "execution_count": 361
        }
      ]
    },
    {
      "cell_type": "markdown",
      "metadata": {
        "id": "JT7um7UO126Y"
      },
      "source": [
        "### Corrigindo os dados de temperatura"
      ]
    },
    {
      "cell_type": "code",
      "metadata": {
        "colab": {
          "base_uri": "https://localhost:8080/",
          "height": 0
        },
        "id": "zDS0KLcj15Vm",
        "outputId": "cb79b10f-e148-4979-cca1-d59306946ae0"
      },
      "source": [
        "Temperature = []\n",
        "for index, row in data.iterrows():\n",
        "  Temperature.append(int(''.join(filter(str.isdigit, row['Temperature']))))\n",
        "data['Temperature'] = Temperature\n",
        "data.head()"
      ],
      "execution_count": 362,
      "outputs": [
        {
          "output_type": "execute_result",
          "data": {
            "text/html": [
              "<div>\n",
              "<style scoped>\n",
              "    .dataframe tbody tr th:only-of-type {\n",
              "        vertical-align: middle;\n",
              "    }\n",
              "\n",
              "    .dataframe tbody tr th {\n",
              "        vertical-align: top;\n",
              "    }\n",
              "\n",
              "    .dataframe thead th {\n",
              "        text-align: right;\n",
              "    }\n",
              "</style>\n",
              "<table border=\"1\" class=\"dataframe\">\n",
              "  <thead>\n",
              "    <tr style=\"text-align: right;\">\n",
              "      <th></th>\n",
              "      <th>Time</th>\n",
              "      <th>Temperature</th>\n",
              "      <th>Dew Point</th>\n",
              "      <th>Humidity</th>\n",
              "      <th>Wind</th>\n",
              "      <th>Wind Speed</th>\n",
              "      <th>Wind Gust</th>\n",
              "      <th>Pressure</th>\n",
              "      <th>Preciptation</th>\n",
              "      <th>Condition</th>\n",
              "    </tr>\n",
              "  </thead>\n",
              "  <tbody>\n",
              "    <tr>\n",
              "      <th>0</th>\n",
              "      <td>2020-01-01 00:51:00</td>\n",
              "      <td>40</td>\n",
              "      <td>25 F</td>\n",
              "      <td>55 %</td>\n",
              "      <td>W</td>\n",
              "      <td>14 mph</td>\n",
              "      <td>24 mph</td>\n",
              "      <td>29.63 in</td>\n",
              "      <td>0.0 in</td>\n",
              "      <td>Cloudy</td>\n",
              "    </tr>\n",
              "    <tr>\n",
              "      <th>1</th>\n",
              "      <td>2020-01-01 01:51:00</td>\n",
              "      <td>40</td>\n",
              "      <td>26 F</td>\n",
              "      <td>58 %</td>\n",
              "      <td>W</td>\n",
              "      <td>17 mph</td>\n",
              "      <td>22 mph</td>\n",
              "      <td>29.64 in</td>\n",
              "      <td>0.0 in</td>\n",
              "      <td>Cloudy</td>\n",
              "    </tr>\n",
              "    <tr>\n",
              "      <th>2</th>\n",
              "      <td>2020-01-01 02:51:00</td>\n",
              "      <td>40</td>\n",
              "      <td>25 F</td>\n",
              "      <td>55 %</td>\n",
              "      <td>W</td>\n",
              "      <td>16 mph</td>\n",
              "      <td>28 mph</td>\n",
              "      <td>29.64 in</td>\n",
              "      <td>0.0 in</td>\n",
              "      <td>Mostly Cloudy</td>\n",
              "    </tr>\n",
              "    <tr>\n",
              "      <th>3</th>\n",
              "      <td>2020-01-01 03:51:00</td>\n",
              "      <td>39</td>\n",
              "      <td>23 F</td>\n",
              "      <td>53 %</td>\n",
              "      <td>W</td>\n",
              "      <td>16 mph</td>\n",
              "      <td>0 mph</td>\n",
              "      <td>29.66 in</td>\n",
              "      <td>0.0 in</td>\n",
              "      <td>Cloudy</td>\n",
              "    </tr>\n",
              "    <tr>\n",
              "      <th>4</th>\n",
              "      <td>2020-01-01 04:51:00</td>\n",
              "      <td>38</td>\n",
              "      <td>23 F</td>\n",
              "      <td>55 %</td>\n",
              "      <td>W</td>\n",
              "      <td>14 mph</td>\n",
              "      <td>23 mph</td>\n",
              "      <td>29.66 in</td>\n",
              "      <td>0.0 in</td>\n",
              "      <td>Cloudy</td>\n",
              "    </tr>\n",
              "  </tbody>\n",
              "</table>\n",
              "</div>"
            ],
            "text/plain": [
              "                 Time  Temperature  ... Preciptation      Condition\n",
              "0 2020-01-01 00:51:00           40  ...       0.0 in         Cloudy\n",
              "1 2020-01-01 01:51:00           40  ...       0.0 in         Cloudy\n",
              "2 2020-01-01 02:51:00           40  ...       0.0 in  Mostly Cloudy\n",
              "3 2020-01-01 03:51:00           39  ...       0.0 in         Cloudy\n",
              "4 2020-01-01 04:51:00           38  ...       0.0 in         Cloudy\n",
              "\n",
              "[5 rows x 10 columns]"
            ]
          },
          "metadata": {
            "tags": []
          },
          "execution_count": 362
        }
      ]
    },
    {
      "cell_type": "markdown",
      "metadata": {
        "id": "fpeN2EfW5Qxu"
      },
      "source": [
        "### Corrigindo os dados de ponto de condensação da água"
      ]
    },
    {
      "cell_type": "code",
      "metadata": {
        "colab": {
          "base_uri": "https://localhost:8080/",
          "height": 0
        },
        "id": "W-wReRSE2bnc",
        "outputId": "c1999cd4-e9ad-417f-f5b6-395339507117"
      },
      "source": [
        "dew = []\n",
        "for index, row in data.iterrows():\n",
        "  dew.append(int(''.join(filter(str.isdigit, row['Dew Point']))))\n",
        "data['Dew Point'] = dew\n",
        "data.head()"
      ],
      "execution_count": 363,
      "outputs": [
        {
          "output_type": "execute_result",
          "data": {
            "text/html": [
              "<div>\n",
              "<style scoped>\n",
              "    .dataframe tbody tr th:only-of-type {\n",
              "        vertical-align: middle;\n",
              "    }\n",
              "\n",
              "    .dataframe tbody tr th {\n",
              "        vertical-align: top;\n",
              "    }\n",
              "\n",
              "    .dataframe thead th {\n",
              "        text-align: right;\n",
              "    }\n",
              "</style>\n",
              "<table border=\"1\" class=\"dataframe\">\n",
              "  <thead>\n",
              "    <tr style=\"text-align: right;\">\n",
              "      <th></th>\n",
              "      <th>Time</th>\n",
              "      <th>Temperature</th>\n",
              "      <th>Dew Point</th>\n",
              "      <th>Humidity</th>\n",
              "      <th>Wind</th>\n",
              "      <th>Wind Speed</th>\n",
              "      <th>Wind Gust</th>\n",
              "      <th>Pressure</th>\n",
              "      <th>Preciptation</th>\n",
              "      <th>Condition</th>\n",
              "    </tr>\n",
              "  </thead>\n",
              "  <tbody>\n",
              "    <tr>\n",
              "      <th>0</th>\n",
              "      <td>2020-01-01 00:51:00</td>\n",
              "      <td>40</td>\n",
              "      <td>25</td>\n",
              "      <td>55 %</td>\n",
              "      <td>W</td>\n",
              "      <td>14 mph</td>\n",
              "      <td>24 mph</td>\n",
              "      <td>29.63 in</td>\n",
              "      <td>0.0 in</td>\n",
              "      <td>Cloudy</td>\n",
              "    </tr>\n",
              "    <tr>\n",
              "      <th>1</th>\n",
              "      <td>2020-01-01 01:51:00</td>\n",
              "      <td>40</td>\n",
              "      <td>26</td>\n",
              "      <td>58 %</td>\n",
              "      <td>W</td>\n",
              "      <td>17 mph</td>\n",
              "      <td>22 mph</td>\n",
              "      <td>29.64 in</td>\n",
              "      <td>0.0 in</td>\n",
              "      <td>Cloudy</td>\n",
              "    </tr>\n",
              "    <tr>\n",
              "      <th>2</th>\n",
              "      <td>2020-01-01 02:51:00</td>\n",
              "      <td>40</td>\n",
              "      <td>25</td>\n",
              "      <td>55 %</td>\n",
              "      <td>W</td>\n",
              "      <td>16 mph</td>\n",
              "      <td>28 mph</td>\n",
              "      <td>29.64 in</td>\n",
              "      <td>0.0 in</td>\n",
              "      <td>Mostly Cloudy</td>\n",
              "    </tr>\n",
              "    <tr>\n",
              "      <th>3</th>\n",
              "      <td>2020-01-01 03:51:00</td>\n",
              "      <td>39</td>\n",
              "      <td>23</td>\n",
              "      <td>53 %</td>\n",
              "      <td>W</td>\n",
              "      <td>16 mph</td>\n",
              "      <td>0 mph</td>\n",
              "      <td>29.66 in</td>\n",
              "      <td>0.0 in</td>\n",
              "      <td>Cloudy</td>\n",
              "    </tr>\n",
              "    <tr>\n",
              "      <th>4</th>\n",
              "      <td>2020-01-01 04:51:00</td>\n",
              "      <td>38</td>\n",
              "      <td>23</td>\n",
              "      <td>55 %</td>\n",
              "      <td>W</td>\n",
              "      <td>14 mph</td>\n",
              "      <td>23 mph</td>\n",
              "      <td>29.66 in</td>\n",
              "      <td>0.0 in</td>\n",
              "      <td>Cloudy</td>\n",
              "    </tr>\n",
              "  </tbody>\n",
              "</table>\n",
              "</div>"
            ],
            "text/plain": [
              "                 Time  Temperature  ...  Preciptation      Condition\n",
              "0 2020-01-01 00:51:00           40  ...        0.0 in         Cloudy\n",
              "1 2020-01-01 01:51:00           40  ...        0.0 in         Cloudy\n",
              "2 2020-01-01 02:51:00           40  ...        0.0 in  Mostly Cloudy\n",
              "3 2020-01-01 03:51:00           39  ...        0.0 in         Cloudy\n",
              "4 2020-01-01 04:51:00           38  ...        0.0 in         Cloudy\n",
              "\n",
              "[5 rows x 10 columns]"
            ]
          },
          "metadata": {
            "tags": []
          },
          "execution_count": 363
        }
      ]
    },
    {
      "cell_type": "markdown",
      "metadata": {
        "id": "9NMod6LM9VHk"
      },
      "source": [
        "### Corrigindo os dados de humidade"
      ]
    },
    {
      "cell_type": "code",
      "metadata": {
        "colab": {
          "base_uri": "https://localhost:8080/",
          "height": 0
        },
        "id": "ZCI5GnOt7ZsP",
        "outputId": "06e9bd38-205f-44f6-da83-13d4f87b1b95"
      },
      "source": [
        "Humidity = []\n",
        "for index, row in data.iterrows():\n",
        "  Humidity.append(int(''.join(filter(str.isdigit, row['Humidity'])))/100)\n",
        "data['Humidity'] = Humidity\n",
        "data.head()"
      ],
      "execution_count": 364,
      "outputs": [
        {
          "output_type": "execute_result",
          "data": {
            "text/html": [
              "<div>\n",
              "<style scoped>\n",
              "    .dataframe tbody tr th:only-of-type {\n",
              "        vertical-align: middle;\n",
              "    }\n",
              "\n",
              "    .dataframe tbody tr th {\n",
              "        vertical-align: top;\n",
              "    }\n",
              "\n",
              "    .dataframe thead th {\n",
              "        text-align: right;\n",
              "    }\n",
              "</style>\n",
              "<table border=\"1\" class=\"dataframe\">\n",
              "  <thead>\n",
              "    <tr style=\"text-align: right;\">\n",
              "      <th></th>\n",
              "      <th>Time</th>\n",
              "      <th>Temperature</th>\n",
              "      <th>Dew Point</th>\n",
              "      <th>Humidity</th>\n",
              "      <th>Wind</th>\n",
              "      <th>Wind Speed</th>\n",
              "      <th>Wind Gust</th>\n",
              "      <th>Pressure</th>\n",
              "      <th>Preciptation</th>\n",
              "      <th>Condition</th>\n",
              "    </tr>\n",
              "  </thead>\n",
              "  <tbody>\n",
              "    <tr>\n",
              "      <th>0</th>\n",
              "      <td>2020-01-01 00:51:00</td>\n",
              "      <td>40</td>\n",
              "      <td>25</td>\n",
              "      <td>0.55</td>\n",
              "      <td>W</td>\n",
              "      <td>14 mph</td>\n",
              "      <td>24 mph</td>\n",
              "      <td>29.63 in</td>\n",
              "      <td>0.0 in</td>\n",
              "      <td>Cloudy</td>\n",
              "    </tr>\n",
              "    <tr>\n",
              "      <th>1</th>\n",
              "      <td>2020-01-01 01:51:00</td>\n",
              "      <td>40</td>\n",
              "      <td>26</td>\n",
              "      <td>0.58</td>\n",
              "      <td>W</td>\n",
              "      <td>17 mph</td>\n",
              "      <td>22 mph</td>\n",
              "      <td>29.64 in</td>\n",
              "      <td>0.0 in</td>\n",
              "      <td>Cloudy</td>\n",
              "    </tr>\n",
              "    <tr>\n",
              "      <th>2</th>\n",
              "      <td>2020-01-01 02:51:00</td>\n",
              "      <td>40</td>\n",
              "      <td>25</td>\n",
              "      <td>0.55</td>\n",
              "      <td>W</td>\n",
              "      <td>16 mph</td>\n",
              "      <td>28 mph</td>\n",
              "      <td>29.64 in</td>\n",
              "      <td>0.0 in</td>\n",
              "      <td>Mostly Cloudy</td>\n",
              "    </tr>\n",
              "    <tr>\n",
              "      <th>3</th>\n",
              "      <td>2020-01-01 03:51:00</td>\n",
              "      <td>39</td>\n",
              "      <td>23</td>\n",
              "      <td>0.53</td>\n",
              "      <td>W</td>\n",
              "      <td>16 mph</td>\n",
              "      <td>0 mph</td>\n",
              "      <td>29.66 in</td>\n",
              "      <td>0.0 in</td>\n",
              "      <td>Cloudy</td>\n",
              "    </tr>\n",
              "    <tr>\n",
              "      <th>4</th>\n",
              "      <td>2020-01-01 04:51:00</td>\n",
              "      <td>38</td>\n",
              "      <td>23</td>\n",
              "      <td>0.55</td>\n",
              "      <td>W</td>\n",
              "      <td>14 mph</td>\n",
              "      <td>23 mph</td>\n",
              "      <td>29.66 in</td>\n",
              "      <td>0.0 in</td>\n",
              "      <td>Cloudy</td>\n",
              "    </tr>\n",
              "  </tbody>\n",
              "</table>\n",
              "</div>"
            ],
            "text/plain": [
              "                 Time  Temperature  ...  Preciptation      Condition\n",
              "0 2020-01-01 00:51:00           40  ...        0.0 in         Cloudy\n",
              "1 2020-01-01 01:51:00           40  ...        0.0 in         Cloudy\n",
              "2 2020-01-01 02:51:00           40  ...        0.0 in  Mostly Cloudy\n",
              "3 2020-01-01 03:51:00           39  ...        0.0 in         Cloudy\n",
              "4 2020-01-01 04:51:00           38  ...        0.0 in         Cloudy\n",
              "\n",
              "[5 rows x 10 columns]"
            ]
          },
          "metadata": {
            "tags": []
          },
          "execution_count": 364
        }
      ]
    },
    {
      "cell_type": "markdown",
      "metadata": {
        "id": "_8X3ZSu39tfc"
      },
      "source": [
        "### Verificando os dados de direcao do vento (nao precisa de correcao)"
      ]
    },
    {
      "cell_type": "code",
      "metadata": {
        "colab": {
          "base_uri": "https://localhost:8080/"
        },
        "id": "GxMVE0Sf7dxG",
        "outputId": "e3104d3b-4941-4b99-bb82-703364df3cf9"
      },
      "source": [
        "data['Wind'].value_counts()"
      ],
      "execution_count": 365,
      "outputs": [
        {
          "output_type": "execute_result",
          "data": {
            "text/plain": [
              "S       1306\n",
              "NE      1089\n",
              "NW       872\n",
              "ENE      783\n",
              "W        679\n",
              "SSW      648\n",
              "SW       615\n",
              "WNW      611\n",
              "NNW      556\n",
              "N        550\n",
              "WSW      420\n",
              "SSE      419\n",
              "CALM     404\n",
              "E        388\n",
              "NNE      349\n",
              "SE       229\n",
              "ESE      199\n",
              "VAR      129\n",
              "Name: Wind, dtype: int64"
            ]
          },
          "metadata": {
            "tags": []
          },
          "execution_count": 365
        }
      ]
    },
    {
      "cell_type": "code",
      "metadata": {
        "id": "8YbM47Wf-wqJ"
      },
      "source": [
        "data['Wind'] = data['Wind'].astype('category')"
      ],
      "execution_count": 366,
      "outputs": []
    },
    {
      "cell_type": "markdown",
      "metadata": {
        "id": "wpm3_ZRS-rM-"
      },
      "source": [
        "### Corrigindo os dados de velocidade do vento"
      ]
    },
    {
      "cell_type": "code",
      "metadata": {
        "colab": {
          "base_uri": "https://localhost:8080/",
          "height": 0
        },
        "id": "5gECbDjE-t4H",
        "outputId": "e9fd51eb-ea6c-494b-9702-af29c00d6b49"
      },
      "source": [
        "Speed = []\n",
        "for index, row in data.iterrows():\n",
        "  Speed.append(int(''.join(filter(str.isdigit, row['Wind Speed']))))\n",
        "data['Wind Speed'] = Speed\n",
        "data.head()"
      ],
      "execution_count": 367,
      "outputs": [
        {
          "output_type": "execute_result",
          "data": {
            "text/html": [
              "<div>\n",
              "<style scoped>\n",
              "    .dataframe tbody tr th:only-of-type {\n",
              "        vertical-align: middle;\n",
              "    }\n",
              "\n",
              "    .dataframe tbody tr th {\n",
              "        vertical-align: top;\n",
              "    }\n",
              "\n",
              "    .dataframe thead th {\n",
              "        text-align: right;\n",
              "    }\n",
              "</style>\n",
              "<table border=\"1\" class=\"dataframe\">\n",
              "  <thead>\n",
              "    <tr style=\"text-align: right;\">\n",
              "      <th></th>\n",
              "      <th>Time</th>\n",
              "      <th>Temperature</th>\n",
              "      <th>Dew Point</th>\n",
              "      <th>Humidity</th>\n",
              "      <th>Wind</th>\n",
              "      <th>Wind Speed</th>\n",
              "      <th>Wind Gust</th>\n",
              "      <th>Pressure</th>\n",
              "      <th>Preciptation</th>\n",
              "      <th>Condition</th>\n",
              "    </tr>\n",
              "  </thead>\n",
              "  <tbody>\n",
              "    <tr>\n",
              "      <th>0</th>\n",
              "      <td>2020-01-01 00:51:00</td>\n",
              "      <td>40</td>\n",
              "      <td>25</td>\n",
              "      <td>0.55</td>\n",
              "      <td>W</td>\n",
              "      <td>14</td>\n",
              "      <td>24 mph</td>\n",
              "      <td>29.63 in</td>\n",
              "      <td>0.0 in</td>\n",
              "      <td>Cloudy</td>\n",
              "    </tr>\n",
              "    <tr>\n",
              "      <th>1</th>\n",
              "      <td>2020-01-01 01:51:00</td>\n",
              "      <td>40</td>\n",
              "      <td>26</td>\n",
              "      <td>0.58</td>\n",
              "      <td>W</td>\n",
              "      <td>17</td>\n",
              "      <td>22 mph</td>\n",
              "      <td>29.64 in</td>\n",
              "      <td>0.0 in</td>\n",
              "      <td>Cloudy</td>\n",
              "    </tr>\n",
              "    <tr>\n",
              "      <th>2</th>\n",
              "      <td>2020-01-01 02:51:00</td>\n",
              "      <td>40</td>\n",
              "      <td>25</td>\n",
              "      <td>0.55</td>\n",
              "      <td>W</td>\n",
              "      <td>16</td>\n",
              "      <td>28 mph</td>\n",
              "      <td>29.64 in</td>\n",
              "      <td>0.0 in</td>\n",
              "      <td>Mostly Cloudy</td>\n",
              "    </tr>\n",
              "    <tr>\n",
              "      <th>3</th>\n",
              "      <td>2020-01-01 03:51:00</td>\n",
              "      <td>39</td>\n",
              "      <td>23</td>\n",
              "      <td>0.53</td>\n",
              "      <td>W</td>\n",
              "      <td>16</td>\n",
              "      <td>0 mph</td>\n",
              "      <td>29.66 in</td>\n",
              "      <td>0.0 in</td>\n",
              "      <td>Cloudy</td>\n",
              "    </tr>\n",
              "    <tr>\n",
              "      <th>4</th>\n",
              "      <td>2020-01-01 04:51:00</td>\n",
              "      <td>38</td>\n",
              "      <td>23</td>\n",
              "      <td>0.55</td>\n",
              "      <td>W</td>\n",
              "      <td>14</td>\n",
              "      <td>23 mph</td>\n",
              "      <td>29.66 in</td>\n",
              "      <td>0.0 in</td>\n",
              "      <td>Cloudy</td>\n",
              "    </tr>\n",
              "  </tbody>\n",
              "</table>\n",
              "</div>"
            ],
            "text/plain": [
              "                 Time  Temperature  ...  Preciptation      Condition\n",
              "0 2020-01-01 00:51:00           40  ...        0.0 in         Cloudy\n",
              "1 2020-01-01 01:51:00           40  ...        0.0 in         Cloudy\n",
              "2 2020-01-01 02:51:00           40  ...        0.0 in  Mostly Cloudy\n",
              "3 2020-01-01 03:51:00           39  ...        0.0 in         Cloudy\n",
              "4 2020-01-01 04:51:00           38  ...        0.0 in         Cloudy\n",
              "\n",
              "[5 rows x 10 columns]"
            ]
          },
          "metadata": {
            "tags": []
          },
          "execution_count": 367
        }
      ]
    },
    {
      "cell_type": "markdown",
      "metadata": {
        "id": "bsxM-ZY4_a9p"
      },
      "source": [
        "### Corrigindo os dados de velocidade da rajada do vento"
      ]
    },
    {
      "cell_type": "code",
      "metadata": {
        "colab": {
          "base_uri": "https://localhost:8080/",
          "height": 0
        },
        "id": "xSbtc8uO_BMb",
        "outputId": "b37d15bf-d7a3-4c1d-916c-71237e04455f"
      },
      "source": [
        "Gust = []\n",
        "for index, row in data.iterrows():\n",
        "  Gust.append(int(''.join(filter(str.isdigit, row['Wind Gust']))))\n",
        "data['Wind Gust'] = Gust\n",
        "data.head()"
      ],
      "execution_count": 368,
      "outputs": [
        {
          "output_type": "execute_result",
          "data": {
            "text/html": [
              "<div>\n",
              "<style scoped>\n",
              "    .dataframe tbody tr th:only-of-type {\n",
              "        vertical-align: middle;\n",
              "    }\n",
              "\n",
              "    .dataframe tbody tr th {\n",
              "        vertical-align: top;\n",
              "    }\n",
              "\n",
              "    .dataframe thead th {\n",
              "        text-align: right;\n",
              "    }\n",
              "</style>\n",
              "<table border=\"1\" class=\"dataframe\">\n",
              "  <thead>\n",
              "    <tr style=\"text-align: right;\">\n",
              "      <th></th>\n",
              "      <th>Time</th>\n",
              "      <th>Temperature</th>\n",
              "      <th>Dew Point</th>\n",
              "      <th>Humidity</th>\n",
              "      <th>Wind</th>\n",
              "      <th>Wind Speed</th>\n",
              "      <th>Wind Gust</th>\n",
              "      <th>Pressure</th>\n",
              "      <th>Preciptation</th>\n",
              "      <th>Condition</th>\n",
              "    </tr>\n",
              "  </thead>\n",
              "  <tbody>\n",
              "    <tr>\n",
              "      <th>0</th>\n",
              "      <td>2020-01-01 00:51:00</td>\n",
              "      <td>40</td>\n",
              "      <td>25</td>\n",
              "      <td>0.55</td>\n",
              "      <td>W</td>\n",
              "      <td>14</td>\n",
              "      <td>24</td>\n",
              "      <td>29.63 in</td>\n",
              "      <td>0.0 in</td>\n",
              "      <td>Cloudy</td>\n",
              "    </tr>\n",
              "    <tr>\n",
              "      <th>1</th>\n",
              "      <td>2020-01-01 01:51:00</td>\n",
              "      <td>40</td>\n",
              "      <td>26</td>\n",
              "      <td>0.58</td>\n",
              "      <td>W</td>\n",
              "      <td>17</td>\n",
              "      <td>22</td>\n",
              "      <td>29.64 in</td>\n",
              "      <td>0.0 in</td>\n",
              "      <td>Cloudy</td>\n",
              "    </tr>\n",
              "    <tr>\n",
              "      <th>2</th>\n",
              "      <td>2020-01-01 02:51:00</td>\n",
              "      <td>40</td>\n",
              "      <td>25</td>\n",
              "      <td>0.55</td>\n",
              "      <td>W</td>\n",
              "      <td>16</td>\n",
              "      <td>28</td>\n",
              "      <td>29.64 in</td>\n",
              "      <td>0.0 in</td>\n",
              "      <td>Mostly Cloudy</td>\n",
              "    </tr>\n",
              "    <tr>\n",
              "      <th>3</th>\n",
              "      <td>2020-01-01 03:51:00</td>\n",
              "      <td>39</td>\n",
              "      <td>23</td>\n",
              "      <td>0.53</td>\n",
              "      <td>W</td>\n",
              "      <td>16</td>\n",
              "      <td>0</td>\n",
              "      <td>29.66 in</td>\n",
              "      <td>0.0 in</td>\n",
              "      <td>Cloudy</td>\n",
              "    </tr>\n",
              "    <tr>\n",
              "      <th>4</th>\n",
              "      <td>2020-01-01 04:51:00</td>\n",
              "      <td>38</td>\n",
              "      <td>23</td>\n",
              "      <td>0.55</td>\n",
              "      <td>W</td>\n",
              "      <td>14</td>\n",
              "      <td>23</td>\n",
              "      <td>29.66 in</td>\n",
              "      <td>0.0 in</td>\n",
              "      <td>Cloudy</td>\n",
              "    </tr>\n",
              "  </tbody>\n",
              "</table>\n",
              "</div>"
            ],
            "text/plain": [
              "                 Time  Temperature  ...  Preciptation      Condition\n",
              "0 2020-01-01 00:51:00           40  ...        0.0 in         Cloudy\n",
              "1 2020-01-01 01:51:00           40  ...        0.0 in         Cloudy\n",
              "2 2020-01-01 02:51:00           40  ...        0.0 in  Mostly Cloudy\n",
              "3 2020-01-01 03:51:00           39  ...        0.0 in         Cloudy\n",
              "4 2020-01-01 04:51:00           38  ...        0.0 in         Cloudy\n",
              "\n",
              "[5 rows x 10 columns]"
            ]
          },
          "metadata": {
            "tags": []
          },
          "execution_count": 368
        }
      ]
    },
    {
      "cell_type": "markdown",
      "metadata": {
        "id": "0nVdiLoDAIaH"
      },
      "source": [
        "### Corrigindo os dados de pressao"
      ]
    },
    {
      "cell_type": "code",
      "metadata": {
        "colab": {
          "base_uri": "https://localhost:8080/",
          "height": 0
        },
        "id": "Ta-kq_NuAFdn",
        "outputId": "9edc3ff6-931a-4810-b7b3-85164a26a6dd"
      },
      "source": [
        "Pressure = []\n",
        "for index, row in data.iterrows():\n",
        "  Pressure.append(int(''.join(filter(str.isdigit, row['Pressure'])))/100)\n",
        "data['Pressure'] = Pressure\n",
        "data.head()"
      ],
      "execution_count": 369,
      "outputs": [
        {
          "output_type": "execute_result",
          "data": {
            "text/html": [
              "<div>\n",
              "<style scoped>\n",
              "    .dataframe tbody tr th:only-of-type {\n",
              "        vertical-align: middle;\n",
              "    }\n",
              "\n",
              "    .dataframe tbody tr th {\n",
              "        vertical-align: top;\n",
              "    }\n",
              "\n",
              "    .dataframe thead th {\n",
              "        text-align: right;\n",
              "    }\n",
              "</style>\n",
              "<table border=\"1\" class=\"dataframe\">\n",
              "  <thead>\n",
              "    <tr style=\"text-align: right;\">\n",
              "      <th></th>\n",
              "      <th>Time</th>\n",
              "      <th>Temperature</th>\n",
              "      <th>Dew Point</th>\n",
              "      <th>Humidity</th>\n",
              "      <th>Wind</th>\n",
              "      <th>Wind Speed</th>\n",
              "      <th>Wind Gust</th>\n",
              "      <th>Pressure</th>\n",
              "      <th>Preciptation</th>\n",
              "      <th>Condition</th>\n",
              "    </tr>\n",
              "  </thead>\n",
              "  <tbody>\n",
              "    <tr>\n",
              "      <th>0</th>\n",
              "      <td>2020-01-01 00:51:00</td>\n",
              "      <td>40</td>\n",
              "      <td>25</td>\n",
              "      <td>0.55</td>\n",
              "      <td>W</td>\n",
              "      <td>14</td>\n",
              "      <td>24</td>\n",
              "      <td>29.63</td>\n",
              "      <td>0.0 in</td>\n",
              "      <td>Cloudy</td>\n",
              "    </tr>\n",
              "    <tr>\n",
              "      <th>1</th>\n",
              "      <td>2020-01-01 01:51:00</td>\n",
              "      <td>40</td>\n",
              "      <td>26</td>\n",
              "      <td>0.58</td>\n",
              "      <td>W</td>\n",
              "      <td>17</td>\n",
              "      <td>22</td>\n",
              "      <td>29.64</td>\n",
              "      <td>0.0 in</td>\n",
              "      <td>Cloudy</td>\n",
              "    </tr>\n",
              "    <tr>\n",
              "      <th>2</th>\n",
              "      <td>2020-01-01 02:51:00</td>\n",
              "      <td>40</td>\n",
              "      <td>25</td>\n",
              "      <td>0.55</td>\n",
              "      <td>W</td>\n",
              "      <td>16</td>\n",
              "      <td>28</td>\n",
              "      <td>29.64</td>\n",
              "      <td>0.0 in</td>\n",
              "      <td>Mostly Cloudy</td>\n",
              "    </tr>\n",
              "    <tr>\n",
              "      <th>3</th>\n",
              "      <td>2020-01-01 03:51:00</td>\n",
              "      <td>39</td>\n",
              "      <td>23</td>\n",
              "      <td>0.53</td>\n",
              "      <td>W</td>\n",
              "      <td>16</td>\n",
              "      <td>0</td>\n",
              "      <td>29.66</td>\n",
              "      <td>0.0 in</td>\n",
              "      <td>Cloudy</td>\n",
              "    </tr>\n",
              "    <tr>\n",
              "      <th>4</th>\n",
              "      <td>2020-01-01 04:51:00</td>\n",
              "      <td>38</td>\n",
              "      <td>23</td>\n",
              "      <td>0.55</td>\n",
              "      <td>W</td>\n",
              "      <td>14</td>\n",
              "      <td>23</td>\n",
              "      <td>29.66</td>\n",
              "      <td>0.0 in</td>\n",
              "      <td>Cloudy</td>\n",
              "    </tr>\n",
              "  </tbody>\n",
              "</table>\n",
              "</div>"
            ],
            "text/plain": [
              "                 Time  Temperature  ...  Preciptation      Condition\n",
              "0 2020-01-01 00:51:00           40  ...        0.0 in         Cloudy\n",
              "1 2020-01-01 01:51:00           40  ...        0.0 in         Cloudy\n",
              "2 2020-01-01 02:51:00           40  ...        0.0 in  Mostly Cloudy\n",
              "3 2020-01-01 03:51:00           39  ...        0.0 in         Cloudy\n",
              "4 2020-01-01 04:51:00           38  ...        0.0 in         Cloudy\n",
              "\n",
              "[5 rows x 10 columns]"
            ]
          },
          "metadata": {
            "tags": []
          },
          "execution_count": 369
        }
      ]
    },
    {
      "cell_type": "markdown",
      "metadata": {
        "id": "oPlxoyhgBHpC"
      },
      "source": [
        "### Corrigindo os dados de precipitacao"
      ]
    },
    {
      "cell_type": "code",
      "metadata": {
        "colab": {
          "base_uri": "https://localhost:8080/",
          "height": 0
        },
        "id": "as25MWI9AHUA",
        "outputId": "25565cc4-85fd-45d4-a592-89617cc0605c"
      },
      "source": [
        "Preciptation = []\n",
        "for index, row in data.iterrows():\n",
        "  Preciptation.append(int(''.join(filter(str.isdigit, row['Preciptation'])))/100)\n",
        "data['Preciptation'] = Preciptation\n",
        "data.head()"
      ],
      "execution_count": 370,
      "outputs": [
        {
          "output_type": "execute_result",
          "data": {
            "text/html": [
              "<div>\n",
              "<style scoped>\n",
              "    .dataframe tbody tr th:only-of-type {\n",
              "        vertical-align: middle;\n",
              "    }\n",
              "\n",
              "    .dataframe tbody tr th {\n",
              "        vertical-align: top;\n",
              "    }\n",
              "\n",
              "    .dataframe thead th {\n",
              "        text-align: right;\n",
              "    }\n",
              "</style>\n",
              "<table border=\"1\" class=\"dataframe\">\n",
              "  <thead>\n",
              "    <tr style=\"text-align: right;\">\n",
              "      <th></th>\n",
              "      <th>Time</th>\n",
              "      <th>Temperature</th>\n",
              "      <th>Dew Point</th>\n",
              "      <th>Humidity</th>\n",
              "      <th>Wind</th>\n",
              "      <th>Wind Speed</th>\n",
              "      <th>Wind Gust</th>\n",
              "      <th>Pressure</th>\n",
              "      <th>Preciptation</th>\n",
              "      <th>Condition</th>\n",
              "    </tr>\n",
              "  </thead>\n",
              "  <tbody>\n",
              "    <tr>\n",
              "      <th>0</th>\n",
              "      <td>2020-01-01 00:51:00</td>\n",
              "      <td>40</td>\n",
              "      <td>25</td>\n",
              "      <td>0.55</td>\n",
              "      <td>W</td>\n",
              "      <td>14</td>\n",
              "      <td>24</td>\n",
              "      <td>29.63</td>\n",
              "      <td>0.0</td>\n",
              "      <td>Cloudy</td>\n",
              "    </tr>\n",
              "    <tr>\n",
              "      <th>1</th>\n",
              "      <td>2020-01-01 01:51:00</td>\n",
              "      <td>40</td>\n",
              "      <td>26</td>\n",
              "      <td>0.58</td>\n",
              "      <td>W</td>\n",
              "      <td>17</td>\n",
              "      <td>22</td>\n",
              "      <td>29.64</td>\n",
              "      <td>0.0</td>\n",
              "      <td>Cloudy</td>\n",
              "    </tr>\n",
              "    <tr>\n",
              "      <th>2</th>\n",
              "      <td>2020-01-01 02:51:00</td>\n",
              "      <td>40</td>\n",
              "      <td>25</td>\n",
              "      <td>0.55</td>\n",
              "      <td>W</td>\n",
              "      <td>16</td>\n",
              "      <td>28</td>\n",
              "      <td>29.64</td>\n",
              "      <td>0.0</td>\n",
              "      <td>Mostly Cloudy</td>\n",
              "    </tr>\n",
              "    <tr>\n",
              "      <th>3</th>\n",
              "      <td>2020-01-01 03:51:00</td>\n",
              "      <td>39</td>\n",
              "      <td>23</td>\n",
              "      <td>0.53</td>\n",
              "      <td>W</td>\n",
              "      <td>16</td>\n",
              "      <td>0</td>\n",
              "      <td>29.66</td>\n",
              "      <td>0.0</td>\n",
              "      <td>Cloudy</td>\n",
              "    </tr>\n",
              "    <tr>\n",
              "      <th>4</th>\n",
              "      <td>2020-01-01 04:51:00</td>\n",
              "      <td>38</td>\n",
              "      <td>23</td>\n",
              "      <td>0.55</td>\n",
              "      <td>W</td>\n",
              "      <td>14</td>\n",
              "      <td>23</td>\n",
              "      <td>29.66</td>\n",
              "      <td>0.0</td>\n",
              "      <td>Cloudy</td>\n",
              "    </tr>\n",
              "  </tbody>\n",
              "</table>\n",
              "</div>"
            ],
            "text/plain": [
              "                 Time  Temperature  ...  Preciptation      Condition\n",
              "0 2020-01-01 00:51:00           40  ...           0.0         Cloudy\n",
              "1 2020-01-01 01:51:00           40  ...           0.0         Cloudy\n",
              "2 2020-01-01 02:51:00           40  ...           0.0  Mostly Cloudy\n",
              "3 2020-01-01 03:51:00           39  ...           0.0         Cloudy\n",
              "4 2020-01-01 04:51:00           38  ...           0.0         Cloudy\n",
              "\n",
              "[5 rows x 10 columns]"
            ]
          },
          "metadata": {
            "tags": []
          },
          "execution_count": 370
        }
      ]
    },
    {
      "cell_type": "markdown",
      "metadata": {
        "id": "PWjmrLQ7BQ0x"
      },
      "source": [
        "### Verificando os dados de condicoes"
      ]
    },
    {
      "cell_type": "code",
      "metadata": {
        "colab": {
          "base_uri": "https://localhost:8080/"
        },
        "id": "oCIvRhlQBTGH",
        "outputId": "2553bc40-d7f3-409d-c8be-3ceb1fe806e6"
      },
      "source": [
        "data['Condition'].value_counts()"
      ],
      "execution_count": 371,
      "outputs": [
        {
          "output_type": "execute_result",
          "data": {
            "text/plain": [
              "Mostly Cloudy              2829\n",
              "Cloudy                     2028\n",
              "Fair                       1904\n",
              "Partly Cloudy              1266\n",
              "Light Rain                  829\n",
              "Fog                         197\n",
              "Mostly Cloudy / Windy       144\n",
              "Rain                        127\n",
              "Light Rain / Windy          123\n",
              "Light Drizzle               116\n",
              "Fair / Windy                110\n",
              "Partly Cloudy / Windy        84\n",
              "Cloudy / Windy               75\n",
              "Heavy Rain                   52\n",
              "Light Snow                   38\n",
              "Haze                         35\n",
              "Light Rain with Thunder      31\n",
              "T-Storm                      28\n",
              "Thunder in the Vicinity      28\n",
              "Drizzle and Fog              28\n",
              "Thunder                      26\n",
              "Light Snow / Windy           23\n",
              "Heavy Rain / Windy           22\n",
              "Rain / Windy                 21\n",
              "Wintry Mix                   12\n",
              "Light Drizzle / Windy        10\n",
              "Snow / Windy                 10\n",
              "Heavy T-Storm / Windy         8\n",
              "Heavy T-Storm                 8\n",
              "Snow and Sleet / Windy        7\n",
              "T-Storm / Windy               5\n",
              "Haze / Windy                  5\n",
              "Light Snow and Sleet          4\n",
              "Drizzle and Fog / Windy       3\n",
              "Snow                          3\n",
              "Wintry Mix / Windy            2\n",
              "Squalls / Windy               2\n",
              "Thunder / Windy               1\n",
              "Heavy Snow                    1\n",
              "Fog / Windy                   1\n",
              "Name: Condition, dtype: int64"
            ]
          },
          "metadata": {
            "tags": []
          },
          "execution_count": 371
        }
      ]
    },
    {
      "cell_type": "code",
      "metadata": {
        "id": "B0prYq5lBWNn"
      },
      "source": [
        "data['Condition'] = data['Condition'].astype('category')"
      ],
      "execution_count": 372,
      "outputs": []
    },
    {
      "cell_type": "markdown",
      "metadata": {
        "id": "jMuxC1wEBgcN"
      },
      "source": [
        "### Verificando os dados após as correcoes"
      ]
    },
    {
      "cell_type": "code",
      "metadata": {
        "colab": {
          "base_uri": "https://localhost:8080/"
        },
        "id": "M-Q5EhlMBfQ9",
        "outputId": "b2aab8e2-251c-46f2-80c7-0077ff97a797"
      },
      "source": [
        "data.dtypes"
      ],
      "execution_count": 373,
      "outputs": [
        {
          "output_type": "execute_result",
          "data": {
            "text/plain": [
              "Time            datetime64[ns]\n",
              "Temperature              int64\n",
              "Dew Point                int64\n",
              "Humidity               float64\n",
              "Wind                  category\n",
              "Wind Speed               int64\n",
              "Wind Gust                int64\n",
              "Pressure               float64\n",
              "Preciptation           float64\n",
              "Condition             category\n",
              "dtype: object"
            ]
          },
          "metadata": {
            "tags": []
          },
          "execution_count": 373
        }
      ]
    },
    {
      "cell_type": "markdown",
      "metadata": {
        "id": "eBFOV8fQCk3E"
      },
      "source": [
        "## Analise de dados Univariados"
      ]
    },
    {
      "cell_type": "markdown",
      "metadata": {
        "id": "8-qgKOdIH-JX"
      },
      "source": [
        "### Temperatura"
      ]
    },
    {
      "cell_type": "markdown",
      "metadata": {
        "id": "K_Ni6JtrGDFm"
      },
      "source": [
        "Descricao da temperatura"
      ]
    },
    {
      "cell_type": "code",
      "metadata": {
        "colab": {
          "base_uri": "https://localhost:8080/"
        },
        "id": "7bOzCTvvCoZ7",
        "outputId": "690338ce-2f08-4ce0-9b78-5409408f9062"
      },
      "source": [
        "data['Temperature'].describe()"
      ],
      "execution_count": 374,
      "outputs": [
        {
          "output_type": "execute_result",
          "data": {
            "text/plain": [
              "count    10246.000000\n",
              "mean        58.203592\n",
              "std         16.487466\n",
              "min         15.000000\n",
              "25%         45.000000\n",
              "50%         57.000000\n",
              "75%         73.000000\n",
              "max         97.000000\n",
              "Name: Temperature, dtype: float64"
            ]
          },
          "metadata": {
            "tags": []
          },
          "execution_count": 374
        }
      ]
    },
    {
      "cell_type": "markdown",
      "metadata": {
        "id": "aGqTIfn-GWx2"
      },
      "source": [
        "Temperaturas medias mensais ao longo do ano"
      ]
    },
    {
      "cell_type": "code",
      "metadata": {
        "colab": {
          "base_uri": "https://localhost:8080/",
          "height": 0
        },
        "id": "bnxc5FefC5bD",
        "outputId": "afbf199e-1263-4362-9253-8da284e83332"
      },
      "source": [
        "data.resample('M', on='Time').mean()['Temperature'].plot()"
      ],
      "execution_count": 375,
      "outputs": [
        {
          "output_type": "execute_result",
          "data": {
            "text/plain": [
              "<matplotlib.axes._subplots.AxesSubplot at 0x7f334c9efb90>"
            ]
          },
          "metadata": {
            "tags": []
          },
          "execution_count": 375
        },
        {
          "output_type": "display_data",
          "data": {
            "image/png": "[encoded data removed]",
            "text/plain": [
              "<Figure size 432x288 with 1 Axes>"
            ]
          },
          "metadata": {
            "tags": [],
            "needs_background": "light"
          }
        }
      ]
    },
    {
      "cell_type": "markdown",
      "metadata": {
        "id": "oXJspeTgSMXp"
      },
      "source": [
        "Distribuicao das temperaturas ao longo do ano de acordo com os meses"
      ]
    },
    {
      "cell_type": "code",
      "metadata": {
        "id": "Nf1RFfCBLJqd",
        "colab": {
          "base_uri": "https://localhost:8080/",
          "height": 0
        },
        "outputId": "832040f7-a30a-4855-d16f-bc5d42af3218"
      },
      "source": [
        "sns.violinplot(x=data['Time'].dt.month, y=data['Temperature'] )"
      ],
      "execution_count": 376,
      "outputs": [
        {
          "output_type": "execute_result",
          "data": {
            "text/plain": [
              "<matplotlib.axes._subplots.AxesSubplot at 0x7f334bfc5c90>"
            ]
          },
          "metadata": {
            "tags": []
          },
          "execution_count": 376
        },
        {
          "output_type": "display_data",
          "data": {
            "image/png": "[encoded data removed]",
            "text/plain": [
              "<Figure size 432x288 with 1 Axes>"
            ]
          },
          "metadata": {
            "tags": [],
            "needs_background": "light"
          }
        }
      ]
    },
    {
      "cell_type": "markdown",
      "metadata": {
        "id": "lv60psOmIE_q"
      },
      "source": [
        "### Dew Point"
      ]
    },
    {
      "cell_type": "markdown",
      "metadata": {
        "id": "ge1OFiGASh4d"
      },
      "source": [
        "Descricao do ponto de condensação da água"
      ]
    },
    {
      "cell_type": "code",
      "metadata": {
        "colab": {
          "base_uri": "https://localhost:8080/"
        },
        "id": "tZo3zBlyIHZK",
        "outputId": "61aa6f32-7620-4043-88f7-98cd21e8afed"
      },
      "source": [
        "data['Dew Point'].describe()"
      ],
      "execution_count": 377,
      "outputs": [
        {
          "output_type": "execute_result",
          "data": {
            "text/plain": [
              "count    10246.000000\n",
              "mean        43.948175\n",
              "std         17.607824\n",
              "min          0.000000\n",
              "25%         31.000000\n",
              "50%         43.000000\n",
              "75%         60.000000\n",
              "max         75.000000\n",
              "Name: Dew Point, dtype: float64"
            ]
          },
          "metadata": {
            "tags": []
          },
          "execution_count": 377
        }
      ]
    },
    {
      "cell_type": "markdown",
      "metadata": {
        "id": "NWoRsxSmSntH"
      },
      "source": [
        "Pontos de condensação da água medios mensais ao longo do ano"
      ]
    },
    {
      "cell_type": "code",
      "metadata": {
        "id": "Y8bzKUF2ISQa",
        "colab": {
          "base_uri": "https://localhost:8080/",
          "height": 0
        },
        "outputId": "281d22c3-b1d3-43ec-c51d-fe5555fcca1d"
      },
      "source": [
        "data.resample('M', on='Time').mean()['Dew Point'].plot()"
      ],
      "execution_count": 378,
      "outputs": [
        {
          "output_type": "execute_result",
          "data": {
            "text/plain": [
              "<matplotlib.axes._subplots.AxesSubplot at 0x7f334beccb10>"
            ]
          },
          "metadata": {
            "tags": []
          },
          "execution_count": 378
        },
        {
          "output_type": "display_data",
          "data": {
            "image/png": "[encoded data removed]",
            "text/plain": [
              "<Figure size 432x288 with 1 Axes>"
            ]
          },
          "metadata": {
            "tags": [],
            "needs_background": "light"
          }
        }
      ]
    },
    {
      "cell_type": "markdown",
      "metadata": {
        "id": "MqcDR1cCTQOR"
      },
      "source": [
        "Distribuicao dos pontos de condensação da água ao longo do ano de acordo com os meses"
      ]
    },
    {
      "cell_type": "code",
      "metadata": {
        "colab": {
          "base_uri": "https://localhost:8080/",
          "height": 0
        },
        "id": "vrXfnPFYLPQp",
        "outputId": "ee33ecf4-d798-4f00-ab66-6886903b6dff"
      },
      "source": [
        "sns.violinplot(x=data['Time'].dt.month, y=data['Dew Point'] )"
      ],
      "execution_count": 379,
      "outputs": [
        {
          "output_type": "execute_result",
          "data": {
            "text/plain": [
              "<matplotlib.axes._subplots.AxesSubplot at 0x7f334c33bc10>"
            ]
          },
          "metadata": {
            "tags": []
          },
          "execution_count": 379
        },
        {
          "output_type": "display_data",
          "data": {
            "image/png": "[encoded data removed]",
            "text/plain": [
              "<Figure size 432x288 with 1 Axes>"
            ]
          },
          "metadata": {
            "tags": [],
            "needs_background": "light"
          }
        }
      ]
    },
    {
      "cell_type": "markdown",
      "metadata": {
        "id": "vwUXEyFTTh9e"
      },
      "source": [
        "### Humidity"
      ]
    },
    {
      "cell_type": "markdown",
      "metadata": {
        "id": "kcMmCBXTTh9q"
      },
      "source": [
        "Descricao da Humidade"
      ]
    },
    {
      "cell_type": "code",
      "metadata": {
        "colab": {
          "base_uri": "https://localhost:8080/"
        },
        "id": "l0IYkfHRTh9r",
        "outputId": "7ab2b91e-6094-4ee7-9a80-3367722e4608"
      },
      "source": [
        "data['Humidity'].describe()"
      ],
      "execution_count": 380,
      "outputs": [
        {
          "output_type": "execute_result",
          "data": {
            "text/plain": [
              "count    10246.000000\n",
              "mean         0.621752\n",
              "std          0.191933\n",
              "min          0.140000\n",
              "25%          0.470000\n",
              "50%          0.630000\n",
              "75%          0.790000\n",
              "max          1.000000\n",
              "Name: Humidity, dtype: float64"
            ]
          },
          "metadata": {
            "tags": []
          },
          "execution_count": 380
        }
      ]
    },
    {
      "cell_type": "markdown",
      "metadata": {
        "id": "xPH5dXAHTh9s"
      },
      "source": [
        "Humidades medias mensais ao longo do ano"
      ]
    },
    {
      "cell_type": "code",
      "metadata": {
        "colab": {
          "base_uri": "https://localhost:8080/",
          "height": 0
        },
        "id": "OdGzYNeaTh9s",
        "outputId": "f95757ef-e785-4642-86d0-25a287d47edb"
      },
      "source": [
        "data.resample('M', on='Time').mean()['Humidity'].plot()"
      ],
      "execution_count": 381,
      "outputs": [
        {
          "output_type": "execute_result",
          "data": {
            "text/plain": [
              "<matplotlib.axes._subplots.AxesSubplot at 0x7f334ca21550>"
            ]
          },
          "metadata": {
            "tags": []
          },
          "execution_count": 381
        },
        {
          "output_type": "display_data",
          "data": {
            "image/png": "[encoded data removed]",
            "text/plain": [
              "<Figure size 432x288 with 1 Axes>"
            ]
          },
          "metadata": {
            "tags": [],
            "needs_background": "light"
          }
        }
      ]
    },
    {
      "cell_type": "markdown",
      "metadata": {
        "id": "UTgLhfhATh9s"
      },
      "source": [
        "Distribuicao das humidades ao longo do ano de acordo com os meses"
      ]
    },
    {
      "cell_type": "code",
      "metadata": {
        "colab": {
          "base_uri": "https://localhost:8080/",
          "height": 0
        },
        "id": "Ey6QbGS3Th9s",
        "outputId": "9937876b-864d-4c94-eac9-c4157979cfad"
      },
      "source": [
        "sns.violinplot(x=data['Time'].dt.month, y=data['Humidity'] )"
      ],
      "execution_count": 382,
      "outputs": [
        {
          "output_type": "execute_result",
          "data": {
            "text/plain": [
              "<matplotlib.axes._subplots.AxesSubplot at 0x7f334be8fa50>"
            ]
          },
          "metadata": {
            "tags": []
          },
          "execution_count": 382
        },
        {
          "output_type": "display_data",
          "data": {
            "image/png": "[encoded data removed]",
            "text/plain": [
              "<Figure size 432x288 with 1 Axes>"
            ]
          },
          "metadata": {
            "tags": [],
            "needs_background": "light"
          }
        }
      ]
    },
    {
      "cell_type": "markdown",
      "metadata": {
        "id": "iQWk0YjfUIjh"
      },
      "source": [
        "### Wind"
      ]
    },
    {
      "cell_type": "markdown",
      "metadata": {
        "id": "_PgrQWmFUIjs"
      },
      "source": [
        "Descricao do vento"
      ]
    },
    {
      "cell_type": "code",
      "metadata": {
        "colab": {
          "base_uri": "https://localhost:8080/"
        },
        "id": "wD309BJLUIjs",
        "outputId": "3ae122f3-9379-47a0-e379-b1ce873ef9c8"
      },
      "source": [
        "data['Wind'].describe()"
      ],
      "execution_count": 383,
      "outputs": [
        {
          "output_type": "execute_result",
          "data": {
            "text/plain": [
              "count     10246\n",
              "unique       18\n",
              "top           S\n",
              "freq       1306\n",
              "Name: Wind, dtype: object"
            ]
          },
          "metadata": {
            "tags": []
          },
          "execution_count": 383
        }
      ]
    },
    {
      "cell_type": "markdown",
      "metadata": {
        "id": "GZ86258fhNSz"
      },
      "source": [
        "Contagem das direçoes dos ventos"
      ]
    },
    {
      "cell_type": "code",
      "metadata": {
        "colab": {
          "base_uri": "https://localhost:8080/",
          "height": 0
        },
        "id": "pFhh8poDUTDH",
        "outputId": "75052208-5d40-4220-bbe0-9197c880816b"
      },
      "source": [
        "data['Wind'].hist()"
      ],
      "execution_count": 384,
      "outputs": [
        {
          "output_type": "execute_result",
          "data": {
            "text/plain": [
              "<matplotlib.axes._subplots.AxesSubplot at 0x7f334c59c290>"
            ]
          },
          "metadata": {
            "tags": []
          },
          "execution_count": 384
        },
        {
          "output_type": "display_data",
          "data": {
            "image/png": "[encoded data removed]",
            "text/plain": [
              "<Figure size 432x288 with 1 Axes>"
            ]
          },
          "metadata": {
            "tags": [],
            "needs_background": "light"
          }
        }
      ]
    },
    {
      "cell_type": "markdown",
      "metadata": {
        "id": "SjrRlN3VhYpG"
      },
      "source": [
        "### Wind speed\n"
      ]
    },
    {
      "cell_type": "markdown",
      "metadata": {
        "id": "WtEByAuMhYpR"
      },
      "source": [
        "Descricao da velocidade do vento"
      ]
    },
    {
      "cell_type": "code",
      "metadata": {
        "colab": {
          "base_uri": "https://localhost:8080/"
        },
        "id": "7E93tY1mhYpR",
        "outputId": "f444f8a3-22ed-442c-eb82-e7802d209858"
      },
      "source": [
        "data['Wind Speed'].describe()"
      ],
      "execution_count": 385,
      "outputs": [
        {
          "output_type": "execute_result",
          "data": {
            "text/plain": [
              "count    10246.000000\n",
              "mean        10.654792\n",
              "std          5.728815\n",
              "min          0.000000\n",
              "25%          7.000000\n",
              "50%          9.000000\n",
              "75%         14.000000\n",
              "max         53.000000\n",
              "Name: Wind Speed, dtype: float64"
            ]
          },
          "metadata": {
            "tags": []
          },
          "execution_count": 385
        }
      ]
    },
    {
      "cell_type": "markdown",
      "metadata": {
        "id": "Rka_U6axhYpS"
      },
      "source": [
        "velocidades do vento medias mensais ao longo do ano"
      ]
    },
    {
      "cell_type": "code",
      "metadata": {
        "colab": {
          "base_uri": "https://localhost:8080/",
          "height": 0
        },
        "id": "dHgUSp3VhYpS",
        "outputId": "b77033ba-82bc-42cb-d645-592ece826889"
      },
      "source": [
        "data.resample('M', on='Time').mean()['Wind Speed'].plot()"
      ],
      "execution_count": 386,
      "outputs": [
        {
          "output_type": "execute_result",
          "data": {
            "text/plain": [
              "<matplotlib.axes._subplots.AxesSubplot at 0x7f334c6323d0>"
            ]
          },
          "metadata": {
            "tags": []
          },
          "execution_count": 386
        },
        {
          "output_type": "display_data",
          "data": {
            "image/png": "[encoded data removed]",
            "text/plain": [
              "<Figure size 432x288 with 1 Axes>"
            ]
          },
          "metadata": {
            "tags": [],
            "needs_background": "light"
          }
        }
      ]
    },
    {
      "cell_type": "markdown",
      "metadata": {
        "id": "vYXOWrkfhYpS"
      },
      "source": [
        "Distribuicao das velocidades do vento ao longo do ano de acordo com os meses"
      ]
    },
    {
      "cell_type": "code",
      "metadata": {
        "colab": {
          "base_uri": "https://localhost:8080/",
          "height": 0
        },
        "id": "NOp3KOCuhYpS",
        "outputId": "d848ca4b-2f5b-4b75-c6a5-de8a61be03fc"
      },
      "source": [
        "sns.violinplot(x=data['Time'].dt.month, y=data['Wind Speed'] )"
      ],
      "execution_count": 387,
      "outputs": [
        {
          "output_type": "execute_result",
          "data": {
            "text/plain": [
              "<matplotlib.axes._subplots.AxesSubplot at 0x7f334bf748d0>"
            ]
          },
          "metadata": {
            "tags": []
          },
          "execution_count": 387
        },
        {
          "output_type": "display_data",
          "data": {
            "image/png": "[encoded data removed]",
            "text/plain": [
              "<Figure size 432x288 with 1 Axes>"
            ]
          },
          "metadata": {
            "tags": [],
            "needs_background": "light"
          }
        }
      ]
    },
    {
      "cell_type": "markdown",
      "metadata": {
        "id": "irh_ZbhIh_Bm"
      },
      "source": [
        "### Wind gust\n",
        "\n"
      ]
    },
    {
      "cell_type": "markdown",
      "metadata": {
        "id": "LKLWOrYth_By"
      },
      "source": [
        "Descricao da velocidade de rajada do vento"
      ]
    },
    {
      "cell_type": "code",
      "metadata": {
        "colab": {
          "base_uri": "https://localhost:8080/"
        },
        "id": "XP1SFkkGh_By",
        "outputId": "149239fe-3f3e-4363-e8e3-dc227816ae8e"
      },
      "source": [
        "data['Wind Gust'].describe()"
      ],
      "execution_count": 388,
      "outputs": [
        {
          "output_type": "execute_result",
          "data": {
            "text/plain": [
              "count    10246.000000\n",
              "mean         4.830470\n",
              "std         10.928297\n",
              "min          0.000000\n",
              "25%          0.000000\n",
              "50%          0.000000\n",
              "75%          0.000000\n",
              "max         69.000000\n",
              "Name: Wind Gust, dtype: float64"
            ]
          },
          "metadata": {
            "tags": []
          },
          "execution_count": 388
        }
      ]
    },
    {
      "cell_type": "markdown",
      "metadata": {
        "id": "irUCnLDHh_Bz"
      },
      "source": [
        "velocidades de rajada do vento medias mensais ao longo do ano"
      ]
    },
    {
      "cell_type": "code",
      "metadata": {
        "colab": {
          "base_uri": "https://localhost:8080/",
          "height": 0
        },
        "id": "Ys_6vEbMh_Bz",
        "outputId": "1a7ccc6d-c30d-40e0-f9a5-30ab6793c0ac"
      },
      "source": [
        "data.resample('M', on='Time').mean()['Wind Gust'].plot()"
      ],
      "execution_count": 389,
      "outputs": [
        {
          "output_type": "execute_result",
          "data": {
            "text/plain": [
              "<matplotlib.axes._subplots.AxesSubplot at 0x7f334c75e450>"
            ]
          },
          "metadata": {
            "tags": []
          },
          "execution_count": 389
        },
        {
          "output_type": "display_data",
          "data": {
            "image/png": "[encoded data removed]",
            "text/plain": [
              "<Figure size 432x288 with 1 Axes>"
            ]
          },
          "metadata": {
            "tags": [],
            "needs_background": "light"
          }
        }
      ]
    },
    {
      "cell_type": "markdown",
      "metadata": {
        "id": "HBfzjnKch_Bz"
      },
      "source": [
        "Distribuicao das velocidades de rajada do vento ao longo do ano de acordo com os meses"
      ]
    },
    {
      "cell_type": "code",
      "metadata": {
        "colab": {
          "base_uri": "https://localhost:8080/",
          "height": 0
        },
        "id": "WsMRicbxh_Bz",
        "outputId": "3191c000-214d-4d14-c7c3-f1aa7725b768"
      },
      "source": [
        "sns.violinplot(x=data['Time'].dt.month, y=data['Wind Gust'] )"
      ],
      "execution_count": 390,
      "outputs": [
        {
          "output_type": "execute_result",
          "data": {
            "text/plain": [
              "<matplotlib.axes._subplots.AxesSubplot at 0x7f334db89a50>"
            ]
          },
          "metadata": {
            "tags": []
          },
          "execution_count": 390
        },
        {
          "output_type": "display_data",
          "data": {
            "image/png": "[encoded data removed]",
            "text/plain": [
              "<Figure size 432x288 with 1 Axes>"
            ]
          },
          "metadata": {
            "tags": [],
            "needs_background": "light"
          }
        }
      ]
    },
    {
      "cell_type": "markdown",
      "metadata": {
        "id": "ZzX5mFSBibHo"
      },
      "source": [
        "### Pressure\n",
        "\n"
      ]
    },
    {
      "cell_type": "markdown",
      "metadata": {
        "id": "rQiTFHbLibHz"
      },
      "source": [
        "Descricao da pressao"
      ]
    },
    {
      "cell_type": "code",
      "metadata": {
        "colab": {
          "base_uri": "https://localhost:8080/"
        },
        "id": "yjkCF9c6ibHz",
        "outputId": "b7390b9b-4820-4aea-ff07-fc9159894a3b"
      },
      "source": [
        "data['Pressure'].describe()"
      ],
      "execution_count": 391,
      "outputs": [
        {
          "output_type": "execute_result",
          "data": {
            "text/plain": [
              "count    10246.000000\n",
              "mean        29.990655\n",
              "std          0.381287\n",
              "min          0.000000\n",
              "25%         29.840000\n",
              "50%         29.980000\n",
              "75%         30.150000\n",
              "max         30.740000\n",
              "Name: Pressure, dtype: float64"
            ]
          },
          "metadata": {
            "tags": []
          },
          "execution_count": 391
        }
      ]
    },
    {
      "cell_type": "markdown",
      "metadata": {
        "id": "AFEYNj2PibH0"
      },
      "source": [
        "pressoes medias mensais ao longo do ano"
      ]
    },
    {
      "cell_type": "code",
      "metadata": {
        "colab": {
          "base_uri": "https://localhost:8080/",
          "height": 0
        },
        "id": "Bl6wl-JkibH0",
        "outputId": "92121274-1329-40df-d6ae-bfd7a6103716"
      },
      "source": [
        "data.resample('M', on='Time').mean()['Pressure'].plot()"
      ],
      "execution_count": 392,
      "outputs": [
        {
          "output_type": "execute_result",
          "data": {
            "text/plain": [
              "<matplotlib.axes._subplots.AxesSubplot at 0x7f334cc3f810>"
            ]
          },
          "metadata": {
            "tags": []
          },
          "execution_count": 392
        },
        {
          "output_type": "display_data",
          "data": {
            "image/png": "[encoded data removed]",
            "text/plain": [
              "<Figure size 432x288 with 1 Axes>"
            ]
          },
          "metadata": {
            "tags": [],
            "needs_background": "light"
          }
        }
      ]
    },
    {
      "cell_type": "markdown",
      "metadata": {
        "id": "SXAPztKXibH0"
      },
      "source": [
        "Distribuicao das pressoes ao longo do ano de acordo com os meses"
      ]
    },
    {
      "cell_type": "code",
      "metadata": {
        "colab": {
          "base_uri": "https://localhost:8080/",
          "height": 0
        },
        "id": "rAcgVIsMibH1",
        "outputId": "b75175b2-2786-4c30-f236-4d7d13c08af3"
      },
      "source": [
        "sns.violinplot(x=data['Time'].dt.month, y=data['Pressure'] )"
      ],
      "execution_count": 393,
      "outputs": [
        {
          "output_type": "execute_result",
          "data": {
            "text/plain": [
              "<matplotlib.axes._subplots.AxesSubplot at 0x7f334cc69750>"
            ]
          },
          "metadata": {
            "tags": []
          },
          "execution_count": 393
        },
        {
          "output_type": "display_data",
          "data": {
            "image/png": "[encoded data removed]",
            "text/plain": [
              "<Figure size 432x288 with 1 Axes>"
            ]
          },
          "metadata": {
            "tags": [],
            "needs_background": "light"
          }
        }
      ]
    },
    {
      "cell_type": "markdown",
      "metadata": {
        "id": "38K-h5Hfi8su"
      },
      "source": [
        "Removendo esse outlier de pressao (erro) através da insercao da media"
      ]
    },
    {
      "cell_type": "code",
      "metadata": {
        "id": "Stj0C3EXitPF"
      },
      "source": [
        "pressao = []\n",
        "for index, row in data.iterrows():\n",
        "  if(row['Pressure']) < 20:\n",
        "    pressao.append(data['Pressure'].mean())\n",
        "  else:\n",
        "    pressao.append(row['Pressure'])\n",
        "data['Pressure'] = pressao"
      ],
      "execution_count": 394,
      "outputs": []
    },
    {
      "cell_type": "markdown",
      "metadata": {
        "id": "JJwYW8vyj68y"
      },
      "source": [
        "Verificando correcao"
      ]
    },
    {
      "cell_type": "code",
      "metadata": {
        "id": "_9vxzoYbjLTC",
        "colab": {
          "base_uri": "https://localhost:8080/",
          "height": 0
        },
        "outputId": "925b30a2-c9c6-4efb-c4bf-4f0b856a5615"
      },
      "source": [
        "sns.violinplot(x=data['Time'].dt.month, y=data['Pressure'] )"
      ],
      "execution_count": 395,
      "outputs": [
        {
          "output_type": "execute_result",
          "data": {
            "text/plain": [
              "<matplotlib.axes._subplots.AxesSubplot at 0x7f334bf9e810>"
            ]
          },
          "metadata": {
            "tags": []
          },
          "execution_count": 395
        },
        {
          "output_type": "display_data",
          "data": {
            "image/png": "[encoded data removed]",
            "text/plain": [
              "<Figure size 432x288 with 1 Axes>"
            ]
          },
          "metadata": {
            "tags": [],
            "needs_background": "light"
          }
        }
      ]
    },
    {
      "cell_type": "markdown",
      "metadata": {
        "id": "Eef1MRW4kyS6"
      },
      "source": [
        "### Preciptation\n",
        "\n"
      ]
    },
    {
      "cell_type": "markdown",
      "metadata": {
        "id": "hzpV2F25kyTE"
      },
      "source": [
        "Descricao da precipitacao"
      ]
    },
    {
      "cell_type": "code",
      "metadata": {
        "colab": {
          "base_uri": "https://localhost:8080/"
        },
        "id": "xdb9K8RVkyTE",
        "outputId": "a5bf12be-0663-4bb6-802e-cab1e5ff8451"
      },
      "source": [
        "data['Preciptation'].describe()"
      ],
      "execution_count": 396,
      "outputs": [
        {
          "output_type": "execute_result",
          "data": {
            "text/plain": [
              "count    10246.000000\n",
              "mean         0.000641\n",
              "std          0.004098\n",
              "min          0.000000\n",
              "25%          0.000000\n",
              "50%          0.000000\n",
              "75%          0.000000\n",
              "max          0.130000\n",
              "Name: Preciptation, dtype: float64"
            ]
          },
          "metadata": {
            "tags": []
          },
          "execution_count": 396
        }
      ]
    },
    {
      "cell_type": "markdown",
      "metadata": {
        "id": "cWbfv01ckyTF"
      },
      "source": [
        "precipitacoes medias mensais ao longo do ano"
      ]
    },
    {
      "cell_type": "code",
      "metadata": {
        "colab": {
          "base_uri": "https://localhost:8080/",
          "height": 0
        },
        "id": "xG6SrT-qkyTF",
        "outputId": "98233607-cf72-4a7d-ef23-8d6240a78654"
      },
      "source": [
        "data.resample('M', on='Time').mean()['Preciptation'].plot()"
      ],
      "execution_count": 397,
      "outputs": [
        {
          "output_type": "execute_result",
          "data": {
            "text/plain": [
              "<matplotlib.axes._subplots.AxesSubplot at 0x7f334bf12050>"
            ]
          },
          "metadata": {
            "tags": []
          },
          "execution_count": 397
        },
        {
          "output_type": "display_data",
          "data": {
            "image/png": "[encoded data removed]",
            "text/plain": [
              "<Figure size 432x288 with 1 Axes>"
            ]
          },
          "metadata": {
            "tags": [],
            "needs_background": "light"
          }
        }
      ]
    },
    {
      "cell_type": "markdown",
      "metadata": {
        "id": "UyLqDba1kyTF"
      },
      "source": [
        "Distribuicao das precipitacoes ao longo do ano de acordo com os meses"
      ]
    },
    {
      "cell_type": "code",
      "metadata": {
        "colab": {
          "base_uri": "https://localhost:8080/",
          "height": 0
        },
        "id": "EDoqafrTkyTF",
        "outputId": "aeb6ea45-20fc-4bb2-fdfa-a147a8e83409"
      },
      "source": [
        "sns.violinplot(x=data['Time'].dt.month, y=data['Preciptation'] )"
      ],
      "execution_count": 398,
      "outputs": [
        {
          "output_type": "execute_result",
          "data": {
            "text/plain": [
              "<matplotlib.axes._subplots.AxesSubplot at 0x7f334c451bd0>"
            ]
          },
          "metadata": {
            "tags": []
          },
          "execution_count": 398
        },
        {
          "output_type": "display_data",
          "data": {
            "image/png": "[encoded data removed]",
            "text/plain": [
              "<Figure size 432x288 with 1 Axes>"
            ]
          },
          "metadata": {
            "tags": [],
            "needs_background": "light"
          }
        }
      ]
    },
    {
      "cell_type": "markdown",
      "metadata": {
        "id": "w2mGPr-hlbER"
      },
      "source": [
        "### Condition"
      ]
    },
    {
      "cell_type": "markdown",
      "metadata": {
        "id": "UvkanL_SlbEc"
      },
      "source": [
        "Descricao da condicao"
      ]
    },
    {
      "cell_type": "code",
      "metadata": {
        "colab": {
          "base_uri": "https://localhost:8080/"
        },
        "id": "UpiBXBmxlbEc",
        "outputId": "befb46a2-9207-4920-967b-36b33fa899e8"
      },
      "source": [
        "data['Condition'].describe()"
      ],
      "execution_count": 399,
      "outputs": [
        {
          "output_type": "execute_result",
          "data": {
            "text/plain": [
              "count             10246\n",
              "unique               40\n",
              "top       Mostly Cloudy\n",
              "freq               2829\n",
              "Name: Condition, dtype: object"
            ]
          },
          "metadata": {
            "tags": []
          },
          "execution_count": 399
        }
      ]
    },
    {
      "cell_type": "markdown",
      "metadata": {
        "id": "h8fPCLI_lbEc"
      },
      "source": [
        "Contagem das condicoes"
      ]
    },
    {
      "cell_type": "code",
      "metadata": {
        "colab": {
          "base_uri": "https://localhost:8080/",
          "height": 0
        },
        "id": "p209t1GAlbEd",
        "outputId": "29fd3600-bd2b-48d1-980d-8d4ff7bffe00"
      },
      "source": [
        "data['Condition'].hist()"
      ],
      "execution_count": 400,
      "outputs": [
        {
          "output_type": "execute_result",
          "data": {
            "text/plain": [
              "<matplotlib.axes._subplots.AxesSubplot at 0x7f334bf9efd0>"
            ]
          },
          "metadata": {
            "tags": []
          },
          "execution_count": 400
        },
        {
          "output_type": "display_data",
          "data": {
            "image/png": "[encoded data removed]",
            "text/plain": [
              "<Figure size 432x288 with 1 Axes>"
            ]
          },
          "metadata": {
            "tags": [],
            "needs_background": "light"
          }
        }
      ]
    },
    {
      "cell_type": "markdown",
      "metadata": {
        "id": "zmi1Cs7-OXY7"
      },
      "source": [
        "## Teste de hipóteses"
      ]
    },
    {
      "cell_type": "markdown",
      "metadata": {
        "id": "yXolSkkKO8yL"
      },
      "source": [
        "Podemos Observar uma grande diferença entre a temperatura no mes de Julho e no restante do ano. Logo podemos fazer a seguinte inferência: A temperatura Média em julho é diferente da temperatura no restante do ano em NY "
      ]
    },
    {
      "cell_type": "markdown",
      "metadata": {
        "id": "MPlHk0VmUmZw"
      },
      "source": [
        "H0 : A temperatura média em Julho é igual à temperatura média anual.\n",
        "\n",
        "Ha: A temperatura média em Julho Não é igual à temperatura média anual"
      ]
    },
    {
      "cell_type": "code",
      "metadata": {
        "colab": {
          "base_uri": "https://localhost:8080/",
          "height": 0
        },
        "id": "28-XvQyrSH-Z",
        "outputId": "81bf7baf-8faa-4d98-c7ec-45ba911ee503"
      },
      "source": [
        "data.resample('M', on='Time').mean()['Temperature'].plot.bar()"
      ],
      "execution_count": 401,
      "outputs": [
        {
          "output_type": "execute_result",
          "data": {
            "text/plain": [
              "<matplotlib.axes._subplots.AxesSubplot at 0x7f334baae1d0>"
            ]
          },
          "metadata": {
            "tags": []
          },
          "execution_count": 401
        },
        {
          "output_type": "display_data",
          "data": {
            "image/png": "[encoded data removed]",
            "text/plain": [
              "<Figure size 432x288 with 1 Axes>"
            ]
          },
          "metadata": {
            "tags": [],
            "needs_background": "light"
          }
        }
      ]
    },
    {
      "cell_type": "code",
      "metadata": {
        "id": "xSjQej_VPr7N"
      },
      "source": [
        "M = data.Temperature.mean() # Colhendo a temperatura média anual\n",
        "X = data.resample('M', on='Time').mean()['Temperature'][7] #Colhendo a temperatura média para o mês de Julho\n",
        "sigma = data.resample('M', on='Time').std()['Temperature'][7] #Colhendo o desvio padrão populacional\n",
        "alfa = 0.05\n",
        "days= 31\n",
        "Z = 1.88"
      ],
      "execution_count": 402,
      "outputs": []
    },
    {
      "cell_type": "code",
      "metadata": {
        "id": "JYY4E6GDP31d",
        "colab": {
          "base_uri": "https://localhost:8080/"
        },
        "outputId": "f89763a6-4022-4e1c-d92c-99fc56301de6"
      },
      "source": [
        "# Calculando Z-score\n",
        "zo = (X - M)/(sigma/np.sqrt(31))\n",
        "zo"
      ],
      "execution_count": 403,
      "outputs": [
        {
          "output_type": "execute_result",
          "data": {
            "text/plain": [
              "20.28228731607314"
            ]
          },
          "metadata": {
            "tags": []
          },
          "execution_count": 403
        }
      ]
    },
    {
      "cell_type": "markdown",
      "metadata": {
        "id": "NRIPiWZaZQMG"
      },
      "source": [
        "Olhando na tabela de distribuição normal vemos que Zo pertece à região crítica, abandonamos então a hipótese nula. \n",
        "\n",
        "Logo, com um nível de significancia de 5% podemos afirmar que a temperatura média em Julho não é igual à temperatura média"
      ]
    },
    {
      "cell_type": "markdown",
      "metadata": {
        "id": "5we0khLD8j7-"
      },
      "source": [
        "# Projeto 2"
      ]
    },
    {
      "cell_type": "markdown",
      "metadata": {
        "id": "dlnk6z6x8qhB"
      },
      "source": [
        "## Selecionando coluna para predição"
      ]
    },
    {
      "cell_type": "markdown",
      "metadata": {
        "id": "CqyVHn0MAiw4"
      },
      "source": [
        "### Matriz de correlação"
      ]
    },
    {
      "cell_type": "code",
      "metadata": {
        "colab": {
          "base_uri": "https://localhost:8080/",
          "height": 0
        },
        "id": "CrlwQGhs8nTY",
        "outputId": "269549be-cfa1-4a66-b620-08485c561345"
      },
      "source": [
        "import matplotlib.pyplot as plt \n",
        "\n",
        "corrMatrix = data.corr()\n",
        "plt.figure(figsize=(12, 12))\n",
        "sns.heatmap(corrMatrix, annot=True,)"
      ],
      "execution_count": 404,
      "outputs": [
        {
          "output_type": "execute_result",
          "data": {
            "text/plain": [
              "<matplotlib.axes._subplots.AxesSubplot at 0x7f334bb89dd0>"
            ]
          },
          "metadata": {
            "tags": []
          },
          "execution_count": 404
        },
        {
          "output_type": "display_data",
          "data": {
            "image/png": "[encoded data removed]",
            "text/plain": [
              "<Figure size 864x864 with 2 Axes>"
            ]
          },
          "metadata": {
            "tags": [],
            "needs_background": "light"
          }
        }
      ]
    },
    {
      "cell_type": "markdown",
      "metadata": {
        "id": "nxywq6cBAmyY"
      },
      "source": [
        "### A coluna de temperatura foi escolhida para ser predita"
      ]
    },
    {
      "cell_type": "code",
      "metadata": {
        "colab": {
          "base_uri": "https://localhost:8080/"
        },
        "id": "oHtwRket8-ku",
        "outputId": "b561e6b6-b6de-4c12-e109-29639bb62e69"
      },
      "source": [
        "data.Temperature.value_counts()"
      ],
      "execution_count": 405,
      "outputs": [
        {
          "output_type": "execute_result",
          "data": {
            "text/plain": [
              "45    284\n",
              "42    267\n",
              "75    265\n",
              "43    259\n",
              "50    257\n",
              "     ... \n",
              "16      3\n",
              "19      2\n",
              "20      2\n",
              "15      2\n",
              "17      1\n",
              "Name: Temperature, Length: 83, dtype: int64"
            ]
          },
          "metadata": {
            "tags": []
          },
          "execution_count": 405
        }
      ]
    },
    {
      "cell_type": "code",
      "metadata": {
        "colab": {
          "base_uri": "https://localhost:8080/"
        },
        "id": "BzhHwIwZ9Ue7",
        "outputId": "839c4eb6-8580-4064-b9b8-1a818cd1b5b0"
      },
      "source": [
        "data.Temperature.unique()"
      ],
      "execution_count": 406,
      "outputs": [
        {
          "output_type": "execute_result",
          "data": {
            "text/plain": [
              "array([40, 39, 38, 37, 36, 34, 35, 42, 43, 45, 46, 48, 49, 47, 44, 41, 33,\n",
              "       32, 30, 29, 28, 27, 26, 25, 24, 31, 52, 53, 51, 50, 58, 60, 63, 64,\n",
              "       62, 59, 55, 54, 56, 57, 61, 65, 66, 67, 23, 22, 21, 20, 19, 18, 17,\n",
              "       16, 15, 68, 70, 71, 72, 69, 73, 77, 75, 74, 78, 80, 79, 76, 82, 83,\n",
              "       85, 84, 81, 86, 88, 89, 91, 90, 87, 93, 92, 94, 95, 96, 97])"
            ]
          },
          "metadata": {
            "tags": []
          },
          "execution_count": 406
        }
      ]
    },
    {
      "cell_type": "code",
      "metadata": {
        "id": "6eEfF-dxA5MR"
      },
      "source": [
        "data = data[['Dew Point', 'Humidity', 'Wind Speed', 'Wind Gust', 'Pressure', 'Preciptation', 'Temperature']].copy()"
      ],
      "execution_count": 407,
      "outputs": []
    },
    {
      "cell_type": "code",
      "metadata": {
        "colab": {
          "base_uri": "https://localhost:8080/",
          "height": 0
        },
        "id": "A4XyiCJ1BLXe",
        "outputId": "454044b0-9a01-4e6a-d346-1b35f99352d9"
      },
      "source": [
        "data.head()"
      ],
      "execution_count": 408,
      "outputs": [
        {
          "output_type": "execute_result",
          "data": {
            "text/html": [
              "<div>\n",
              "<style scoped>\n",
              "    .dataframe tbody tr th:only-of-type {\n",
              "        vertical-align: middle;\n",
              "    }\n",
              "\n",
              "    .dataframe tbody tr th {\n",
              "        vertical-align: top;\n",
              "    }\n",
              "\n",
              "    .dataframe thead th {\n",
              "        text-align: right;\n",
              "    }\n",
              "</style>\n",
              "<table border=\"1\" class=\"dataframe\">\n",
              "  <thead>\n",
              "    <tr style=\"text-align: right;\">\n",
              "      <th></th>\n",
              "      <th>Dew Point</th>\n",
              "      <th>Humidity</th>\n",
              "      <th>Wind Speed</th>\n",
              "      <th>Wind Gust</th>\n",
              "      <th>Pressure</th>\n",
              "      <th>Preciptation</th>\n",
              "      <th>Temperature</th>\n",
              "    </tr>\n",
              "  </thead>\n",
              "  <tbody>\n",
              "    <tr>\n",
              "      <th>0</th>\n",
              "      <td>25</td>\n",
              "      <td>0.55</td>\n",
              "      <td>14</td>\n",
              "      <td>24</td>\n",
              "      <td>29.63</td>\n",
              "      <td>0.0</td>\n",
              "      <td>40</td>\n",
              "    </tr>\n",
              "    <tr>\n",
              "      <th>1</th>\n",
              "      <td>26</td>\n",
              "      <td>0.58</td>\n",
              "      <td>17</td>\n",
              "      <td>22</td>\n",
              "      <td>29.64</td>\n",
              "      <td>0.0</td>\n",
              "      <td>40</td>\n",
              "    </tr>\n",
              "    <tr>\n",
              "      <th>2</th>\n",
              "      <td>25</td>\n",
              "      <td>0.55</td>\n",
              "      <td>16</td>\n",
              "      <td>28</td>\n",
              "      <td>29.64</td>\n",
              "      <td>0.0</td>\n",
              "      <td>40</td>\n",
              "    </tr>\n",
              "    <tr>\n",
              "      <th>3</th>\n",
              "      <td>23</td>\n",
              "      <td>0.53</td>\n",
              "      <td>16</td>\n",
              "      <td>0</td>\n",
              "      <td>29.66</td>\n",
              "      <td>0.0</td>\n",
              "      <td>39</td>\n",
              "    </tr>\n",
              "    <tr>\n",
              "      <th>4</th>\n",
              "      <td>23</td>\n",
              "      <td>0.55</td>\n",
              "      <td>14</td>\n",
              "      <td>23</td>\n",
              "      <td>29.66</td>\n",
              "      <td>0.0</td>\n",
              "      <td>38</td>\n",
              "    </tr>\n",
              "  </tbody>\n",
              "</table>\n",
              "</div>"
            ],
            "text/plain": [
              "   Dew Point  Humidity  Wind Speed  ...  Pressure  Preciptation  Temperature\n",
              "0         25      0.55          14  ...     29.63           0.0           40\n",
              "1         26      0.58          17  ...     29.64           0.0           40\n",
              "2         25      0.55          16  ...     29.64           0.0           40\n",
              "3         23      0.53          16  ...     29.66           0.0           39\n",
              "4         23      0.55          14  ...     29.66           0.0           38\n",
              "\n",
              "[5 rows x 7 columns]"
            ]
          },
          "metadata": {
            "tags": []
          },
          "execution_count": 408
        }
      ]
    },
    {
      "cell_type": "markdown",
      "metadata": {
        "id": "oy4KcwERC5lN"
      },
      "source": [
        "## Analisando a coluna de temperatura"
      ]
    },
    {
      "cell_type": "code",
      "metadata": {
        "colab": {
          "base_uri": "https://localhost:8080/",
          "height": 0
        },
        "id": "cTxox99DC7lu",
        "outputId": "3aa187aa-4b06-42e1-834c-c9bed6d1a251"
      },
      "source": [
        "temp = data.Temperature.value_counts().sort_index()\n",
        "plt.plot(temp)"
      ],
      "execution_count": 409,
      "outputs": [
        {
          "output_type": "execute_result",
          "data": {
            "text/plain": [
              "[<matplotlib.lines.Line2D at 0x7f334b9bb610>]"
            ]
          },
          "metadata": {
            "tags": []
          },
          "execution_count": 409
        },
        {
          "output_type": "display_data",
          "data": {
            "image/png": "[encoded data removed]",
            "text/plain": [
              "<Figure size 432x288 with 1 Axes>"
            ]
          },
          "metadata": {
            "tags": [],
            "needs_background": "light"
          }
        }
      ]
    },
    {
      "cell_type": "markdown",
      "metadata": {
        "id": "125JytC8PDk5"
      },
      "source": [
        "## Importando bibliotecas"
      ]
    },
    {
      "cell_type": "code",
      "metadata": {
        "id": "l1vf_vivO-Rk"
      },
      "source": [
        "import matplotlib.pyplot as plt\n",
        "from   sklearn.linear_model import LinearRegression, LogisticRegression, BayesianRidge, Ridge \n",
        "from   sklearn.metrics import r2_score\n",
        "import statsmodels.api as sm\n",
        "from matplotlib import pyplot as plt\n",
        "from sklearn.model_selection import train_test_split\n",
        "\n",
        "import numpy as np\n",
        "\n",
        "def mean_absolute_percentage_error(y_true, y_pred): \n",
        "    y_true, y_pred = np.array(y_true), np.array(y_pred)\n",
        "    return np.mean(np.abs((y_true - y_pred) / y_true)) * 100"
      ],
      "execution_count": 410,
      "outputs": []
    },
    {
      "cell_type": "markdown",
      "metadata": {
        "id": "mFzVnbsdnffm"
      },
      "source": [
        "## Variavel de comparação Geral"
      ]
    },
    {
      "cell_type": "code",
      "metadata": {
        "id": "l5-ZswgXnj6H"
      },
      "source": [
        "Dados = []\n",
        "Algoritmos = ['Reg Linear Simples - Dew Point', 'Reg Linear Múltipla', 'Reg Logística', 'Ridge Bayesiano', 'Ridge']"
      ],
      "execution_count": 411,
      "outputs": []
    },
    {
      "cell_type": "markdown",
      "metadata": {
        "id": "hYoFC1WqKh3p"
      },
      "source": [
        "## Regressão Linear Simples"
      ]
    },
    {
      "cell_type": "code",
      "metadata": {
        "colab": {
          "base_uri": "https://localhost:8080/"
        },
        "id": "Hem-C3ZZLI3P",
        "outputId": "0eabd765-1749-4535-a1d6-de80c8526873"
      },
      "source": [
        "Xs = data['Dew Point'].values.reshape(-1,1)\n",
        "y = data['Temperature'].values.reshape(-1,1)\n",
        "\n",
        "X_train, X_test, y_train, y_test = train_test_split(Xs, y, test_size=0.20, random_state=42)\n",
        "\n",
        "reg = LinearRegression()\n",
        "reg.fit(X_train, y_train)\n",
        "\n",
        "y_true = y_test\n",
        "y_pred = reg.predict(X_test)\n",
        "\n",
        "print(\"O modelo é: Temperature = {:.5} + {:.5}*Dew Point\".format(reg.intercept_[0], reg.coef_[0][0]))"
      ],
      "execution_count": 412,
      "outputs": [
        {
          "output_type": "stream",
          "text": [
            "O modelo é: Temperature = 22.966 + 0.80151*Dew Point\n"
          ],
          "name": "stdout"
        }
      ]
    },
    {
      "cell_type": "code",
      "metadata": {
        "colab": {
          "base_uri": "https://localhost:8080/",
          "height": 0
        },
        "id": "aG9iSLTmLpot",
        "outputId": "998647fd-b616-4ae4-f8c6-5682f014de40"
      },
      "source": [
        "plt.figure(figsize=(10,10))\n",
        "plt.scatter(y_true, y_pred, c='crimson')\n",
        "plt.yscale('log')\n",
        "plt.xscale('log')\n",
        "\n",
        "p1 = max(max(y_pred), max(y_true))\n",
        "p2 = min(min(y_pred), min(y_true))\n",
        "plt.plot([p1, p2], [p1, p2], 'b-')\n",
        "plt.xlabel('True Values', fontsize=15)\n",
        "plt.ylabel('Predictions', fontsize=15)\n",
        "plt.axis('equal')\n",
        "plt.show()"
      ],
      "execution_count": 413,
      "outputs": [
        {
          "output_type": "display_data",
          "data": {
            "image/png": "[encoded data removed]",
            "text/plain": [
              "<Figure size 720x720 with 1 Axes>"
            ]
          },
          "metadata": {
            "tags": [],
            "needs_background": "light"
          }
        }
      ]
    },
    {
      "cell_type": "code",
      "metadata": {
        "colab": {
          "base_uri": "https://localhost:8080/"
        },
        "id": "CN2_8iEjL08I",
        "outputId": "864e00e2-e292-41af-a8cd-441e35fc78a6"
      },
      "source": [
        "mape = mean_absolute_percentage_error(y_true, y_pred)\n",
        "Dados.append(mape)\n",
        "print(mape)"
      ],
      "execution_count": 414,
      "outputs": [
        {
          "output_type": "stream",
          "text": [
            "12.571046334951962\n"
          ],
          "name": "stdout"
        }
      ]
    },
    {
      "cell_type": "markdown",
      "metadata": {
        "id": "Ahi0jI84Gf4K"
      },
      "source": [
        "## Regressão Linear Multipla"
      ]
    },
    {
      "cell_type": "code",
      "metadata": {
        "colab": {
          "base_uri": "https://localhost:8080/"
        },
        "id": "mim29iCHGfIT",
        "outputId": "21e04f83-620f-492e-ee2f-bda875f4c65a"
      },
      "source": [
        "Xs = data.drop(['Temperature'], axis=1).copy()\n",
        "y = data['Temperature'].copy()\n",
        "\n",
        "X_train, X_test, y_train, y_test = train_test_split(Xs, y, test_size=0.20, random_state=42)\n",
        "\n",
        "reg = LinearRegression()\n",
        "reg.fit(X_train, y_train)\n",
        "\n",
        "y_true = y_test\n",
        "y_pred = reg.predict(X_test)\n",
        "\n",
        "print(\"O modelo é: Temperature = {:.5} + {:.5}*Dew Point + {:.5}*Humidity + {:.5}*Wind Speed + {:.5}*Wind Gust + {:.5}*Pressure + {:.5}*Preciptation\".format(reg.intercept_, reg.coef_[0], reg.coef_[1], reg.coef_[2], reg.coef_[3], reg.coef_[4], reg.coef_[5]))"
      ],
      "execution_count": 415,
      "outputs": [
        {
          "output_type": "stream",
          "text": [
            "O modelo é: Temperature = 87.584 + 1.0414*Dew Point + -49.388*Humidity + -0.015559*Wind Speed + -0.0045841*Wind Gust + -1.4761*Pressure + 30.228*Preciptation\n"
          ],
          "name": "stdout"
        }
      ]
    },
    {
      "cell_type": "code",
      "metadata": {
        "colab": {
          "base_uri": "https://localhost:8080/",
          "height": 614
        },
        "id": "VK5C7DSyPqom",
        "outputId": "81c98075-f379-4b40-df43-93082222ea52"
      },
      "source": [
        "plt.figure(figsize=(10,10))\n",
        "plt.scatter(y_true, y_pred, c='crimson')\n",
        "plt.yscale('log')\n",
        "plt.xscale('log')\n",
        "\n",
        "p1 = max(max(y_pred), max(y_true))\n",
        "p2 = min(min(y_pred), min(y_true))\n",
        "plt.plot([p1, p2], [p1, p2], 'b-')\n",
        "plt.xlabel('True Values', fontsize=15)\n",
        "plt.ylabel('Predictions', fontsize=15)\n",
        "plt.axis('equal')\n",
        "plt.show()"
      ],
      "execution_count": 416,
      "outputs": [
        {
          "output_type": "display_data",
          "data": {
            "image/png": "[encoded data removed]",
            "text/plain": [
              "<Figure size 720x720 with 1 Axes>"
            ]
          },
          "metadata": {
            "tags": [],
            "needs_background": "light"
          }
        }
      ]
    },
    {
      "cell_type": "code",
      "metadata": {
        "id": "TUaT0ddDeXMW",
        "outputId": "988f4c5c-e908-4d52-a6d4-e25ab3a3370e",
        "colab": {
          "base_uri": "https://localhost:8080/"
        }
      },
      "source": [
        "mape = mean_absolute_percentage_error(y_true, y_pred)\n",
        "Dados.append(mape)\n",
        "print(mape)"
      ],
      "execution_count": 417,
      "outputs": [
        {
          "output_type": "stream",
          "text": [
            "2.6082545032056688\n"
          ],
          "name": "stdout"
        }
      ]
    },
    {
      "cell_type": "markdown",
      "metadata": {
        "id": "i0CYjap-UM1j"
      },
      "source": [
        "## Regressão logistica"
      ]
    },
    {
      "cell_type": "code",
      "metadata": {
        "id": "lJZHEmWhUL52",
        "outputId": "5951ae67-b837-4dc4-c017-eb146266021d",
        "colab": {
          "base_uri": "https://localhost:8080/"
        }
      },
      "source": [
        "Xs = data.drop(['Temperature'], axis=1).copy()\n",
        "y = data['Temperature'].copy()\n",
        "\n",
        "X_train, X_test, y_train, y_test = train_test_split(Xs, y, test_size=0.40, random_state=42)\n",
        "\n",
        "from sklearn.preprocessing import StandardScaler\n",
        "\n",
        "scaler = StandardScaler().fit(X_train)\n",
        "X_scaled = scaler.transform(X_train)\n",
        "\n",
        "scaler = StandardScaler().fit(X_test)\n",
        "X_test_scaled = scaler.transform(X_test)\n",
        "y_true = y_test\n",
        "y_pred = reg.predict(X_test_scaled)\n",
        "\n",
        "reg = LogisticRegression(max_iter=200)\n",
        "reg.fit(X_scaled, y_train)"
      ],
      "execution_count": 418,
      "outputs": [
        {
          "output_type": "execute_result",
          "data": {
            "text/plain": [
              "LogisticRegression(C=1.0, class_weight=None, dual=False, fit_intercept=True,\n",
              "                   intercept_scaling=1, l1_ratio=None, max_iter=200,\n",
              "                   multi_class='auto', n_jobs=None, penalty='l2',\n",
              "                   random_state=None, solver='lbfgs', tol=0.0001, verbose=0,\n",
              "                   warm_start=False)"
            ]
          },
          "metadata": {
            "tags": []
          },
          "execution_count": 418
        }
      ]
    },
    {
      "cell_type": "code",
      "metadata": {
        "id": "ZCzZ0Eigi__V",
        "outputId": "52ae29cf-d093-4f1b-edfa-9fcdb9a3b7ef",
        "colab": {
          "base_uri": "https://localhost:8080/",
          "height": 614
        }
      },
      "source": [
        "plt.figure(figsize=(10,10))\n",
        "plt.scatter(y_true, y_pred, c='crimson')\n",
        "plt.yscale('log')\n",
        "plt.xscale('log')\n",
        "\n",
        "p1 = max(max(y_pred), max(y_true))\n",
        "p2 = min(min(y_pred), min(y_true))\n",
        "plt.plot([p1, p2], [p1, p2], 'b-')\n",
        "plt.xlabel('True Values', fontsize=15)\n",
        "plt.ylabel('Predictions', fontsize=15)\n",
        "plt.axis('equal')\n",
        "plt.show()"
      ],
      "execution_count": 419,
      "outputs": [
        {
          "output_type": "display_data",
          "data": {
            "image/png": "[encoded data removed]",
            "text/plain": [
              "<Figure size 720x720 with 1 Axes>"
            ]
          },
          "metadata": {
            "tags": [],
            "needs_background": "light"
          }
        }
      ]
    },
    {
      "cell_type": "code",
      "metadata": {
        "id": "AenPBL4Jj6Qd",
        "outputId": "4ca18dab-38a6-4b5c-88ae-273530606395",
        "colab": {
          "base_uri": "https://localhost:8080/"
        }
      },
      "source": [
        "mape = mean_absolute_percentage_error(y_true, y_pred)\n",
        "Dados.append(mape)\n",
        "print(mape)"
      ],
      "execution_count": 420,
      "outputs": [
        {
          "output_type": "stream",
          "text": [
            "96.28745461059457\n"
          ],
          "name": "stdout"
        }
      ]
    },
    {
      "cell_type": "markdown",
      "metadata": {
        "id": "TJc0oAdZm1J1"
      },
      "source": [
        "## Ridge Bayesiano"
      ]
    },
    {
      "cell_type": "code",
      "metadata": {
        "id": "UtYnQrM8nFeI"
      },
      "source": [
        "Xs = data.drop(['Temperature'], axis=1).copy()\n",
        "y = data['Temperature'].copy()\n",
        "\n",
        "X_train, X_test, y_train, y_test = train_test_split(Xs, y, test_size=0.20, random_state=42)\n",
        "\n",
        "reg = BayesianRidge()\n",
        "reg.fit(X_train, y_train)\n",
        "\n",
        "y_true = y_test\n",
        "y_pred = reg.predict(X_test)"
      ],
      "execution_count": 421,
      "outputs": []
    },
    {
      "cell_type": "code",
      "metadata": {
        "id": "aGDQymXFnM47",
        "outputId": "7ce002bd-5b47-459a-d20f-ff23db6dab29",
        "colab": {
          "base_uri": "https://localhost:8080/",
          "height": 0
        }
      },
      "source": [
        "plt.figure(figsize=(10,10))\n",
        "plt.scatter(y_true, y_pred, c='crimson')\n",
        "plt.yscale('log')\n",
        "plt.xscale('log')\n",
        "\n",
        "p1 = max(max(y_pred), max(y_true))\n",
        "p2 = min(min(y_pred), min(y_true))\n",
        "plt.plot([p1, p2], [p1, p2], 'b-')\n",
        "plt.xlabel('True Values', fontsize=15)\n",
        "plt.ylabel('Predictions', fontsize=15)\n",
        "plt.axis('equal')\n",
        "plt.show()"
      ],
      "execution_count": 422,
      "outputs": [
        {
          "output_type": "display_data",
          "data": {
            "image/png": "[encoded data removed]",
            "text/plain": [
              "<Figure size 720x720 with 1 Axes>"
            ]
          },
          "metadata": {
            "tags": [],
            "needs_background": "light"
          }
        }
      ]
    },
    {
      "cell_type": "code",
      "metadata": {
        "id": "fBI02UvunKHV",
        "outputId": "46d8b1d6-b848-4b3e-f0d6-118a4889aba6",
        "colab": {
          "base_uri": "https://localhost:8080/"
        }
      },
      "source": [
        "mape = mean_absolute_percentage_error(y_true, y_pred)\n",
        "Dados.append(mape)\n",
        "print(mape)"
      ],
      "execution_count": 423,
      "outputs": [
        {
          "output_type": "stream",
          "text": [
            "2.60852005814959\n"
          ],
          "name": "stdout"
        }
      ]
    },
    {
      "cell_type": "markdown",
      "metadata": {
        "id": "KOdaqOZwm_Wf"
      },
      "source": [
        "## Ridge"
      ]
    },
    {
      "cell_type": "code",
      "metadata": {
        "id": "Ytbe1J18oEso"
      },
      "source": [
        "Xs = data.drop(['Temperature'], axis=1).copy()\n",
        "y = data['Temperature'].copy()\n",
        "\n",
        "X_train, X_test, y_train, y_test = train_test_split(Xs, y, test_size=0.20, random_state=42)\n",
        "\n",
        "reg = Ridge()\n",
        "reg.fit(X_train, y_train)\n",
        "\n",
        "y_true = y_test\n",
        "y_pred = reg.predict(X_test)"
      ],
      "execution_count": 424,
      "outputs": []
    },
    {
      "cell_type": "code",
      "metadata": {
        "id": "8bZ23nrooEik",
        "outputId": "47d661f4-c54e-476b-e2c2-e026a85be09d",
        "colab": {
          "base_uri": "https://localhost:8080/",
          "height": 0
        }
      },
      "source": [
        "plt.figure(figsize=(10,10))\n",
        "plt.scatter(y_true, y_pred, c='crimson')\n",
        "plt.yscale('log')\n",
        "plt.xscale('log')\n",
        "\n",
        "p1 = max(max(y_pred), max(y_true))\n",
        "p2 = min(min(y_pred), min(y_true))\n",
        "plt.plot([p1, p2], [p1, p2], 'b-')\n",
        "plt.xlabel('True Values', fontsize=15)\n",
        "plt.ylabel('Predictions', fontsize=15)\n",
        "plt.axis('equal')\n",
        "plt.show()"
      ],
      "execution_count": 425,
      "outputs": [
        {
          "output_type": "display_data",
          "data": {
            "image/png": "[encoded data removed]",
            "text/plain": [
              "<Figure size 720x720 with 1 Axes>"
            ]
          },
          "metadata": {
            "tags": [],
            "needs_background": "light"
          }
        }
      ]
    },
    {
      "cell_type": "code",
      "metadata": {
        "id": "iNRYIg95oENd",
        "outputId": "a514b6c2-df56-41fc-af15-9a0454aa5fdd",
        "colab": {
          "base_uri": "https://localhost:8080/"
        }
      },
      "source": [
        "mape = mean_absolute_percentage_error(y_true, y_pred)\n",
        "Dados.append(mape)\n",
        "print(mape)"
      ],
      "execution_count": 426,
      "outputs": [
        {
          "output_type": "stream",
          "text": [
            "2.601026314944998\n"
          ],
          "name": "stdout"
        }
      ]
    },
    {
      "cell_type": "markdown",
      "metadata": {
        "id": "PpGm93TToL48"
      },
      "source": [
        "## Comparando Algoritmos"
      ]
    },
    {
      "cell_type": "code",
      "metadata": {
        "id": "_6iYjuNyoKR-",
        "outputId": "62d4b027-3338-4e40-d7fb-311ddd2ab7a6",
        "colab": {
          "base_uri": "https://localhost:8080/",
          "height": 204
        }
      },
      "source": [
        "comp = pd.DataFrame(Dados, Algoritmos)\n",
        "comp"
      ],
      "execution_count": 427,
      "outputs": [
        {
          "output_type": "execute_result",
          "data": {
            "text/html": [
              "<div>\n",
              "<style scoped>\n",
              "    .dataframe tbody tr th:only-of-type {\n",
              "        vertical-align: middle;\n",
              "    }\n",
              "\n",
              "    .dataframe tbody tr th {\n",
              "        vertical-align: top;\n",
              "    }\n",
              "\n",
              "    .dataframe thead th {\n",
              "        text-align: right;\n",
              "    }\n",
              "</style>\n",
              "<table border=\"1\" class=\"dataframe\">\n",
              "  <thead>\n",
              "    <tr style=\"text-align: right;\">\n",
              "      <th></th>\n",
              "      <th>0</th>\n",
              "    </tr>\n",
              "  </thead>\n",
              "  <tbody>\n",
              "    <tr>\n",
              "      <th>Reg Linear Simples - Dew Point</th>\n",
              "      <td>12.571046</td>\n",
              "    </tr>\n",
              "    <tr>\n",
              "      <th>Reg Linear Múltipla</th>\n",
              "      <td>2.608255</td>\n",
              "    </tr>\n",
              "    <tr>\n",
              "      <th>Reg Logística</th>\n",
              "      <td>96.287455</td>\n",
              "    </tr>\n",
              "    <tr>\n",
              "      <th>Ridge Bayesiano</th>\n",
              "      <td>2.608520</td>\n",
              "    </tr>\n",
              "    <tr>\n",
              "      <th>Ridge</th>\n",
              "      <td>2.601026</td>\n",
              "    </tr>\n",
              "  </tbody>\n",
              "</table>\n",
              "</div>"
            ],
            "text/plain": [
              "                                        0\n",
              "Reg Linear Simples - Dew Point  12.571046\n",
              "Reg Linear Múltipla              2.608255\n",
              "Reg Logística                   96.287455\n",
              "Ridge Bayesiano                  2.608520\n",
              "Ridge                            2.601026"
            ]
          },
          "metadata": {
            "tags": []
          },
          "execution_count": 427
        }
      ]
    }
  ]
}
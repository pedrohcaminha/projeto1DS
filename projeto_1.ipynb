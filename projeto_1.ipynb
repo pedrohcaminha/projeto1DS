{
  "nbformat": 4,
  "nbformat_minor": 0,
  "metadata": {
    "colab": {
      "name": "projeto_1.ipynb",
      "provenance": [],
      "collapsed_sections": [],
      "authorship_tag": "ABX9TyMdSxd/BeSkqywL1BxnfxKZ",
      "include_colab_link": true
    },
    "kernelspec": {
      "name": "python3",
      "display_name": "Python 3"
    }
  },
  "cells": [
    {
      "cell_type": "markdown",
      "metadata": {
        "id": "view-in-github",
        "colab_type": "text"
      },
      "source": [
        "<a href=\"https://colab.research.google.com/github/pedrohcaminha/projeto1DS/blob/main/projeto_1.ipynb\" target=\"_parent\"><img src=\"https://colab.research.google.com/assets/colab-badge.svg\" alt=\"Open In Colab\"/></a>"
      ]
    },
    {
      "cell_type": "markdown",
      "metadata": {
        "id": "gakru6IX1ipX"
      },
      "source": [
        "# Importação de bibliotecas e dados"
      ]
    },
    {
      "cell_type": "markdown",
      "metadata": {
        "id": "R9Tu5ZlL1tZ6"
      },
      "source": [
        "### Importando bibliotecas"
      ]
    },
    {
      "cell_type": "code",
      "metadata": {
        "id": "zJnf2V7e1piH"
      },
      "source": [
        "import pandas as pd\n",
        "import datetime"
      ],
      "execution_count": 1,
      "outputs": []
    },
    {
      "cell_type": "markdown",
      "metadata": {
        "id": "Bxa3UFmq0ZvQ"
      },
      "source": [
        "### Importando dados"
      ]
    },
    {
      "cell_type": "code",
      "metadata": {
        "colab": {
          "base_uri": "https://localhost:8080/",
          "height": 204
        },
        "id": "vkQ0ppqWpih2",
        "outputId": "5a39efec-f9ee-4201-bcf3-635d0ba2ae9b"
      },
      "source": [
        "url = 'https://raw.githubusercontent.com/pedrohcaminha/projeto1DS/main/data.csv'\n",
        "data = pd.read_csv(url, sep='\\t')\n",
        "data.tail()"
      ],
      "execution_count": 2,
      "outputs": [
        {
          "output_type": "execute_result",
          "data": {
            "text/html": [
              "<div>\n",
              "<style scoped>\n",
              "    .dataframe tbody tr th:only-of-type {\n",
              "        vertical-align: middle;\n",
              "    }\n",
              "\n",
              "    .dataframe tbody tr th {\n",
              "        vertical-align: top;\n",
              "    }\n",
              "\n",
              "    .dataframe thead th {\n",
              "        text-align: right;\n",
              "    }\n",
              "</style>\n",
              "<table border=\"1\" class=\"dataframe\">\n",
              "  <thead>\n",
              "    <tr style=\"text-align: right;\">\n",
              "      <th></th>\n",
              "      <th>Time</th>\n",
              "      <th>Temperature</th>\n",
              "      <th>Dew Point</th>\n",
              "      <th>Humidity</th>\n",
              "      <th>Wind</th>\n",
              "      <th>Wind Speed</th>\n",
              "      <th>Wind Gust</th>\n",
              "      <th>Pressure</th>\n",
              "      <th>Preciptation</th>\n",
              "      <th>Condition</th>\n",
              "      <th>day</th>\n",
              "    </tr>\n",
              "  </thead>\n",
              "  <tbody>\n",
              "    <tr>\n",
              "      <th>10247</th>\n",
              "      <td>8:51 PM</td>\n",
              "      <td>43 F</td>\n",
              "      <td>28 F</td>\n",
              "      <td>56 %</td>\n",
              "      <td>SSW</td>\n",
              "      <td>15 mph</td>\n",
              "      <td>0 mph</td>\n",
              "      <td>30.10 in</td>\n",
              "      <td>0.0 in</td>\n",
              "      <td>Mostly Cloudy</td>\n",
              "      <td>365</td>\n",
              "    </tr>\n",
              "    <tr>\n",
              "      <th>10248</th>\n",
              "      <td>9:51 PM</td>\n",
              "      <td>43 F</td>\n",
              "      <td>28 F</td>\n",
              "      <td>56 %</td>\n",
              "      <td>SW</td>\n",
              "      <td>7 mph</td>\n",
              "      <td>0 mph</td>\n",
              "      <td>30.08 in</td>\n",
              "      <td>0.0 in</td>\n",
              "      <td>Mostly Cloudy</td>\n",
              "      <td>365</td>\n",
              "    </tr>\n",
              "    <tr>\n",
              "      <th>10249</th>\n",
              "      <td>10:46 PM</td>\n",
              "      <td>45 F</td>\n",
              "      <td>28 F</td>\n",
              "      <td>53 %</td>\n",
              "      <td>SSW</td>\n",
              "      <td>15 mph</td>\n",
              "      <td>22 mph</td>\n",
              "      <td>30.06 in</td>\n",
              "      <td>0.0 in</td>\n",
              "      <td>Cloudy</td>\n",
              "      <td>365</td>\n",
              "    </tr>\n",
              "    <tr>\n",
              "      <th>10250</th>\n",
              "      <td>10:51 PM</td>\n",
              "      <td>44 F</td>\n",
              "      <td>28 F</td>\n",
              "      <td>53 %</td>\n",
              "      <td>SSW</td>\n",
              "      <td>15 mph</td>\n",
              "      <td>22 mph</td>\n",
              "      <td>30.06 in</td>\n",
              "      <td>0.0 in</td>\n",
              "      <td>Cloudy</td>\n",
              "      <td>365</td>\n",
              "    </tr>\n",
              "    <tr>\n",
              "      <th>10251</th>\n",
              "      <td>11:51 PM</td>\n",
              "      <td>45 F</td>\n",
              "      <td>28 F</td>\n",
              "      <td>52 %</td>\n",
              "      <td>SW</td>\n",
              "      <td>14 mph</td>\n",
              "      <td>0 mph</td>\n",
              "      <td>30.02 in</td>\n",
              "      <td>0.0 in</td>\n",
              "      <td>Cloudy</td>\n",
              "      <td>365</td>\n",
              "    </tr>\n",
              "  </tbody>\n",
              "</table>\n",
              "</div>"
            ],
            "text/plain": [
              "           Time Temperature Dew Point  ... Preciptation      Condition  day\n",
              "10247   8:51 PM        43 F      28 F  ...       0.0 in  Mostly Cloudy  365\n",
              "10248   9:51 PM        43 F      28 F  ...       0.0 in  Mostly Cloudy  365\n",
              "10249  10:46 PM        45 F      28 F  ...       0.0 in         Cloudy  365\n",
              "10250  10:51 PM        44 F      28 F  ...       0.0 in         Cloudy  365\n",
              "10251  11:51 PM        45 F      28 F  ...       0.0 in         Cloudy  365\n",
              "\n",
              "[5 rows x 11 columns]"
            ]
          },
          "metadata": {
            "tags": []
          },
          "execution_count": 2
        }
      ]
    },
    {
      "cell_type": "markdown",
      "metadata": {
        "id": "2XjjhARp7H_m"
      },
      "source": [
        "# Tratamento de dados faltantes"
      ]
    },
    {
      "cell_type": "markdown",
      "metadata": {
        "id": "OE55VxPA61zN"
      },
      "source": [
        "### Verificando se existem dados ausentes"
      ]
    },
    {
      "cell_type": "code",
      "metadata": {
        "colab": {
          "base_uri": "https://localhost:8080/"
        },
        "id": "FTHfosMb5OxN",
        "outputId": "13494e7b-9a70-475c-8c13-4bfabd4f9d9e"
      },
      "source": [
        "data.isnull().sum()"
      ],
      "execution_count": 3,
      "outputs": [
        {
          "output_type": "execute_result",
          "data": {
            "text/plain": [
              "Time            0\n",
              "Temperature     0\n",
              "Dew Point       0\n",
              "Humidity        0\n",
              "Wind            5\n",
              "Wind Speed      0\n",
              "Wind Gust       0\n",
              "Pressure        0\n",
              "Preciptation    0\n",
              "Condition       1\n",
              "day             0\n",
              "dtype: int64"
            ]
          },
          "metadata": {
            "tags": []
          },
          "execution_count": 3
        }
      ]
    },
    {
      "cell_type": "markdown",
      "metadata": {
        "id": "lokHCKLy689_"
      },
      "source": [
        "### Como existem poucos dados ausentes, as linhas serão removidas"
      ]
    },
    {
      "cell_type": "code",
      "metadata": {
        "colab": {
          "base_uri": "https://localhost:8080/"
        },
        "id": "q9rhiAk77DU4",
        "outputId": "e8613b48-5153-44b5-97b3-8734d428cfa0"
      },
      "source": [
        "data.shape"
      ],
      "execution_count": 4,
      "outputs": [
        {
          "output_type": "execute_result",
          "data": {
            "text/plain": [
              "(10252, 11)"
            ]
          },
          "metadata": {
            "tags": []
          },
          "execution_count": 4
        }
      ]
    },
    {
      "cell_type": "code",
      "metadata": {
        "colab": {
          "base_uri": "https://localhost:8080/"
        },
        "id": "ykjOHAH46MHR",
        "outputId": "c6c353de-788e-4837-b673-4e337654243b"
      },
      "source": [
        "data.dropna(inplace=True)\n",
        "data.shape"
      ],
      "execution_count": 5,
      "outputs": [
        {
          "output_type": "execute_result",
          "data": {
            "text/plain": [
              "(10246, 11)"
            ]
          },
          "metadata": {
            "tags": []
          },
          "execution_count": 5
        }
      ]
    },
    {
      "cell_type": "markdown",
      "metadata": {
        "id": "gb2dfe-Y1dDF"
      },
      "source": [
        "# Realizando correções de Tipos"
      ]
    },
    {
      "cell_type": "markdown",
      "metadata": {
        "id": "gVDlos6t1VX7"
      },
      "source": [
        "### Verificando os tipos\n"
      ]
    },
    {
      "cell_type": "code",
      "metadata": {
        "colab": {
          "base_uri": "https://localhost:8080/"
        },
        "id": "u1Lb1Bbo1Y1O",
        "outputId": "139d78ea-3c4b-4dc9-fa24-0742636d36dc"
      },
      "source": [
        "data.dtypes"
      ],
      "execution_count": 6,
      "outputs": [
        {
          "output_type": "execute_result",
          "data": {
            "text/plain": [
              "Time            object\n",
              "Temperature     object\n",
              "Dew Point       object\n",
              "Humidity        object\n",
              "Wind            object\n",
              "Wind Speed      object\n",
              "Wind Gust       object\n",
              "Pressure        object\n",
              "Preciptation    object\n",
              "Condition       object\n",
              "day              int64\n",
              "dtype: object"
            ]
          },
          "metadata": {
            "tags": []
          },
          "execution_count": 6
        }
      ]
    },
    {
      "cell_type": "markdown",
      "metadata": {
        "id": "HFes194I0dDU"
      },
      "source": [
        "### Corrigindo os dados de tempo"
      ]
    },
    {
      "cell_type": "code",
      "metadata": {
        "colab": {
          "base_uri": "https://localhost:8080/",
          "height": 204
        },
        "id": "aYYFeaYrpoiT",
        "outputId": "adaeef4a-fd45-4f98-d8c5-b686160176cf"
      },
      "source": [
        "start_date = datetime.date(2020, 1, 1)\n",
        "end_date = datetime.date(2020, 12, 31)\n",
        "delta = datetime.timedelta(hours=24)\n",
        "\n",
        "timeseries = []\n",
        "last_day = 1\n",
        "for index, row in data.iterrows():\n",
        "  if(last_day != row['day']):\n",
        "    start_date += delta\n",
        "    last_day = row['day']\n",
        "  timeseries.append(str(start_date) + \" \" + row['Time'])\n",
        "data['Time'] = timeseries\n",
        "data['Time'] =  pd.to_datetime(data['Time'], infer_datetime_format=True)\n",
        "data.drop(columns=['day'], inplace=True)\n",
        "data.head()"
      ],
      "execution_count": 7,
      "outputs": [
        {
          "output_type": "execute_result",
          "data": {
            "text/html": [
              "<div>\n",
              "<style scoped>\n",
              "    .dataframe tbody tr th:only-of-type {\n",
              "        vertical-align: middle;\n",
              "    }\n",
              "\n",
              "    .dataframe tbody tr th {\n",
              "        vertical-align: top;\n",
              "    }\n",
              "\n",
              "    .dataframe thead th {\n",
              "        text-align: right;\n",
              "    }\n",
              "</style>\n",
              "<table border=\"1\" class=\"dataframe\">\n",
              "  <thead>\n",
              "    <tr style=\"text-align: right;\">\n",
              "      <th></th>\n",
              "      <th>Time</th>\n",
              "      <th>Temperature</th>\n",
              "      <th>Dew Point</th>\n",
              "      <th>Humidity</th>\n",
              "      <th>Wind</th>\n",
              "      <th>Wind Speed</th>\n",
              "      <th>Wind Gust</th>\n",
              "      <th>Pressure</th>\n",
              "      <th>Preciptation</th>\n",
              "      <th>Condition</th>\n",
              "    </tr>\n",
              "  </thead>\n",
              "  <tbody>\n",
              "    <tr>\n",
              "      <th>0</th>\n",
              "      <td>2020-01-01 00:51:00</td>\n",
              "      <td>40 F</td>\n",
              "      <td>25 F</td>\n",
              "      <td>55 %</td>\n",
              "      <td>W</td>\n",
              "      <td>14 mph</td>\n",
              "      <td>24 mph</td>\n",
              "      <td>29.63 in</td>\n",
              "      <td>0.0 in</td>\n",
              "      <td>Cloudy</td>\n",
              "    </tr>\n",
              "    <tr>\n",
              "      <th>1</th>\n",
              "      <td>2020-01-01 01:51:00</td>\n",
              "      <td>40 F</td>\n",
              "      <td>26 F</td>\n",
              "      <td>58 %</td>\n",
              "      <td>W</td>\n",
              "      <td>17 mph</td>\n",
              "      <td>22 mph</td>\n",
              "      <td>29.64 in</td>\n",
              "      <td>0.0 in</td>\n",
              "      <td>Cloudy</td>\n",
              "    </tr>\n",
              "    <tr>\n",
              "      <th>2</th>\n",
              "      <td>2020-01-01 02:51:00</td>\n",
              "      <td>40 F</td>\n",
              "      <td>25 F</td>\n",
              "      <td>55 %</td>\n",
              "      <td>W</td>\n",
              "      <td>16 mph</td>\n",
              "      <td>28 mph</td>\n",
              "      <td>29.64 in</td>\n",
              "      <td>0.0 in</td>\n",
              "      <td>Mostly Cloudy</td>\n",
              "    </tr>\n",
              "    <tr>\n",
              "      <th>3</th>\n",
              "      <td>2020-01-01 03:51:00</td>\n",
              "      <td>39 F</td>\n",
              "      <td>23 F</td>\n",
              "      <td>53 %</td>\n",
              "      <td>W</td>\n",
              "      <td>16 mph</td>\n",
              "      <td>0 mph</td>\n",
              "      <td>29.66 in</td>\n",
              "      <td>0.0 in</td>\n",
              "      <td>Cloudy</td>\n",
              "    </tr>\n",
              "    <tr>\n",
              "      <th>4</th>\n",
              "      <td>2020-01-01 04:51:00</td>\n",
              "      <td>38 F</td>\n",
              "      <td>23 F</td>\n",
              "      <td>55 %</td>\n",
              "      <td>W</td>\n",
              "      <td>14 mph</td>\n",
              "      <td>23 mph</td>\n",
              "      <td>29.66 in</td>\n",
              "      <td>0.0 in</td>\n",
              "      <td>Cloudy</td>\n",
              "    </tr>\n",
              "  </tbody>\n",
              "</table>\n",
              "</div>"
            ],
            "text/plain": [
              "                 Time Temperature  ... Preciptation      Condition\n",
              "0 2020-01-01 00:51:00        40 F  ...       0.0 in         Cloudy\n",
              "1 2020-01-01 01:51:00        40 F  ...       0.0 in         Cloudy\n",
              "2 2020-01-01 02:51:00        40 F  ...       0.0 in  Mostly Cloudy\n",
              "3 2020-01-01 03:51:00        39 F  ...       0.0 in         Cloudy\n",
              "4 2020-01-01 04:51:00        38 F  ...       0.0 in         Cloudy\n",
              "\n",
              "[5 rows x 10 columns]"
            ]
          },
          "metadata": {
            "tags": []
          },
          "execution_count": 7
        }
      ]
    },
    {
      "cell_type": "markdown",
      "metadata": {
        "id": "JT7um7UO126Y"
      },
      "source": [
        "### Corrigindo os dados de temperatura"
      ]
    },
    {
      "cell_type": "code",
      "metadata": {
        "colab": {
          "base_uri": "https://localhost:8080/",
          "height": 204
        },
        "id": "zDS0KLcj15Vm",
        "outputId": "5150602e-9eef-4e63-87d4-cb7c5fb975c2"
      },
      "source": [
        "Temperature = []\n",
        "for index, row in data.iterrows():\n",
        "  Temperature.append(int(''.join(filter(str.isdigit, row['Temperature']))))\n",
        "data['Temperature'] = Temperature\n",
        "data.head()"
      ],
      "execution_count": 8,
      "outputs": [
        {
          "output_type": "execute_result",
          "data": {
            "text/html": [
              "<div>\n",
              "<style scoped>\n",
              "    .dataframe tbody tr th:only-of-type {\n",
              "        vertical-align: middle;\n",
              "    }\n",
              "\n",
              "    .dataframe tbody tr th {\n",
              "        vertical-align: top;\n",
              "    }\n",
              "\n",
              "    .dataframe thead th {\n",
              "        text-align: right;\n",
              "    }\n",
              "</style>\n",
              "<table border=\"1\" class=\"dataframe\">\n",
              "  <thead>\n",
              "    <tr style=\"text-align: right;\">\n",
              "      <th></th>\n",
              "      <th>Time</th>\n",
              "      <th>Temperature</th>\n",
              "      <th>Dew Point</th>\n",
              "      <th>Humidity</th>\n",
              "      <th>Wind</th>\n",
              "      <th>Wind Speed</th>\n",
              "      <th>Wind Gust</th>\n",
              "      <th>Pressure</th>\n",
              "      <th>Preciptation</th>\n",
              "      <th>Condition</th>\n",
              "    </tr>\n",
              "  </thead>\n",
              "  <tbody>\n",
              "    <tr>\n",
              "      <th>0</th>\n",
              "      <td>2020-01-01 00:51:00</td>\n",
              "      <td>40</td>\n",
              "      <td>25 F</td>\n",
              "      <td>55 %</td>\n",
              "      <td>W</td>\n",
              "      <td>14 mph</td>\n",
              "      <td>24 mph</td>\n",
              "      <td>29.63 in</td>\n",
              "      <td>0.0 in</td>\n",
              "      <td>Cloudy</td>\n",
              "    </tr>\n",
              "    <tr>\n",
              "      <th>1</th>\n",
              "      <td>2020-01-01 01:51:00</td>\n",
              "      <td>40</td>\n",
              "      <td>26 F</td>\n",
              "      <td>58 %</td>\n",
              "      <td>W</td>\n",
              "      <td>17 mph</td>\n",
              "      <td>22 mph</td>\n",
              "      <td>29.64 in</td>\n",
              "      <td>0.0 in</td>\n",
              "      <td>Cloudy</td>\n",
              "    </tr>\n",
              "    <tr>\n",
              "      <th>2</th>\n",
              "      <td>2020-01-01 02:51:00</td>\n",
              "      <td>40</td>\n",
              "      <td>25 F</td>\n",
              "      <td>55 %</td>\n",
              "      <td>W</td>\n",
              "      <td>16 mph</td>\n",
              "      <td>28 mph</td>\n",
              "      <td>29.64 in</td>\n",
              "      <td>0.0 in</td>\n",
              "      <td>Mostly Cloudy</td>\n",
              "    </tr>\n",
              "    <tr>\n",
              "      <th>3</th>\n",
              "      <td>2020-01-01 03:51:00</td>\n",
              "      <td>39</td>\n",
              "      <td>23 F</td>\n",
              "      <td>53 %</td>\n",
              "      <td>W</td>\n",
              "      <td>16 mph</td>\n",
              "      <td>0 mph</td>\n",
              "      <td>29.66 in</td>\n",
              "      <td>0.0 in</td>\n",
              "      <td>Cloudy</td>\n",
              "    </tr>\n",
              "    <tr>\n",
              "      <th>4</th>\n",
              "      <td>2020-01-01 04:51:00</td>\n",
              "      <td>38</td>\n",
              "      <td>23 F</td>\n",
              "      <td>55 %</td>\n",
              "      <td>W</td>\n",
              "      <td>14 mph</td>\n",
              "      <td>23 mph</td>\n",
              "      <td>29.66 in</td>\n",
              "      <td>0.0 in</td>\n",
              "      <td>Cloudy</td>\n",
              "    </tr>\n",
              "  </tbody>\n",
              "</table>\n",
              "</div>"
            ],
            "text/plain": [
              "                 Time  Temperature  ... Preciptation      Condition\n",
              "0 2020-01-01 00:51:00           40  ...       0.0 in         Cloudy\n",
              "1 2020-01-01 01:51:00           40  ...       0.0 in         Cloudy\n",
              "2 2020-01-01 02:51:00           40  ...       0.0 in  Mostly Cloudy\n",
              "3 2020-01-01 03:51:00           39  ...       0.0 in         Cloudy\n",
              "4 2020-01-01 04:51:00           38  ...       0.0 in         Cloudy\n",
              "\n",
              "[5 rows x 10 columns]"
            ]
          },
          "metadata": {
            "tags": []
          },
          "execution_count": 8
        }
      ]
    },
    {
      "cell_type": "markdown",
      "metadata": {
        "id": "fpeN2EfW5Qxu"
      },
      "source": [
        "### Corrigindo os dados de ponto de condensação da água"
      ]
    },
    {
      "cell_type": "code",
      "metadata": {
        "colab": {
          "base_uri": "https://localhost:8080/",
          "height": 204
        },
        "id": "W-wReRSE2bnc",
        "outputId": "99875ba0-62f6-4f55-c69e-75ca75ec797b"
      },
      "source": [
        "dew = []\n",
        "for index, row in data.iterrows():\n",
        "  dew.append(int(''.join(filter(str.isdigit, row['Dew Point']))))\n",
        "data['Dew Point'] = dew\n",
        "data.head()"
      ],
      "execution_count": 9,
      "outputs": [
        {
          "output_type": "execute_result",
          "data": {
            "text/html": [
              "<div>\n",
              "<style scoped>\n",
              "    .dataframe tbody tr th:only-of-type {\n",
              "        vertical-align: middle;\n",
              "    }\n",
              "\n",
              "    .dataframe tbody tr th {\n",
              "        vertical-align: top;\n",
              "    }\n",
              "\n",
              "    .dataframe thead th {\n",
              "        text-align: right;\n",
              "    }\n",
              "</style>\n",
              "<table border=\"1\" class=\"dataframe\">\n",
              "  <thead>\n",
              "    <tr style=\"text-align: right;\">\n",
              "      <th></th>\n",
              "      <th>Time</th>\n",
              "      <th>Temperature</th>\n",
              "      <th>Dew Point</th>\n",
              "      <th>Humidity</th>\n",
              "      <th>Wind</th>\n",
              "      <th>Wind Speed</th>\n",
              "      <th>Wind Gust</th>\n",
              "      <th>Pressure</th>\n",
              "      <th>Preciptation</th>\n",
              "      <th>Condition</th>\n",
              "    </tr>\n",
              "  </thead>\n",
              "  <tbody>\n",
              "    <tr>\n",
              "      <th>0</th>\n",
              "      <td>2020-01-01 00:51:00</td>\n",
              "      <td>40</td>\n",
              "      <td>25</td>\n",
              "      <td>55 %</td>\n",
              "      <td>W</td>\n",
              "      <td>14 mph</td>\n",
              "      <td>24 mph</td>\n",
              "      <td>29.63 in</td>\n",
              "      <td>0.0 in</td>\n",
              "      <td>Cloudy</td>\n",
              "    </tr>\n",
              "    <tr>\n",
              "      <th>1</th>\n",
              "      <td>2020-01-01 01:51:00</td>\n",
              "      <td>40</td>\n",
              "      <td>26</td>\n",
              "      <td>58 %</td>\n",
              "      <td>W</td>\n",
              "      <td>17 mph</td>\n",
              "      <td>22 mph</td>\n",
              "      <td>29.64 in</td>\n",
              "      <td>0.0 in</td>\n",
              "      <td>Cloudy</td>\n",
              "    </tr>\n",
              "    <tr>\n",
              "      <th>2</th>\n",
              "      <td>2020-01-01 02:51:00</td>\n",
              "      <td>40</td>\n",
              "      <td>25</td>\n",
              "      <td>55 %</td>\n",
              "      <td>W</td>\n",
              "      <td>16 mph</td>\n",
              "      <td>28 mph</td>\n",
              "      <td>29.64 in</td>\n",
              "      <td>0.0 in</td>\n",
              "      <td>Mostly Cloudy</td>\n",
              "    </tr>\n",
              "    <tr>\n",
              "      <th>3</th>\n",
              "      <td>2020-01-01 03:51:00</td>\n",
              "      <td>39</td>\n",
              "      <td>23</td>\n",
              "      <td>53 %</td>\n",
              "      <td>W</td>\n",
              "      <td>16 mph</td>\n",
              "      <td>0 mph</td>\n",
              "      <td>29.66 in</td>\n",
              "      <td>0.0 in</td>\n",
              "      <td>Cloudy</td>\n",
              "    </tr>\n",
              "    <tr>\n",
              "      <th>4</th>\n",
              "      <td>2020-01-01 04:51:00</td>\n",
              "      <td>38</td>\n",
              "      <td>23</td>\n",
              "      <td>55 %</td>\n",
              "      <td>W</td>\n",
              "      <td>14 mph</td>\n",
              "      <td>23 mph</td>\n",
              "      <td>29.66 in</td>\n",
              "      <td>0.0 in</td>\n",
              "      <td>Cloudy</td>\n",
              "    </tr>\n",
              "  </tbody>\n",
              "</table>\n",
              "</div>"
            ],
            "text/plain": [
              "                 Time  Temperature  ...  Preciptation      Condition\n",
              "0 2020-01-01 00:51:00           40  ...        0.0 in         Cloudy\n",
              "1 2020-01-01 01:51:00           40  ...        0.0 in         Cloudy\n",
              "2 2020-01-01 02:51:00           40  ...        0.0 in  Mostly Cloudy\n",
              "3 2020-01-01 03:51:00           39  ...        0.0 in         Cloudy\n",
              "4 2020-01-01 04:51:00           38  ...        0.0 in         Cloudy\n",
              "\n",
              "[5 rows x 10 columns]"
            ]
          },
          "metadata": {
            "tags": []
          },
          "execution_count": 9
        }
      ]
    },
    {
      "cell_type": "markdown",
      "metadata": {
        "id": "9NMod6LM9VHk"
      },
      "source": [
        "### Corrigindo os dados de humidade"
      ]
    },
    {
      "cell_type": "code",
      "metadata": {
        "colab": {
          "base_uri": "https://localhost:8080/",
          "height": 204
        },
        "id": "ZCI5GnOt7ZsP",
        "outputId": "ee095ef3-f7a1-4434-bae6-bbd25c1caaa8"
      },
      "source": [
        "Humidity = []\n",
        "for index, row in data.iterrows():\n",
        "  Humidity.append(int(''.join(filter(str.isdigit, row['Humidity'])))/100)\n",
        "data['Humidity'] = Humidity\n",
        "data.head()"
      ],
      "execution_count": 10,
      "outputs": [
        {
          "output_type": "execute_result",
          "data": {
            "text/html": [
              "<div>\n",
              "<style scoped>\n",
              "    .dataframe tbody tr th:only-of-type {\n",
              "        vertical-align: middle;\n",
              "    }\n",
              "\n",
              "    .dataframe tbody tr th {\n",
              "        vertical-align: top;\n",
              "    }\n",
              "\n",
              "    .dataframe thead th {\n",
              "        text-align: right;\n",
              "    }\n",
              "</style>\n",
              "<table border=\"1\" class=\"dataframe\">\n",
              "  <thead>\n",
              "    <tr style=\"text-align: right;\">\n",
              "      <th></th>\n",
              "      <th>Time</th>\n",
              "      <th>Temperature</th>\n",
              "      <th>Dew Point</th>\n",
              "      <th>Humidity</th>\n",
              "      <th>Wind</th>\n",
              "      <th>Wind Speed</th>\n",
              "      <th>Wind Gust</th>\n",
              "      <th>Pressure</th>\n",
              "      <th>Preciptation</th>\n",
              "      <th>Condition</th>\n",
              "    </tr>\n",
              "  </thead>\n",
              "  <tbody>\n",
              "    <tr>\n",
              "      <th>0</th>\n",
              "      <td>2020-01-01 00:51:00</td>\n",
              "      <td>40</td>\n",
              "      <td>25</td>\n",
              "      <td>0.55</td>\n",
              "      <td>W</td>\n",
              "      <td>14 mph</td>\n",
              "      <td>24 mph</td>\n",
              "      <td>29.63 in</td>\n",
              "      <td>0.0 in</td>\n",
              "      <td>Cloudy</td>\n",
              "    </tr>\n",
              "    <tr>\n",
              "      <th>1</th>\n",
              "      <td>2020-01-01 01:51:00</td>\n",
              "      <td>40</td>\n",
              "      <td>26</td>\n",
              "      <td>0.58</td>\n",
              "      <td>W</td>\n",
              "      <td>17 mph</td>\n",
              "      <td>22 mph</td>\n",
              "      <td>29.64 in</td>\n",
              "      <td>0.0 in</td>\n",
              "      <td>Cloudy</td>\n",
              "    </tr>\n",
              "    <tr>\n",
              "      <th>2</th>\n",
              "      <td>2020-01-01 02:51:00</td>\n",
              "      <td>40</td>\n",
              "      <td>25</td>\n",
              "      <td>0.55</td>\n",
              "      <td>W</td>\n",
              "      <td>16 mph</td>\n",
              "      <td>28 mph</td>\n",
              "      <td>29.64 in</td>\n",
              "      <td>0.0 in</td>\n",
              "      <td>Mostly Cloudy</td>\n",
              "    </tr>\n",
              "    <tr>\n",
              "      <th>3</th>\n",
              "      <td>2020-01-01 03:51:00</td>\n",
              "      <td>39</td>\n",
              "      <td>23</td>\n",
              "      <td>0.53</td>\n",
              "      <td>W</td>\n",
              "      <td>16 mph</td>\n",
              "      <td>0 mph</td>\n",
              "      <td>29.66 in</td>\n",
              "      <td>0.0 in</td>\n",
              "      <td>Cloudy</td>\n",
              "    </tr>\n",
              "    <tr>\n",
              "      <th>4</th>\n",
              "      <td>2020-01-01 04:51:00</td>\n",
              "      <td>38</td>\n",
              "      <td>23</td>\n",
              "      <td>0.55</td>\n",
              "      <td>W</td>\n",
              "      <td>14 mph</td>\n",
              "      <td>23 mph</td>\n",
              "      <td>29.66 in</td>\n",
              "      <td>0.0 in</td>\n",
              "      <td>Cloudy</td>\n",
              "    </tr>\n",
              "  </tbody>\n",
              "</table>\n",
              "</div>"
            ],
            "text/plain": [
              "                 Time  Temperature  ...  Preciptation      Condition\n",
              "0 2020-01-01 00:51:00           40  ...        0.0 in         Cloudy\n",
              "1 2020-01-01 01:51:00           40  ...        0.0 in         Cloudy\n",
              "2 2020-01-01 02:51:00           40  ...        0.0 in  Mostly Cloudy\n",
              "3 2020-01-01 03:51:00           39  ...        0.0 in         Cloudy\n",
              "4 2020-01-01 04:51:00           38  ...        0.0 in         Cloudy\n",
              "\n",
              "[5 rows x 10 columns]"
            ]
          },
          "metadata": {
            "tags": []
          },
          "execution_count": 10
        }
      ]
    },
    {
      "cell_type": "markdown",
      "metadata": {
        "id": "_8X3ZSu39tfc"
      },
      "source": [
        "### Verificando os dados de direcao do vento (nao precisa de correcao)"
      ]
    },
    {
      "cell_type": "code",
      "metadata": {
        "colab": {
          "base_uri": "https://localhost:8080/"
        },
        "id": "GxMVE0Sf7dxG",
        "outputId": "5595f93f-bcc6-474f-d08b-2a61db7d58e7"
      },
      "source": [
        "data['Wind'].value_counts()"
      ],
      "execution_count": 11,
      "outputs": [
        {
          "output_type": "execute_result",
          "data": {
            "text/plain": [
              "S       1306\n",
              "NE      1089\n",
              "NW       872\n",
              "ENE      783\n",
              "W        679\n",
              "SSW      648\n",
              "SW       615\n",
              "WNW      611\n",
              "NNW      556\n",
              "N        550\n",
              "WSW      420\n",
              "SSE      419\n",
              "CALM     404\n",
              "E        388\n",
              "NNE      349\n",
              "SE       229\n",
              "ESE      199\n",
              "VAR      129\n",
              "Name: Wind, dtype: int64"
            ]
          },
          "metadata": {
            "tags": []
          },
          "execution_count": 11
        }
      ]
    },
    {
      "cell_type": "code",
      "metadata": {
        "id": "8YbM47Wf-wqJ"
      },
      "source": [
        "data['Wind'] = data['Wind'].astype('category')"
      ],
      "execution_count": 12,
      "outputs": []
    },
    {
      "cell_type": "markdown",
      "metadata": {
        "id": "wpm3_ZRS-rM-"
      },
      "source": [
        "### Corrigindo os dados de velocidade do vento"
      ]
    },
    {
      "cell_type": "code",
      "metadata": {
        "colab": {
          "base_uri": "https://localhost:8080/",
          "height": 204
        },
        "id": "5gECbDjE-t4H",
        "outputId": "8a6b5f98-aff8-408a-80b5-43d88ed81137"
      },
      "source": [
        "Speed = []\n",
        "for index, row in data.iterrows():\n",
        "  Speed.append(int(''.join(filter(str.isdigit, row['Wind Speed']))))\n",
        "data['Wind Speed'] = Speed\n",
        "data.head()"
      ],
      "execution_count": 13,
      "outputs": [
        {
          "output_type": "execute_result",
          "data": {
            "text/html": [
              "<div>\n",
              "<style scoped>\n",
              "    .dataframe tbody tr th:only-of-type {\n",
              "        vertical-align: middle;\n",
              "    }\n",
              "\n",
              "    .dataframe tbody tr th {\n",
              "        vertical-align: top;\n",
              "    }\n",
              "\n",
              "    .dataframe thead th {\n",
              "        text-align: right;\n",
              "    }\n",
              "</style>\n",
              "<table border=\"1\" class=\"dataframe\">\n",
              "  <thead>\n",
              "    <tr style=\"text-align: right;\">\n",
              "      <th></th>\n",
              "      <th>Time</th>\n",
              "      <th>Temperature</th>\n",
              "      <th>Dew Point</th>\n",
              "      <th>Humidity</th>\n",
              "      <th>Wind</th>\n",
              "      <th>Wind Speed</th>\n",
              "      <th>Wind Gust</th>\n",
              "      <th>Pressure</th>\n",
              "      <th>Preciptation</th>\n",
              "      <th>Condition</th>\n",
              "    </tr>\n",
              "  </thead>\n",
              "  <tbody>\n",
              "    <tr>\n",
              "      <th>0</th>\n",
              "      <td>2020-01-01 00:51:00</td>\n",
              "      <td>40</td>\n",
              "      <td>25</td>\n",
              "      <td>0.55</td>\n",
              "      <td>W</td>\n",
              "      <td>14</td>\n",
              "      <td>24 mph</td>\n",
              "      <td>29.63 in</td>\n",
              "      <td>0.0 in</td>\n",
              "      <td>Cloudy</td>\n",
              "    </tr>\n",
              "    <tr>\n",
              "      <th>1</th>\n",
              "      <td>2020-01-01 01:51:00</td>\n",
              "      <td>40</td>\n",
              "      <td>26</td>\n",
              "      <td>0.58</td>\n",
              "      <td>W</td>\n",
              "      <td>17</td>\n",
              "      <td>22 mph</td>\n",
              "      <td>29.64 in</td>\n",
              "      <td>0.0 in</td>\n",
              "      <td>Cloudy</td>\n",
              "    </tr>\n",
              "    <tr>\n",
              "      <th>2</th>\n",
              "      <td>2020-01-01 02:51:00</td>\n",
              "      <td>40</td>\n",
              "      <td>25</td>\n",
              "      <td>0.55</td>\n",
              "      <td>W</td>\n",
              "      <td>16</td>\n",
              "      <td>28 mph</td>\n",
              "      <td>29.64 in</td>\n",
              "      <td>0.0 in</td>\n",
              "      <td>Mostly Cloudy</td>\n",
              "    </tr>\n",
              "    <tr>\n",
              "      <th>3</th>\n",
              "      <td>2020-01-01 03:51:00</td>\n",
              "      <td>39</td>\n",
              "      <td>23</td>\n",
              "      <td>0.53</td>\n",
              "      <td>W</td>\n",
              "      <td>16</td>\n",
              "      <td>0 mph</td>\n",
              "      <td>29.66 in</td>\n",
              "      <td>0.0 in</td>\n",
              "      <td>Cloudy</td>\n",
              "    </tr>\n",
              "    <tr>\n",
              "      <th>4</th>\n",
              "      <td>2020-01-01 04:51:00</td>\n",
              "      <td>38</td>\n",
              "      <td>23</td>\n",
              "      <td>0.55</td>\n",
              "      <td>W</td>\n",
              "      <td>14</td>\n",
              "      <td>23 mph</td>\n",
              "      <td>29.66 in</td>\n",
              "      <td>0.0 in</td>\n",
              "      <td>Cloudy</td>\n",
              "    </tr>\n",
              "  </tbody>\n",
              "</table>\n",
              "</div>"
            ],
            "text/plain": [
              "                 Time  Temperature  ...  Preciptation      Condition\n",
              "0 2020-01-01 00:51:00           40  ...        0.0 in         Cloudy\n",
              "1 2020-01-01 01:51:00           40  ...        0.0 in         Cloudy\n",
              "2 2020-01-01 02:51:00           40  ...        0.0 in  Mostly Cloudy\n",
              "3 2020-01-01 03:51:00           39  ...        0.0 in         Cloudy\n",
              "4 2020-01-01 04:51:00           38  ...        0.0 in         Cloudy\n",
              "\n",
              "[5 rows x 10 columns]"
            ]
          },
          "metadata": {
            "tags": []
          },
          "execution_count": 13
        }
      ]
    },
    {
      "cell_type": "markdown",
      "metadata": {
        "id": "bsxM-ZY4_a9p"
      },
      "source": [
        "### Corrigindo os dados de velocidade da rajada do vento"
      ]
    },
    {
      "cell_type": "code",
      "metadata": {
        "colab": {
          "base_uri": "https://localhost:8080/",
          "height": 204
        },
        "id": "xSbtc8uO_BMb",
        "outputId": "9f60a1aa-0717-4351-e4b4-ec4d88a4adeb"
      },
      "source": [
        "Gust = []\n",
        "for index, row in data.iterrows():\n",
        "  Gust.append(int(''.join(filter(str.isdigit, row['Wind Gust']))))\n",
        "data['Wind Gust'] = Gust\n",
        "data.head()"
      ],
      "execution_count": 14,
      "outputs": [
        {
          "output_type": "execute_result",
          "data": {
            "text/html": [
              "<div>\n",
              "<style scoped>\n",
              "    .dataframe tbody tr th:only-of-type {\n",
              "        vertical-align: middle;\n",
              "    }\n",
              "\n",
              "    .dataframe tbody tr th {\n",
              "        vertical-align: top;\n",
              "    }\n",
              "\n",
              "    .dataframe thead th {\n",
              "        text-align: right;\n",
              "    }\n",
              "</style>\n",
              "<table border=\"1\" class=\"dataframe\">\n",
              "  <thead>\n",
              "    <tr style=\"text-align: right;\">\n",
              "      <th></th>\n",
              "      <th>Time</th>\n",
              "      <th>Temperature</th>\n",
              "      <th>Dew Point</th>\n",
              "      <th>Humidity</th>\n",
              "      <th>Wind</th>\n",
              "      <th>Wind Speed</th>\n",
              "      <th>Wind Gust</th>\n",
              "      <th>Pressure</th>\n",
              "      <th>Preciptation</th>\n",
              "      <th>Condition</th>\n",
              "    </tr>\n",
              "  </thead>\n",
              "  <tbody>\n",
              "    <tr>\n",
              "      <th>0</th>\n",
              "      <td>2020-01-01 00:51:00</td>\n",
              "      <td>40</td>\n",
              "      <td>25</td>\n",
              "      <td>0.55</td>\n",
              "      <td>W</td>\n",
              "      <td>14</td>\n",
              "      <td>24</td>\n",
              "      <td>29.63 in</td>\n",
              "      <td>0.0 in</td>\n",
              "      <td>Cloudy</td>\n",
              "    </tr>\n",
              "    <tr>\n",
              "      <th>1</th>\n",
              "      <td>2020-01-01 01:51:00</td>\n",
              "      <td>40</td>\n",
              "      <td>26</td>\n",
              "      <td>0.58</td>\n",
              "      <td>W</td>\n",
              "      <td>17</td>\n",
              "      <td>22</td>\n",
              "      <td>29.64 in</td>\n",
              "      <td>0.0 in</td>\n",
              "      <td>Cloudy</td>\n",
              "    </tr>\n",
              "    <tr>\n",
              "      <th>2</th>\n",
              "      <td>2020-01-01 02:51:00</td>\n",
              "      <td>40</td>\n",
              "      <td>25</td>\n",
              "      <td>0.55</td>\n",
              "      <td>W</td>\n",
              "      <td>16</td>\n",
              "      <td>28</td>\n",
              "      <td>29.64 in</td>\n",
              "      <td>0.0 in</td>\n",
              "      <td>Mostly Cloudy</td>\n",
              "    </tr>\n",
              "    <tr>\n",
              "      <th>3</th>\n",
              "      <td>2020-01-01 03:51:00</td>\n",
              "      <td>39</td>\n",
              "      <td>23</td>\n",
              "      <td>0.53</td>\n",
              "      <td>W</td>\n",
              "      <td>16</td>\n",
              "      <td>0</td>\n",
              "      <td>29.66 in</td>\n",
              "      <td>0.0 in</td>\n",
              "      <td>Cloudy</td>\n",
              "    </tr>\n",
              "    <tr>\n",
              "      <th>4</th>\n",
              "      <td>2020-01-01 04:51:00</td>\n",
              "      <td>38</td>\n",
              "      <td>23</td>\n",
              "      <td>0.55</td>\n",
              "      <td>W</td>\n",
              "      <td>14</td>\n",
              "      <td>23</td>\n",
              "      <td>29.66 in</td>\n",
              "      <td>0.0 in</td>\n",
              "      <td>Cloudy</td>\n",
              "    </tr>\n",
              "  </tbody>\n",
              "</table>\n",
              "</div>"
            ],
            "text/plain": [
              "                 Time  Temperature  ...  Preciptation      Condition\n",
              "0 2020-01-01 00:51:00           40  ...        0.0 in         Cloudy\n",
              "1 2020-01-01 01:51:00           40  ...        0.0 in         Cloudy\n",
              "2 2020-01-01 02:51:00           40  ...        0.0 in  Mostly Cloudy\n",
              "3 2020-01-01 03:51:00           39  ...        0.0 in         Cloudy\n",
              "4 2020-01-01 04:51:00           38  ...        0.0 in         Cloudy\n",
              "\n",
              "[5 rows x 10 columns]"
            ]
          },
          "metadata": {
            "tags": []
          },
          "execution_count": 14
        }
      ]
    },
    {
      "cell_type": "markdown",
      "metadata": {
        "id": "0nVdiLoDAIaH"
      },
      "source": [
        "### Corrigindo os dados de pressao"
      ]
    },
    {
      "cell_type": "code",
      "metadata": {
        "colab": {
          "base_uri": "https://localhost:8080/",
          "height": 204
        },
        "id": "Ta-kq_NuAFdn",
        "outputId": "72d943e0-8df1-4f42-b450-6785e595286a"
      },
      "source": [
        "Pressure = []\n",
        "for index, row in data.iterrows():\n",
        "  Pressure.append(int(''.join(filter(str.isdigit, row['Pressure'])))/100)\n",
        "data['Pressure'] = Pressure\n",
        "data.head()"
      ],
      "execution_count": 15,
      "outputs": [
        {
          "output_type": "execute_result",
          "data": {
            "text/html": [
              "<div>\n",
              "<style scoped>\n",
              "    .dataframe tbody tr th:only-of-type {\n",
              "        vertical-align: middle;\n",
              "    }\n",
              "\n",
              "    .dataframe tbody tr th {\n",
              "        vertical-align: top;\n",
              "    }\n",
              "\n",
              "    .dataframe thead th {\n",
              "        text-align: right;\n",
              "    }\n",
              "</style>\n",
              "<table border=\"1\" class=\"dataframe\">\n",
              "  <thead>\n",
              "    <tr style=\"text-align: right;\">\n",
              "      <th></th>\n",
              "      <th>Time</th>\n",
              "      <th>Temperature</th>\n",
              "      <th>Dew Point</th>\n",
              "      <th>Humidity</th>\n",
              "      <th>Wind</th>\n",
              "      <th>Wind Speed</th>\n",
              "      <th>Wind Gust</th>\n",
              "      <th>Pressure</th>\n",
              "      <th>Preciptation</th>\n",
              "      <th>Condition</th>\n",
              "    </tr>\n",
              "  </thead>\n",
              "  <tbody>\n",
              "    <tr>\n",
              "      <th>0</th>\n",
              "      <td>2020-01-01 00:51:00</td>\n",
              "      <td>40</td>\n",
              "      <td>25</td>\n",
              "      <td>0.55</td>\n",
              "      <td>W</td>\n",
              "      <td>14</td>\n",
              "      <td>24</td>\n",
              "      <td>2963.0</td>\n",
              "      <td>0.0 in</td>\n",
              "      <td>Cloudy</td>\n",
              "    </tr>\n",
              "    <tr>\n",
              "      <th>1</th>\n",
              "      <td>2020-01-01 01:51:00</td>\n",
              "      <td>40</td>\n",
              "      <td>26</td>\n",
              "      <td>0.58</td>\n",
              "      <td>W</td>\n",
              "      <td>17</td>\n",
              "      <td>22</td>\n",
              "      <td>2964.0</td>\n",
              "      <td>0.0 in</td>\n",
              "      <td>Cloudy</td>\n",
              "    </tr>\n",
              "    <tr>\n",
              "      <th>2</th>\n",
              "      <td>2020-01-01 02:51:00</td>\n",
              "      <td>40</td>\n",
              "      <td>25</td>\n",
              "      <td>0.55</td>\n",
              "      <td>W</td>\n",
              "      <td>16</td>\n",
              "      <td>28</td>\n",
              "      <td>2964.0</td>\n",
              "      <td>0.0 in</td>\n",
              "      <td>Mostly Cloudy</td>\n",
              "    </tr>\n",
              "    <tr>\n",
              "      <th>3</th>\n",
              "      <td>2020-01-01 03:51:00</td>\n",
              "      <td>39</td>\n",
              "      <td>23</td>\n",
              "      <td>0.53</td>\n",
              "      <td>W</td>\n",
              "      <td>16</td>\n",
              "      <td>0</td>\n",
              "      <td>2966.0</td>\n",
              "      <td>0.0 in</td>\n",
              "      <td>Cloudy</td>\n",
              "    </tr>\n",
              "    <tr>\n",
              "      <th>4</th>\n",
              "      <td>2020-01-01 04:51:00</td>\n",
              "      <td>38</td>\n",
              "      <td>23</td>\n",
              "      <td>0.55</td>\n",
              "      <td>W</td>\n",
              "      <td>14</td>\n",
              "      <td>23</td>\n",
              "      <td>2966.0</td>\n",
              "      <td>0.0 in</td>\n",
              "      <td>Cloudy</td>\n",
              "    </tr>\n",
              "  </tbody>\n",
              "</table>\n",
              "</div>"
            ],
            "text/plain": [
              "                 Time  Temperature  ...  Preciptation      Condition\n",
              "0 2020-01-01 00:51:00           40  ...        0.0 in         Cloudy\n",
              "1 2020-01-01 01:51:00           40  ...        0.0 in         Cloudy\n",
              "2 2020-01-01 02:51:00           40  ...        0.0 in  Mostly Cloudy\n",
              "3 2020-01-01 03:51:00           39  ...        0.0 in         Cloudy\n",
              "4 2020-01-01 04:51:00           38  ...        0.0 in         Cloudy\n",
              "\n",
              "[5 rows x 10 columns]"
            ]
          },
          "metadata": {
            "tags": []
          },
          "execution_count": 15
        }
      ]
    },
    {
      "cell_type": "markdown",
      "metadata": {
        "id": "oPlxoyhgBHpC"
      },
      "source": [
        "### Corrigindo os dados de precipitacao"
      ]
    },
    {
      "cell_type": "code",
      "metadata": {
        "colab": {
          "base_uri": "https://localhost:8080/",
          "height": 204
        },
        "id": "as25MWI9AHUA",
        "outputId": "b0e3f3e6-28b5-40fb-b5b5-3ad99dcbfa5f"
      },
      "source": [
        "Preciptation = []\n",
        "for index, row in data.iterrows():\n",
        "  Preciptation.append(int(''.join(filter(str.isdigit, row['Preciptation'])))/100)\n",
        "data['Preciptation'] = Preciptation\n",
        "data.head()"
      ],
      "execution_count": 16,
      "outputs": [
        {
          "output_type": "execute_result",
          "data": {
            "text/html": [
              "<div>\n",
              "<style scoped>\n",
              "    .dataframe tbody tr th:only-of-type {\n",
              "        vertical-align: middle;\n",
              "    }\n",
              "\n",
              "    .dataframe tbody tr th {\n",
              "        vertical-align: top;\n",
              "    }\n",
              "\n",
              "    .dataframe thead th {\n",
              "        text-align: right;\n",
              "    }\n",
              "</style>\n",
              "<table border=\"1\" class=\"dataframe\">\n",
              "  <thead>\n",
              "    <tr style=\"text-align: right;\">\n",
              "      <th></th>\n",
              "      <th>Time</th>\n",
              "      <th>Temperature</th>\n",
              "      <th>Dew Point</th>\n",
              "      <th>Humidity</th>\n",
              "      <th>Wind</th>\n",
              "      <th>Wind Speed</th>\n",
              "      <th>Wind Gust</th>\n",
              "      <th>Pressure</th>\n",
              "      <th>Preciptation</th>\n",
              "      <th>Condition</th>\n",
              "    </tr>\n",
              "  </thead>\n",
              "  <tbody>\n",
              "    <tr>\n",
              "      <th>0</th>\n",
              "      <td>2020-01-01 00:51:00</td>\n",
              "      <td>40</td>\n",
              "      <td>25</td>\n",
              "      <td>0.55</td>\n",
              "      <td>W</td>\n",
              "      <td>14</td>\n",
              "      <td>24</td>\n",
              "      <td>2963.0</td>\n",
              "      <td>0.0</td>\n",
              "      <td>Cloudy</td>\n",
              "    </tr>\n",
              "    <tr>\n",
              "      <th>1</th>\n",
              "      <td>2020-01-01 01:51:00</td>\n",
              "      <td>40</td>\n",
              "      <td>26</td>\n",
              "      <td>0.58</td>\n",
              "      <td>W</td>\n",
              "      <td>17</td>\n",
              "      <td>22</td>\n",
              "      <td>2964.0</td>\n",
              "      <td>0.0</td>\n",
              "      <td>Cloudy</td>\n",
              "    </tr>\n",
              "    <tr>\n",
              "      <th>2</th>\n",
              "      <td>2020-01-01 02:51:00</td>\n",
              "      <td>40</td>\n",
              "      <td>25</td>\n",
              "      <td>0.55</td>\n",
              "      <td>W</td>\n",
              "      <td>16</td>\n",
              "      <td>28</td>\n",
              "      <td>2964.0</td>\n",
              "      <td>0.0</td>\n",
              "      <td>Mostly Cloudy</td>\n",
              "    </tr>\n",
              "    <tr>\n",
              "      <th>3</th>\n",
              "      <td>2020-01-01 03:51:00</td>\n",
              "      <td>39</td>\n",
              "      <td>23</td>\n",
              "      <td>0.53</td>\n",
              "      <td>W</td>\n",
              "      <td>16</td>\n",
              "      <td>0</td>\n",
              "      <td>2966.0</td>\n",
              "      <td>0.0</td>\n",
              "      <td>Cloudy</td>\n",
              "    </tr>\n",
              "    <tr>\n",
              "      <th>4</th>\n",
              "      <td>2020-01-01 04:51:00</td>\n",
              "      <td>38</td>\n",
              "      <td>23</td>\n",
              "      <td>0.55</td>\n",
              "      <td>W</td>\n",
              "      <td>14</td>\n",
              "      <td>23</td>\n",
              "      <td>2966.0</td>\n",
              "      <td>0.0</td>\n",
              "      <td>Cloudy</td>\n",
              "    </tr>\n",
              "  </tbody>\n",
              "</table>\n",
              "</div>"
            ],
            "text/plain": [
              "                 Time  Temperature  ...  Preciptation      Condition\n",
              "0 2020-01-01 00:51:00           40  ...           0.0         Cloudy\n",
              "1 2020-01-01 01:51:00           40  ...           0.0         Cloudy\n",
              "2 2020-01-01 02:51:00           40  ...           0.0  Mostly Cloudy\n",
              "3 2020-01-01 03:51:00           39  ...           0.0         Cloudy\n",
              "4 2020-01-01 04:51:00           38  ...           0.0         Cloudy\n",
              "\n",
              "[5 rows x 10 columns]"
            ]
          },
          "metadata": {
            "tags": []
          },
          "execution_count": 16
        }
      ]
    },
    {
      "cell_type": "markdown",
      "metadata": {
        "id": "PWjmrLQ7BQ0x"
      },
      "source": [
        "### Verificando os dados de condicoes"
      ]
    },
    {
      "cell_type": "code",
      "metadata": {
        "colab": {
          "base_uri": "https://localhost:8080/"
        },
        "id": "oCIvRhlQBTGH",
        "outputId": "a1be7f65-dcdc-4823-b4dc-079f9ff8d343"
      },
      "source": [
        "data['Condition'].value_counts()"
      ],
      "execution_count": 17,
      "outputs": [
        {
          "output_type": "execute_result",
          "data": {
            "text/plain": [
              "Mostly Cloudy              2829\n",
              "Cloudy                     2028\n",
              "Fair                       1904\n",
              "Partly Cloudy              1266\n",
              "Light Rain                  829\n",
              "Fog                         197\n",
              "Mostly Cloudy / Windy       144\n",
              "Rain                        127\n",
              "Light Rain / Windy          123\n",
              "Light Drizzle               116\n",
              "Fair / Windy                110\n",
              "Partly Cloudy / Windy        84\n",
              "Cloudy / Windy               75\n",
              "Heavy Rain                   52\n",
              "Light Snow                   38\n",
              "Haze                         35\n",
              "Light Rain with Thunder      31\n",
              "Drizzle and Fog              28\n",
              "Thunder in the Vicinity      28\n",
              "T-Storm                      28\n",
              "Thunder                      26\n",
              "Light Snow / Windy           23\n",
              "Heavy Rain / Windy           22\n",
              "Rain / Windy                 21\n",
              "Wintry Mix                   12\n",
              "Light Drizzle / Windy        10\n",
              "Snow / Windy                 10\n",
              "Heavy T-Storm / Windy         8\n",
              "Heavy T-Storm                 8\n",
              "Snow and Sleet / Windy        7\n",
              "T-Storm / Windy               5\n",
              "Haze / Windy                  5\n",
              "Light Snow and Sleet          4\n",
              "Drizzle and Fog / Windy       3\n",
              "Snow                          3\n",
              "Wintry Mix / Windy            2\n",
              "Squalls / Windy               2\n",
              "Thunder / Windy               1\n",
              "Heavy Snow                    1\n",
              "Fog / Windy                   1\n",
              "Name: Condition, dtype: int64"
            ]
          },
          "metadata": {
            "tags": []
          },
          "execution_count": 17
        }
      ]
    },
    {
      "cell_type": "code",
      "metadata": {
        "id": "B0prYq5lBWNn"
      },
      "source": [
        "data['Condition'] = data['Condition'].astype('category')"
      ],
      "execution_count": 18,
      "outputs": []
    },
    {
      "cell_type": "markdown",
      "metadata": {
        "id": "jMuxC1wEBgcN"
      },
      "source": [
        "### Verificando os dados após as correcoes"
      ]
    },
    {
      "cell_type": "code",
      "metadata": {
        "colab": {
          "base_uri": "https://localhost:8080/"
        },
        "id": "M-Q5EhlMBfQ9",
        "outputId": "b2a55428-614c-4de2-e0fe-53d0f7f0c0ef"
      },
      "source": [
        "data.dtypes"
      ],
      "execution_count": 19,
      "outputs": [
        {
          "output_type": "execute_result",
          "data": {
            "text/plain": [
              "Time            datetime64[ns]\n",
              "Temperature              int64\n",
              "Dew Point                int64\n",
              "Humidity               float64\n",
              "Wind                  category\n",
              "Wind Speed               int64\n",
              "Wind Gust                int64\n",
              "Pressure               float64\n",
              "Preciptation           float64\n",
              "Condition             category\n",
              "dtype: object"
            ]
          },
          "metadata": {
            "tags": []
          },
          "execution_count": 19
        }
      ]
    },
    {
      "cell_type": "markdown",
      "metadata": {
        "id": "eBFOV8fQCk3E"
      },
      "source": [
        "# Analise de dados Univariados"
      ]
    },
    {
      "cell_type": "markdown",
      "metadata": {
        "id": "8-qgKOdIH-JX"
      },
      "source": [
        "## Temperatura"
      ]
    },
    {
      "cell_type": "markdown",
      "metadata": {
        "id": "K_Ni6JtrGDFm"
      },
      "source": [
        "Descricao da temperatura"
      ]
    },
    {
      "cell_type": "code",
      "metadata": {
        "colab": {
          "base_uri": "https://localhost:8080/"
        },
        "id": "7bOzCTvvCoZ7",
        "outputId": "22628490-4cf5-45cb-de39-7f3b5a159e08"
      },
      "source": [
        "data['Temperature'].describe()"
      ],
      "execution_count": 22,
      "outputs": [
        {
          "output_type": "execute_result",
          "data": {
            "text/plain": [
              "count    10246.000000\n",
              "mean        58.203592\n",
              "std         16.487466\n",
              "min         15.000000\n",
              "25%         45.000000\n",
              "50%         57.000000\n",
              "75%         73.000000\n",
              "max         97.000000\n",
              "Name: Temperature, dtype: float64"
            ]
          },
          "metadata": {
            "tags": []
          },
          "execution_count": 22
        }
      ]
    },
    {
      "cell_type": "markdown",
      "metadata": {
        "id": "aGqTIfn-GWx2"
      },
      "source": [
        "Temperaturas medias mensais ao longo do ano"
      ]
    },
    {
      "cell_type": "code",
      "metadata": {
        "colab": {
          "base_uri": "https://localhost:8080/",
          "height": 309
        },
        "id": "bnxc5FefC5bD",
        "outputId": "5cf580c7-af42-45b4-d677-b199e13fd6a4"
      },
      "source": [
        "data.resample('M', on='Time').mean()['Temperature'].plot()"
      ],
      "execution_count": 41,
      "outputs": [
        {
          "output_type": "execute_result",
          "data": {
            "text/plain": [
              "<matplotlib.axes._subplots.AxesSubplot at 0x7f6d1c148650>"
            ]
          },
          "metadata": {
            "tags": []
          },
          "execution_count": 41
        },
        {
          "output_type": "display_data",
          "data": {
            "image/png": "[encoded data removed]",
            "text/plain": [
              "<Figure size 432x288 with 1 Axes>"
            ]
          },
          "metadata": {
            "tags": [],
            "needs_background": "light"
          }
        }
      ]
    },
    {
      "cell_type": "markdown",
      "metadata": {
        "id": "KpFmi5ZLGJPq"
      },
      "source": [
        "Temperaturas de acordo com os meses ao longo do ano"
      ]
    },
    {
      "cell_type": "code",
      "metadata": {
        "colab": {
          "base_uri": "https://localhost:8080/",
          "height": 519
        },
        "id": "J0GjoUhvCujM",
        "outputId": "6029f540-6df5-4be0-ecde-6431f93eb8bf"
      },
      "source": [
        "data.resample('M', on='Time')['Temperature'].plot()"
      ],
      "execution_count": 40,
      "outputs": [
        {
          "output_type": "execute_result",
          "data": {
            "text/plain": [
              "Time\n",
              "2020-01-31    AxesSubplot(0.125,0.125;0.775x0.755)\n",
              "2020-02-29    AxesSubplot(0.125,0.125;0.775x0.755)\n",
              "2020-03-31    AxesSubplot(0.125,0.125;0.775x0.755)\n",
              "2020-04-30    AxesSubplot(0.125,0.125;0.775x0.755)\n",
              "2020-05-31    AxesSubplot(0.125,0.125;0.775x0.755)\n",
              "2020-06-30    AxesSubplot(0.125,0.125;0.775x0.755)\n",
              "2020-07-31    AxesSubplot(0.125,0.125;0.775x0.755)\n",
              "2020-08-31    AxesSubplot(0.125,0.125;0.775x0.755)\n",
              "2020-09-30    AxesSubplot(0.125,0.125;0.775x0.755)\n",
              "2020-10-31    AxesSubplot(0.125,0.125;0.775x0.755)\n",
              "2020-11-30    AxesSubplot(0.125,0.125;0.775x0.755)\n",
              "2020-12-31    AxesSubplot(0.125,0.125;0.775x0.755)\n",
              "Freq: M, Name: Temperature, dtype: object"
            ]
          },
          "metadata": {
            "tags": []
          },
          "execution_count": 40
        },
        {
          "output_type": "display_data",
          "data": {
            "image/png": "[encoded data removed]",
            "text/plain": [
              "<Figure size 432x288 with 1 Axes>"
            ]
          },
          "metadata": {
            "tags": [],
            "needs_background": "light"
          }
        }
      ]
    },
    {
      "cell_type": "markdown",
      "metadata": {
        "id": "lv60psOmIE_q"
      },
      "source": [
        "## Dew Point"
      ]
    },
    {
      "cell_type": "code",
      "metadata": {
        "colab": {
          "base_uri": "https://localhost:8080/"
        },
        "id": "tZo3zBlyIHZK",
        "outputId": "78c818de-c15d-4d2f-fe14-c00b5bc23619"
      },
      "source": [
        "data['Dew Point'].describe()"
      ],
      "execution_count": 45,
      "outputs": [
        {
          "output_type": "execute_result",
          "data": {
            "text/plain": [
              "count    10246.000000\n",
              "mean        43.948175\n",
              "std         17.607824\n",
              "min          0.000000\n",
              "25%         31.000000\n",
              "50%         43.000000\n",
              "75%         60.000000\n",
              "max         75.000000\n",
              "Name: Dew Point, dtype: float64"
            ]
          },
          "metadata": {
            "tags": []
          },
          "execution_count": 45
        }
      ]
    },
    {
      "cell_type": "code",
      "metadata": {
        "id": "Y8bzKUF2ISQa"
      },
      "source": [
        ""
      ],
      "execution_count": null,
      "outputs": []
    }
  ]
}
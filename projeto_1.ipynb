{
  "nbformat": 4,
  "nbformat_minor": 0,
  "metadata": {
    "colab": {
      "name": "projeto_1.ipynb",
      "provenance": [],
      "collapsed_sections": [],
      "authorship_tag": "ABX9TyOAEMVfNUUyJOhWS8IKrUCO",
      "include_colab_link": true
    },
    "kernelspec": {
      "name": "python3",
      "display_name": "Python 3"
    }
  },
  "cells": [
    {
      "cell_type": "markdown",
      "metadata": {
        "id": "view-in-github",
        "colab_type": "text"
      },
      "source": [
        "<a href=\"https://colab.research.google.com/github/pedrohcaminha/projeto1DS/blob/main/projeto_1.ipynb\" target=\"_parent\"><img src=\"https://colab.research.google.com/assets/colab-badge.svg\" alt=\"Open In Colab\"/></a>"
      ]
    },
    {
      "cell_type": "markdown",
      "metadata": {
        "id": "gakru6IX1ipX"
      },
      "source": [
        "# Importação de bibliotecas e dados"
      ]
    },
    {
      "cell_type": "markdown",
      "metadata": {
        "id": "R9Tu5ZlL1tZ6"
      },
      "source": [
        "### Importando bibliotecas"
      ]
    },
    {
      "cell_type": "code",
      "metadata": {
        "id": "zJnf2V7e1piH"
      },
      "source": [
        "import pandas as pd\n",
        "import datetime\n",
        "import seaborn as sns\n",
        "import numpy as np"
      ],
      "execution_count": 1,
      "outputs": []
    },
    {
      "cell_type": "markdown",
      "metadata": {
        "id": "Bxa3UFmq0ZvQ"
      },
      "source": [
        "### Importando dados"
      ]
    },
    {
      "cell_type": "code",
      "metadata": {
        "colab": {
          "base_uri": "https://localhost:8080/",
          "height": 204
        },
        "id": "vkQ0ppqWpih2",
        "outputId": "0591726a-3ca9-4751-ba7e-90f2ed91a5b8"
      },
      "source": [
        "url = 'https://raw.githubusercontent.com/pedrohcaminha/projeto1DS/main/data.csv'\n",
        "data = pd.read_csv(url, sep='\\t')\n",
        "data.head()"
      ],
      "execution_count": 2,
      "outputs": [
        {
          "output_type": "execute_result",
          "data": {
            "text/html": [
              "<div>\n",
              "<style scoped>\n",
              "    .dataframe tbody tr th:only-of-type {\n",
              "        vertical-align: middle;\n",
              "    }\n",
              "\n",
              "    .dataframe tbody tr th {\n",
              "        vertical-align: top;\n",
              "    }\n",
              "\n",
              "    .dataframe thead th {\n",
              "        text-align: right;\n",
              "    }\n",
              "</style>\n",
              "<table border=\"1\" class=\"dataframe\">\n",
              "  <thead>\n",
              "    <tr style=\"text-align: right;\">\n",
              "      <th></th>\n",
              "      <th>Time</th>\n",
              "      <th>Temperature</th>\n",
              "      <th>Dew Point</th>\n",
              "      <th>Humidity</th>\n",
              "      <th>Wind</th>\n",
              "      <th>Wind Speed</th>\n",
              "      <th>Wind Gust</th>\n",
              "      <th>Pressure</th>\n",
              "      <th>Preciptation</th>\n",
              "      <th>Condition</th>\n",
              "      <th>day</th>\n",
              "    </tr>\n",
              "  </thead>\n",
              "  <tbody>\n",
              "    <tr>\n",
              "      <th>10247</th>\n",
              "      <td>8:51 PM</td>\n",
              "      <td>43 F</td>\n",
              "      <td>28 F</td>\n",
              "      <td>56 %</td>\n",
              "      <td>SSW</td>\n",
              "      <td>15 mph</td>\n",
              "      <td>0 mph</td>\n",
              "      <td>30.10 in</td>\n",
              "      <td>0.0 in</td>\n",
              "      <td>Mostly Cloudy</td>\n",
              "      <td>365</td>\n",
              "    </tr>\n",
              "    <tr>\n",
              "      <th>10248</th>\n",
              "      <td>9:51 PM</td>\n",
              "      <td>43 F</td>\n",
              "      <td>28 F</td>\n",
              "      <td>56 %</td>\n",
              "      <td>SW</td>\n",
              "      <td>7 mph</td>\n",
              "      <td>0 mph</td>\n",
              "      <td>30.08 in</td>\n",
              "      <td>0.0 in</td>\n",
              "      <td>Mostly Cloudy</td>\n",
              "      <td>365</td>\n",
              "    </tr>\n",
              "    <tr>\n",
              "      <th>10249</th>\n",
              "      <td>10:46 PM</td>\n",
              "      <td>45 F</td>\n",
              "      <td>28 F</td>\n",
              "      <td>53 %</td>\n",
              "      <td>SSW</td>\n",
              "      <td>15 mph</td>\n",
              "      <td>22 mph</td>\n",
              "      <td>30.06 in</td>\n",
              "      <td>0.0 in</td>\n",
              "      <td>Cloudy</td>\n",
              "      <td>365</td>\n",
              "    </tr>\n",
              "    <tr>\n",
              "      <th>10250</th>\n",
              "      <td>10:51 PM</td>\n",
              "      <td>44 F</td>\n",
              "      <td>28 F</td>\n",
              "      <td>53 %</td>\n",
              "      <td>SSW</td>\n",
              "      <td>15 mph</td>\n",
              "      <td>22 mph</td>\n",
              "      <td>30.06 in</td>\n",
              "      <td>0.0 in</td>\n",
              "      <td>Cloudy</td>\n",
              "      <td>365</td>\n",
              "    </tr>\n",
              "    <tr>\n",
              "      <th>10251</th>\n",
              "      <td>11:51 PM</td>\n",
              "      <td>45 F</td>\n",
              "      <td>28 F</td>\n",
              "      <td>52 %</td>\n",
              "      <td>SW</td>\n",
              "      <td>14 mph</td>\n",
              "      <td>0 mph</td>\n",
              "      <td>30.02 in</td>\n",
              "      <td>0.0 in</td>\n",
              "      <td>Cloudy</td>\n",
              "      <td>365</td>\n",
              "    </tr>\n",
              "  </tbody>\n",
              "</table>\n",
              "</div>"
            ],
            "text/plain": [
              "           Time Temperature Dew Point  ... Preciptation      Condition  day\n",
              "10247   8:51 PM        43 F      28 F  ...       0.0 in  Mostly Cloudy  365\n",
              "10248   9:51 PM        43 F      28 F  ...       0.0 in  Mostly Cloudy  365\n",
              "10249  10:46 PM        45 F      28 F  ...       0.0 in         Cloudy  365\n",
              "10250  10:51 PM        44 F      28 F  ...       0.0 in         Cloudy  365\n",
              "10251  11:51 PM        45 F      28 F  ...       0.0 in         Cloudy  365\n",
              "\n",
              "[5 rows x 11 columns]"
            ]
          },
          "metadata": {
            "tags": []
          },
          "execution_count": 2
        }
      ]
    },
    {
      "cell_type": "markdown",
      "metadata": {
        "id": "2XjjhARp7H_m"
      },
      "source": [
        "# Tratamento de dados faltantes"
      ]
    },
    {
      "cell_type": "markdown",
      "metadata": {
        "id": "OE55VxPA61zN"
      },
      "source": [
        "### Verificando se existem dados ausentes"
      ]
    },
    {
      "cell_type": "code",
      "metadata": {
        "colab": {
          "base_uri": "https://localhost:8080/"
        },
        "id": "FTHfosMb5OxN",
        "outputId": "eb06fb21-243b-43de-a9c5-99c9806d9a74"
      },
      "source": [
        "data.isnull().sum()"
      ],
      "execution_count": 3,
      "outputs": [
        {
          "output_type": "execute_result",
          "data": {
            "text/plain": [
              "Time            0\n",
              "Temperature     0\n",
              "Dew Point       0\n",
              "Humidity        0\n",
              "Wind            5\n",
              "Wind Speed      0\n",
              "Wind Gust       0\n",
              "Pressure        0\n",
              "Preciptation    0\n",
              "Condition       1\n",
              "day             0\n",
              "dtype: int64"
            ]
          },
          "metadata": {
            "tags": []
          },
          "execution_count": 3
        }
      ]
    },
    {
      "cell_type": "markdown",
      "metadata": {
        "id": "lokHCKLy689_"
      },
      "source": [
        "### Como existem poucos dados ausentes, as linhas serão removidas"
      ]
    },
    {
      "cell_type": "code",
      "metadata": {
        "colab": {
          "base_uri": "https://localhost:8080/"
        },
        "id": "q9rhiAk77DU4",
        "outputId": "8f8c7450-f63a-4fdd-d8e8-b4ca08592e29"
      },
      "source": [
        "data.shape"
      ],
      "execution_count": 4,
      "outputs": [
        {
          "output_type": "execute_result",
          "data": {
            "text/plain": [
              "(10252, 11)"
            ]
          },
          "metadata": {
            "tags": []
          },
          "execution_count": 4
        }
      ]
    },
    {
      "cell_type": "code",
      "metadata": {
        "colab": {
          "base_uri": "https://localhost:8080/"
        },
        "id": "ykjOHAH46MHR",
        "outputId": "d6b0cbdc-ef97-42ed-8176-c210932f4f25"
      },
      "source": [
        "data.dropna(inplace=True)\n",
        "data.shape"
      ],
      "execution_count": 5,
      "outputs": [
        {
          "output_type": "execute_result",
          "data": {
            "text/plain": [
              "(10246, 11)"
            ]
          },
          "metadata": {
            "tags": []
          },
          "execution_count": 5
        }
      ]
    },
    {
      "cell_type": "markdown",
      "metadata": {
        "id": "gb2dfe-Y1dDF"
      },
      "source": [
        "# Realizando correções de Tipos"
      ]
    },
    {
      "cell_type": "markdown",
      "metadata": {
        "id": "gVDlos6t1VX7"
      },
      "source": [
        "### Verificando os tipos\n"
      ]
    },
    {
      "cell_type": "code",
      "metadata": {
        "colab": {
          "base_uri": "https://localhost:8080/"
        },
        "id": "u1Lb1Bbo1Y1O",
        "outputId": "7eee0696-9302-4736-ffd5-9fe70cd526e3"
      },
      "source": [
        "data.dtypes"
      ],
      "execution_count": 6,
      "outputs": [
        {
          "output_type": "execute_result",
          "data": {
            "text/plain": [
              "Time            object\n",
              "Temperature     object\n",
              "Dew Point       object\n",
              "Humidity        object\n",
              "Wind            object\n",
              "Wind Speed      object\n",
              "Wind Gust       object\n",
              "Pressure        object\n",
              "Preciptation    object\n",
              "Condition       object\n",
              "day              int64\n",
              "dtype: object"
            ]
          },
          "metadata": {
            "tags": []
          },
          "execution_count": 6
        }
      ]
    },
    {
      "cell_type": "markdown",
      "metadata": {
        "id": "HFes194I0dDU"
      },
      "source": [
        "### Corrigindo os dados de tempo"
      ]
    },
    {
      "cell_type": "code",
      "metadata": {
        "colab": {
          "base_uri": "https://localhost:8080/",
          "height": 0
        },
        "id": "aYYFeaYrpoiT",
        "outputId": "c8123e7c-984e-4ee5-e1a4-e9f6f6cd3d57"
      },
      "source": [
        "start_date = datetime.date(2020, 1, 1)\n",
        "end_date = datetime.date(2020, 12, 31)\n",
        "delta = datetime.timedelta(hours=24)\n",
        "\n",
        "timeseries = []\n",
        "last_day = 1\n",
        "for index, row in data.iterrows():\n",
        "  if(last_day != row['day']):\n",
        "    start_date += delta\n",
        "    last_day = row['day']\n",
        "  timeseries.append(str(start_date) + \" \" + row['Time'])\n",
        "data['Time'] = timeseries\n",
        "data['Time'] =  pd.to_datetime(data['Time'], infer_datetime_format=True)\n",
        "data.drop(columns=['day'], inplace=True)\n",
        "data.head()"
      ],
      "execution_count": 7,
      "outputs": [
        {
          "output_type": "execute_result",
          "data": {
            "text/html": [
              "<div>\n",
              "<style scoped>\n",
              "    .dataframe tbody tr th:only-of-type {\n",
              "        vertical-align: middle;\n",
              "    }\n",
              "\n",
              "    .dataframe tbody tr th {\n",
              "        vertical-align: top;\n",
              "    }\n",
              "\n",
              "    .dataframe thead th {\n",
              "        text-align: right;\n",
              "    }\n",
              "</style>\n",
              "<table border=\"1\" class=\"dataframe\">\n",
              "  <thead>\n",
              "    <tr style=\"text-align: right;\">\n",
              "      <th></th>\n",
              "      <th>Time</th>\n",
              "      <th>Temperature</th>\n",
              "      <th>Dew Point</th>\n",
              "      <th>Humidity</th>\n",
              "      <th>Wind</th>\n",
              "      <th>Wind Speed</th>\n",
              "      <th>Wind Gust</th>\n",
              "      <th>Pressure</th>\n",
              "      <th>Preciptation</th>\n",
              "      <th>Condition</th>\n",
              "    </tr>\n",
              "  </thead>\n",
              "  <tbody>\n",
              "    <tr>\n",
              "      <th>0</th>\n",
              "      <td>2020-01-01 00:51:00</td>\n",
              "      <td>40 F</td>\n",
              "      <td>25 F</td>\n",
              "      <td>55 %</td>\n",
              "      <td>W</td>\n",
              "      <td>14 mph</td>\n",
              "      <td>24 mph</td>\n",
              "      <td>29.63 in</td>\n",
              "      <td>0.0 in</td>\n",
              "      <td>Cloudy</td>\n",
              "    </tr>\n",
              "    <tr>\n",
              "      <th>1</th>\n",
              "      <td>2020-01-01 01:51:00</td>\n",
              "      <td>40 F</td>\n",
              "      <td>26 F</td>\n",
              "      <td>58 %</td>\n",
              "      <td>W</td>\n",
              "      <td>17 mph</td>\n",
              "      <td>22 mph</td>\n",
              "      <td>29.64 in</td>\n",
              "      <td>0.0 in</td>\n",
              "      <td>Cloudy</td>\n",
              "    </tr>\n",
              "    <tr>\n",
              "      <th>2</th>\n",
              "      <td>2020-01-01 02:51:00</td>\n",
              "      <td>40 F</td>\n",
              "      <td>25 F</td>\n",
              "      <td>55 %</td>\n",
              "      <td>W</td>\n",
              "      <td>16 mph</td>\n",
              "      <td>28 mph</td>\n",
              "      <td>29.64 in</td>\n",
              "      <td>0.0 in</td>\n",
              "      <td>Mostly Cloudy</td>\n",
              "    </tr>\n",
              "    <tr>\n",
              "      <th>3</th>\n",
              "      <td>2020-01-01 03:51:00</td>\n",
              "      <td>39 F</td>\n",
              "      <td>23 F</td>\n",
              "      <td>53 %</td>\n",
              "      <td>W</td>\n",
              "      <td>16 mph</td>\n",
              "      <td>0 mph</td>\n",
              "      <td>29.66 in</td>\n",
              "      <td>0.0 in</td>\n",
              "      <td>Cloudy</td>\n",
              "    </tr>\n",
              "    <tr>\n",
              "      <th>4</th>\n",
              "      <td>2020-01-01 04:51:00</td>\n",
              "      <td>38 F</td>\n",
              "      <td>23 F</td>\n",
              "      <td>55 %</td>\n",
              "      <td>W</td>\n",
              "      <td>14 mph</td>\n",
              "      <td>23 mph</td>\n",
              "      <td>29.66 in</td>\n",
              "      <td>0.0 in</td>\n",
              "      <td>Cloudy</td>\n",
              "    </tr>\n",
              "  </tbody>\n",
              "</table>\n",
              "</div>"
            ],
            "text/plain": [
              "                 Time Temperature  ... Preciptation      Condition\n",
              "0 2020-01-01 00:51:00        40 F  ...       0.0 in         Cloudy\n",
              "1 2020-01-01 01:51:00        40 F  ...       0.0 in         Cloudy\n",
              "2 2020-01-01 02:51:00        40 F  ...       0.0 in  Mostly Cloudy\n",
              "3 2020-01-01 03:51:00        39 F  ...       0.0 in         Cloudy\n",
              "4 2020-01-01 04:51:00        38 F  ...       0.0 in         Cloudy\n",
              "\n",
              "[5 rows x 10 columns]"
            ]
          },
          "metadata": {
            "tags": []
          },
          "execution_count": 7
        }
      ]
    },
    {
      "cell_type": "markdown",
      "metadata": {
        "id": "JT7um7UO126Y"
      },
      "source": [
        "### Corrigindo os dados de temperatura"
      ]
    },
    {
      "cell_type": "code",
      "metadata": {
        "colab": {
          "base_uri": "https://localhost:8080/",
          "height": 0
        },
        "id": "zDS0KLcj15Vm",
        "outputId": "9b305060-e73c-454c-82e7-84b96ef46611"
      },
      "source": [
        "Temperature = []\n",
        "for index, row in data.iterrows():\n",
        "  Temperature.append(int(''.join(filter(str.isdigit, row['Temperature']))))\n",
        "data['Temperature'] = Temperature\n",
        "data.head()"
      ],
      "execution_count": 8,
      "outputs": [
        {
          "output_type": "execute_result",
          "data": {
            "text/html": [
              "<div>\n",
              "<style scoped>\n",
              "    .dataframe tbody tr th:only-of-type {\n",
              "        vertical-align: middle;\n",
              "    }\n",
              "\n",
              "    .dataframe tbody tr th {\n",
              "        vertical-align: top;\n",
              "    }\n",
              "\n",
              "    .dataframe thead th {\n",
              "        text-align: right;\n",
              "    }\n",
              "</style>\n",
              "<table border=\"1\" class=\"dataframe\">\n",
              "  <thead>\n",
              "    <tr style=\"text-align: right;\">\n",
              "      <th></th>\n",
              "      <th>Time</th>\n",
              "      <th>Temperature</th>\n",
              "      <th>Dew Point</th>\n",
              "      <th>Humidity</th>\n",
              "      <th>Wind</th>\n",
              "      <th>Wind Speed</th>\n",
              "      <th>Wind Gust</th>\n",
              "      <th>Pressure</th>\n",
              "      <th>Preciptation</th>\n",
              "      <th>Condition</th>\n",
              "    </tr>\n",
              "  </thead>\n",
              "  <tbody>\n",
              "    <tr>\n",
              "      <th>0</th>\n",
              "      <td>2020-01-01 00:51:00</td>\n",
              "      <td>40</td>\n",
              "      <td>25 F</td>\n",
              "      <td>55 %</td>\n",
              "      <td>W</td>\n",
              "      <td>14 mph</td>\n",
              "      <td>24 mph</td>\n",
              "      <td>29.63 in</td>\n",
              "      <td>0.0 in</td>\n",
              "      <td>Cloudy</td>\n",
              "    </tr>\n",
              "    <tr>\n",
              "      <th>1</th>\n",
              "      <td>2020-01-01 01:51:00</td>\n",
              "      <td>40</td>\n",
              "      <td>26 F</td>\n",
              "      <td>58 %</td>\n",
              "      <td>W</td>\n",
              "      <td>17 mph</td>\n",
              "      <td>22 mph</td>\n",
              "      <td>29.64 in</td>\n",
              "      <td>0.0 in</td>\n",
              "      <td>Cloudy</td>\n",
              "    </tr>\n",
              "    <tr>\n",
              "      <th>2</th>\n",
              "      <td>2020-01-01 02:51:00</td>\n",
              "      <td>40</td>\n",
              "      <td>25 F</td>\n",
              "      <td>55 %</td>\n",
              "      <td>W</td>\n",
              "      <td>16 mph</td>\n",
              "      <td>28 mph</td>\n",
              "      <td>29.64 in</td>\n",
              "      <td>0.0 in</td>\n",
              "      <td>Mostly Cloudy</td>\n",
              "    </tr>\n",
              "    <tr>\n",
              "      <th>3</th>\n",
              "      <td>2020-01-01 03:51:00</td>\n",
              "      <td>39</td>\n",
              "      <td>23 F</td>\n",
              "      <td>53 %</td>\n",
              "      <td>W</td>\n",
              "      <td>16 mph</td>\n",
              "      <td>0 mph</td>\n",
              "      <td>29.66 in</td>\n",
              "      <td>0.0 in</td>\n",
              "      <td>Cloudy</td>\n",
              "    </tr>\n",
              "    <tr>\n",
              "      <th>4</th>\n",
              "      <td>2020-01-01 04:51:00</td>\n",
              "      <td>38</td>\n",
              "      <td>23 F</td>\n",
              "      <td>55 %</td>\n",
              "      <td>W</td>\n",
              "      <td>14 mph</td>\n",
              "      <td>23 mph</td>\n",
              "      <td>29.66 in</td>\n",
              "      <td>0.0 in</td>\n",
              "      <td>Cloudy</td>\n",
              "    </tr>\n",
              "  </tbody>\n",
              "</table>\n",
              "</div>"
            ],
            "text/plain": [
              "                 Time  Temperature  ... Preciptation      Condition\n",
              "0 2020-01-01 00:51:00           40  ...       0.0 in         Cloudy\n",
              "1 2020-01-01 01:51:00           40  ...       0.0 in         Cloudy\n",
              "2 2020-01-01 02:51:00           40  ...       0.0 in  Mostly Cloudy\n",
              "3 2020-01-01 03:51:00           39  ...       0.0 in         Cloudy\n",
              "4 2020-01-01 04:51:00           38  ...       0.0 in         Cloudy\n",
              "\n",
              "[5 rows x 10 columns]"
            ]
          },
          "metadata": {
            "tags": []
          },
          "execution_count": 8
        }
      ]
    },
    {
      "cell_type": "markdown",
      "metadata": {
        "id": "fpeN2EfW5Qxu"
      },
      "source": [
        "### Corrigindo os dados de ponto de condensação da água"
      ]
    },
    {
      "cell_type": "code",
      "metadata": {
        "colab": {
          "base_uri": "https://localhost:8080/",
          "height": 204
        },
        "id": "W-wReRSE2bnc",
        "outputId": "934a9121-fe48-4c5e-ea1b-c4bea8f2a8a5"
      },
      "source": [
        "dew = []\n",
        "for index, row in data.iterrows():\n",
        "  dew.append(int(''.join(filter(str.isdigit, row['Dew Point']))))\n",
        "data['Dew Point'] = dew\n",
        "data.head()"
      ],
      "execution_count": 9,
      "outputs": [
        {
          "output_type": "execute_result",
          "data": {
            "text/html": [
              "<div>\n",
              "<style scoped>\n",
              "    .dataframe tbody tr th:only-of-type {\n",
              "        vertical-align: middle;\n",
              "    }\n",
              "\n",
              "    .dataframe tbody tr th {\n",
              "        vertical-align: top;\n",
              "    }\n",
              "\n",
              "    .dataframe thead th {\n",
              "        text-align: right;\n",
              "    }\n",
              "</style>\n",
              "<table border=\"1\" class=\"dataframe\">\n",
              "  <thead>\n",
              "    <tr style=\"text-align: right;\">\n",
              "      <th></th>\n",
              "      <th>Time</th>\n",
              "      <th>Temperature</th>\n",
              "      <th>Dew Point</th>\n",
              "      <th>Humidity</th>\n",
              "      <th>Wind</th>\n",
              "      <th>Wind Speed</th>\n",
              "      <th>Wind Gust</th>\n",
              "      <th>Pressure</th>\n",
              "      <th>Preciptation</th>\n",
              "      <th>Condition</th>\n",
              "    </tr>\n",
              "  </thead>\n",
              "  <tbody>\n",
              "    <tr>\n",
              "      <th>0</th>\n",
              "      <td>2020-01-01 00:51:00</td>\n",
              "      <td>40</td>\n",
              "      <td>25</td>\n",
              "      <td>55 %</td>\n",
              "      <td>W</td>\n",
              "      <td>14 mph</td>\n",
              "      <td>24 mph</td>\n",
              "      <td>29.63 in</td>\n",
              "      <td>0.0 in</td>\n",
              "      <td>Cloudy</td>\n",
              "    </tr>\n",
              "    <tr>\n",
              "      <th>1</th>\n",
              "      <td>2020-01-01 01:51:00</td>\n",
              "      <td>40</td>\n",
              "      <td>26</td>\n",
              "      <td>58 %</td>\n",
              "      <td>W</td>\n",
              "      <td>17 mph</td>\n",
              "      <td>22 mph</td>\n",
              "      <td>29.64 in</td>\n",
              "      <td>0.0 in</td>\n",
              "      <td>Cloudy</td>\n",
              "    </tr>\n",
              "    <tr>\n",
              "      <th>2</th>\n",
              "      <td>2020-01-01 02:51:00</td>\n",
              "      <td>40</td>\n",
              "      <td>25</td>\n",
              "      <td>55 %</td>\n",
              "      <td>W</td>\n",
              "      <td>16 mph</td>\n",
              "      <td>28 mph</td>\n",
              "      <td>29.64 in</td>\n",
              "      <td>0.0 in</td>\n",
              "      <td>Mostly Cloudy</td>\n",
              "    </tr>\n",
              "    <tr>\n",
              "      <th>3</th>\n",
              "      <td>2020-01-01 03:51:00</td>\n",
              "      <td>39</td>\n",
              "      <td>23</td>\n",
              "      <td>53 %</td>\n",
              "      <td>W</td>\n",
              "      <td>16 mph</td>\n",
              "      <td>0 mph</td>\n",
              "      <td>29.66 in</td>\n",
              "      <td>0.0 in</td>\n",
              "      <td>Cloudy</td>\n",
              "    </tr>\n",
              "    <tr>\n",
              "      <th>4</th>\n",
              "      <td>2020-01-01 04:51:00</td>\n",
              "      <td>38</td>\n",
              "      <td>23</td>\n",
              "      <td>55 %</td>\n",
              "      <td>W</td>\n",
              "      <td>14 mph</td>\n",
              "      <td>23 mph</td>\n",
              "      <td>29.66 in</td>\n",
              "      <td>0.0 in</td>\n",
              "      <td>Cloudy</td>\n",
              "    </tr>\n",
              "  </tbody>\n",
              "</table>\n",
              "</div>"
            ],
            "text/plain": [
              "                 Time  Temperature  ...  Preciptation      Condition\n",
              "0 2020-01-01 00:51:00           40  ...        0.0 in         Cloudy\n",
              "1 2020-01-01 01:51:00           40  ...        0.0 in         Cloudy\n",
              "2 2020-01-01 02:51:00           40  ...        0.0 in  Mostly Cloudy\n",
              "3 2020-01-01 03:51:00           39  ...        0.0 in         Cloudy\n",
              "4 2020-01-01 04:51:00           38  ...        0.0 in         Cloudy\n",
              "\n",
              "[5 rows x 10 columns]"
            ]
          },
          "metadata": {
            "tags": []
          },
          "execution_count": 9
        }
      ]
    },
    {
      "cell_type": "markdown",
      "metadata": {
        "id": "9NMod6LM9VHk"
      },
      "source": [
        "### Corrigindo os dados de humidade"
      ]
    },
    {
      "cell_type": "code",
      "metadata": {
        "colab": {
          "base_uri": "https://localhost:8080/",
          "height": 0
        },
        "id": "ZCI5GnOt7ZsP",
        "outputId": "db2596b2-0810-4dc4-b196-d33887df309a"
      },
      "source": [
        "Humidity = []\n",
        "for index, row in data.iterrows():\n",
        "  Humidity.append(int(''.join(filter(str.isdigit, row['Humidity'])))/100)\n",
        "data['Humidity'] = Humidity\n",
        "data.head()"
      ],
      "execution_count": 10,
      "outputs": [
        {
          "output_type": "execute_result",
          "data": {
            "text/html": [
              "<div>\n",
              "<style scoped>\n",
              "    .dataframe tbody tr th:only-of-type {\n",
              "        vertical-align: middle;\n",
              "    }\n",
              "\n",
              "    .dataframe tbody tr th {\n",
              "        vertical-align: top;\n",
              "    }\n",
              "\n",
              "    .dataframe thead th {\n",
              "        text-align: right;\n",
              "    }\n",
              "</style>\n",
              "<table border=\"1\" class=\"dataframe\">\n",
              "  <thead>\n",
              "    <tr style=\"text-align: right;\">\n",
              "      <th></th>\n",
              "      <th>Time</th>\n",
              "      <th>Temperature</th>\n",
              "      <th>Dew Point</th>\n",
              "      <th>Humidity</th>\n",
              "      <th>Wind</th>\n",
              "      <th>Wind Speed</th>\n",
              "      <th>Wind Gust</th>\n",
              "      <th>Pressure</th>\n",
              "      <th>Preciptation</th>\n",
              "      <th>Condition</th>\n",
              "    </tr>\n",
              "  </thead>\n",
              "  <tbody>\n",
              "    <tr>\n",
              "      <th>0</th>\n",
              "      <td>2020-01-01 00:51:00</td>\n",
              "      <td>40</td>\n",
              "      <td>25</td>\n",
              "      <td>0.55</td>\n",
              "      <td>W</td>\n",
              "      <td>14 mph</td>\n",
              "      <td>24 mph</td>\n",
              "      <td>29.63 in</td>\n",
              "      <td>0.0 in</td>\n",
              "      <td>Cloudy</td>\n",
              "    </tr>\n",
              "    <tr>\n",
              "      <th>1</th>\n",
              "      <td>2020-01-01 01:51:00</td>\n",
              "      <td>40</td>\n",
              "      <td>26</td>\n",
              "      <td>0.58</td>\n",
              "      <td>W</td>\n",
              "      <td>17 mph</td>\n",
              "      <td>22 mph</td>\n",
              "      <td>29.64 in</td>\n",
              "      <td>0.0 in</td>\n",
              "      <td>Cloudy</td>\n",
              "    </tr>\n",
              "    <tr>\n",
              "      <th>2</th>\n",
              "      <td>2020-01-01 02:51:00</td>\n",
              "      <td>40</td>\n",
              "      <td>25</td>\n",
              "      <td>0.55</td>\n",
              "      <td>W</td>\n",
              "      <td>16 mph</td>\n",
              "      <td>28 mph</td>\n",
              "      <td>29.64 in</td>\n",
              "      <td>0.0 in</td>\n",
              "      <td>Mostly Cloudy</td>\n",
              "    </tr>\n",
              "    <tr>\n",
              "      <th>3</th>\n",
              "      <td>2020-01-01 03:51:00</td>\n",
              "      <td>39</td>\n",
              "      <td>23</td>\n",
              "      <td>0.53</td>\n",
              "      <td>W</td>\n",
              "      <td>16 mph</td>\n",
              "      <td>0 mph</td>\n",
              "      <td>29.66 in</td>\n",
              "      <td>0.0 in</td>\n",
              "      <td>Cloudy</td>\n",
              "    </tr>\n",
              "    <tr>\n",
              "      <th>4</th>\n",
              "      <td>2020-01-01 04:51:00</td>\n",
              "      <td>38</td>\n",
              "      <td>23</td>\n",
              "      <td>0.55</td>\n",
              "      <td>W</td>\n",
              "      <td>14 mph</td>\n",
              "      <td>23 mph</td>\n",
              "      <td>29.66 in</td>\n",
              "      <td>0.0 in</td>\n",
              "      <td>Cloudy</td>\n",
              "    </tr>\n",
              "  </tbody>\n",
              "</table>\n",
              "</div>"
            ],
            "text/plain": [
              "                 Time  Temperature  ...  Preciptation      Condition\n",
              "0 2020-01-01 00:51:00           40  ...        0.0 in         Cloudy\n",
              "1 2020-01-01 01:51:00           40  ...        0.0 in         Cloudy\n",
              "2 2020-01-01 02:51:00           40  ...        0.0 in  Mostly Cloudy\n",
              "3 2020-01-01 03:51:00           39  ...        0.0 in         Cloudy\n",
              "4 2020-01-01 04:51:00           38  ...        0.0 in         Cloudy\n",
              "\n",
              "[5 rows x 10 columns]"
            ]
          },
          "metadata": {
            "tags": []
          },
          "execution_count": 10
        }
      ]
    },
    {
      "cell_type": "markdown",
      "metadata": {
        "id": "_8X3ZSu39tfc"
      },
      "source": [
        "### Verificando os dados de direcao do vento (nao precisa de correcao)"
      ]
    },
    {
      "cell_type": "code",
      "metadata": {
        "colab": {
          "base_uri": "https://localhost:8080/"
        },
        "id": "GxMVE0Sf7dxG",
        "outputId": "82a2c856-d0ba-497b-d5cd-d1fffc8f9c3c"
      },
      "source": [
        "data['Wind'].value_counts()"
      ],
      "execution_count": 11,
      "outputs": [
        {
          "output_type": "execute_result",
          "data": {
            "text/plain": [
              "S       1306\n",
              "NE      1089\n",
              "NW       872\n",
              "ENE      783\n",
              "W        679\n",
              "SSW      648\n",
              "SW       615\n",
              "WNW      611\n",
              "NNW      556\n",
              "N        550\n",
              "WSW      420\n",
              "SSE      419\n",
              "CALM     404\n",
              "E        388\n",
              "NNE      349\n",
              "SE       229\n",
              "ESE      199\n",
              "VAR      129\n",
              "Name: Wind, dtype: int64"
            ]
          },
          "metadata": {
            "tags": []
          },
          "execution_count": 11
        }
      ]
    },
    {
      "cell_type": "code",
      "metadata": {
        "id": "8YbM47Wf-wqJ"
      },
      "source": [
        "data['Wind'] = data['Wind'].astype('category')"
      ],
      "execution_count": 12,
      "outputs": []
    },
    {
      "cell_type": "markdown",
      "metadata": {
        "id": "wpm3_ZRS-rM-"
      },
      "source": [
        "### Corrigindo os dados de velocidade do vento"
      ]
    },
    {
      "cell_type": "code",
      "metadata": {
        "colab": {
          "base_uri": "https://localhost:8080/",
          "height": 0
        },
        "id": "5gECbDjE-t4H",
        "outputId": "066585b8-99a0-4601-c2da-9aa08f491de2"
      },
      "source": [
        "Speed = []\n",
        "for index, row in data.iterrows():\n",
        "  Speed.append(int(''.join(filter(str.isdigit, row['Wind Speed']))))\n",
        "data['Wind Speed'] = Speed\n",
        "data.head()"
      ],
      "execution_count": 13,
      "outputs": [
        {
          "output_type": "execute_result",
          "data": {
            "text/html": [
              "<div>\n",
              "<style scoped>\n",
              "    .dataframe tbody tr th:only-of-type {\n",
              "        vertical-align: middle;\n",
              "    }\n",
              "\n",
              "    .dataframe tbody tr th {\n",
              "        vertical-align: top;\n",
              "    }\n",
              "\n",
              "    .dataframe thead th {\n",
              "        text-align: right;\n",
              "    }\n",
              "</style>\n",
              "<table border=\"1\" class=\"dataframe\">\n",
              "  <thead>\n",
              "    <tr style=\"text-align: right;\">\n",
              "      <th></th>\n",
              "      <th>Time</th>\n",
              "      <th>Temperature</th>\n",
              "      <th>Dew Point</th>\n",
              "      <th>Humidity</th>\n",
              "      <th>Wind</th>\n",
              "      <th>Wind Speed</th>\n",
              "      <th>Wind Gust</th>\n",
              "      <th>Pressure</th>\n",
              "      <th>Preciptation</th>\n",
              "      <th>Condition</th>\n",
              "    </tr>\n",
              "  </thead>\n",
              "  <tbody>\n",
              "    <tr>\n",
              "      <th>0</th>\n",
              "      <td>2020-01-01 00:51:00</td>\n",
              "      <td>40</td>\n",
              "      <td>25</td>\n",
              "      <td>0.55</td>\n",
              "      <td>W</td>\n",
              "      <td>14</td>\n",
              "      <td>24 mph</td>\n",
              "      <td>29.63 in</td>\n",
              "      <td>0.0 in</td>\n",
              "      <td>Cloudy</td>\n",
              "    </tr>\n",
              "    <tr>\n",
              "      <th>1</th>\n",
              "      <td>2020-01-01 01:51:00</td>\n",
              "      <td>40</td>\n",
              "      <td>26</td>\n",
              "      <td>0.58</td>\n",
              "      <td>W</td>\n",
              "      <td>17</td>\n",
              "      <td>22 mph</td>\n",
              "      <td>29.64 in</td>\n",
              "      <td>0.0 in</td>\n",
              "      <td>Cloudy</td>\n",
              "    </tr>\n",
              "    <tr>\n",
              "      <th>2</th>\n",
              "      <td>2020-01-01 02:51:00</td>\n",
              "      <td>40</td>\n",
              "      <td>25</td>\n",
              "      <td>0.55</td>\n",
              "      <td>W</td>\n",
              "      <td>16</td>\n",
              "      <td>28 mph</td>\n",
              "      <td>29.64 in</td>\n",
              "      <td>0.0 in</td>\n",
              "      <td>Mostly Cloudy</td>\n",
              "    </tr>\n",
              "    <tr>\n",
              "      <th>3</th>\n",
              "      <td>2020-01-01 03:51:00</td>\n",
              "      <td>39</td>\n",
              "      <td>23</td>\n",
              "      <td>0.53</td>\n",
              "      <td>W</td>\n",
              "      <td>16</td>\n",
              "      <td>0 mph</td>\n",
              "      <td>29.66 in</td>\n",
              "      <td>0.0 in</td>\n",
              "      <td>Cloudy</td>\n",
              "    </tr>\n",
              "    <tr>\n",
              "      <th>4</th>\n",
              "      <td>2020-01-01 04:51:00</td>\n",
              "      <td>38</td>\n",
              "      <td>23</td>\n",
              "      <td>0.55</td>\n",
              "      <td>W</td>\n",
              "      <td>14</td>\n",
              "      <td>23 mph</td>\n",
              "      <td>29.66 in</td>\n",
              "      <td>0.0 in</td>\n",
              "      <td>Cloudy</td>\n",
              "    </tr>\n",
              "  </tbody>\n",
              "</table>\n",
              "</div>"
            ],
            "text/plain": [
              "                 Time  Temperature  ...  Preciptation      Condition\n",
              "0 2020-01-01 00:51:00           40  ...        0.0 in         Cloudy\n",
              "1 2020-01-01 01:51:00           40  ...        0.0 in         Cloudy\n",
              "2 2020-01-01 02:51:00           40  ...        0.0 in  Mostly Cloudy\n",
              "3 2020-01-01 03:51:00           39  ...        0.0 in         Cloudy\n",
              "4 2020-01-01 04:51:00           38  ...        0.0 in         Cloudy\n",
              "\n",
              "[5 rows x 10 columns]"
            ]
          },
          "metadata": {
            "tags": []
          },
          "execution_count": 13
        }
      ]
    },
    {
      "cell_type": "markdown",
      "metadata": {
        "id": "bsxM-ZY4_a9p"
      },
      "source": [
        "### Corrigindo os dados de velocidade da rajada do vento"
      ]
    },
    {
      "cell_type": "code",
      "metadata": {
        "colab": {
          "base_uri": "https://localhost:8080/",
          "height": 0
        },
        "id": "xSbtc8uO_BMb",
        "outputId": "2095ae58-03ee-40b6-e2bd-203fd4ca0904"
      },
      "source": [
        "Gust = []\n",
        "for index, row in data.iterrows():\n",
        "  Gust.append(int(''.join(filter(str.isdigit, row['Wind Gust']))))\n",
        "data['Wind Gust'] = Gust\n",
        "data.head()"
      ],
      "execution_count": 14,
      "outputs": [
        {
          "output_type": "execute_result",
          "data": {
            "text/html": [
              "<div>\n",
              "<style scoped>\n",
              "    .dataframe tbody tr th:only-of-type {\n",
              "        vertical-align: middle;\n",
              "    }\n",
              "\n",
              "    .dataframe tbody tr th {\n",
              "        vertical-align: top;\n",
              "    }\n",
              "\n",
              "    .dataframe thead th {\n",
              "        text-align: right;\n",
              "    }\n",
              "</style>\n",
              "<table border=\"1\" class=\"dataframe\">\n",
              "  <thead>\n",
              "    <tr style=\"text-align: right;\">\n",
              "      <th></th>\n",
              "      <th>Time</th>\n",
              "      <th>Temperature</th>\n",
              "      <th>Dew Point</th>\n",
              "      <th>Humidity</th>\n",
              "      <th>Wind</th>\n",
              "      <th>Wind Speed</th>\n",
              "      <th>Wind Gust</th>\n",
              "      <th>Pressure</th>\n",
              "      <th>Preciptation</th>\n",
              "      <th>Condition</th>\n",
              "    </tr>\n",
              "  </thead>\n",
              "  <tbody>\n",
              "    <tr>\n",
              "      <th>0</th>\n",
              "      <td>2020-01-01 00:51:00</td>\n",
              "      <td>40</td>\n",
              "      <td>25</td>\n",
              "      <td>0.55</td>\n",
              "      <td>W</td>\n",
              "      <td>14</td>\n",
              "      <td>24</td>\n",
              "      <td>29.63 in</td>\n",
              "      <td>0.0 in</td>\n",
              "      <td>Cloudy</td>\n",
              "    </tr>\n",
              "    <tr>\n",
              "      <th>1</th>\n",
              "      <td>2020-01-01 01:51:00</td>\n",
              "      <td>40</td>\n",
              "      <td>26</td>\n",
              "      <td>0.58</td>\n",
              "      <td>W</td>\n",
              "      <td>17</td>\n",
              "      <td>22</td>\n",
              "      <td>29.64 in</td>\n",
              "      <td>0.0 in</td>\n",
              "      <td>Cloudy</td>\n",
              "    </tr>\n",
              "    <tr>\n",
              "      <th>2</th>\n",
              "      <td>2020-01-01 02:51:00</td>\n",
              "      <td>40</td>\n",
              "      <td>25</td>\n",
              "      <td>0.55</td>\n",
              "      <td>W</td>\n",
              "      <td>16</td>\n",
              "      <td>28</td>\n",
              "      <td>29.64 in</td>\n",
              "      <td>0.0 in</td>\n",
              "      <td>Mostly Cloudy</td>\n",
              "    </tr>\n",
              "    <tr>\n",
              "      <th>3</th>\n",
              "      <td>2020-01-01 03:51:00</td>\n",
              "      <td>39</td>\n",
              "      <td>23</td>\n",
              "      <td>0.53</td>\n",
              "      <td>W</td>\n",
              "      <td>16</td>\n",
              "      <td>0</td>\n",
              "      <td>29.66 in</td>\n",
              "      <td>0.0 in</td>\n",
              "      <td>Cloudy</td>\n",
              "    </tr>\n",
              "    <tr>\n",
              "      <th>4</th>\n",
              "      <td>2020-01-01 04:51:00</td>\n",
              "      <td>38</td>\n",
              "      <td>23</td>\n",
              "      <td>0.55</td>\n",
              "      <td>W</td>\n",
              "      <td>14</td>\n",
              "      <td>23</td>\n",
              "      <td>29.66 in</td>\n",
              "      <td>0.0 in</td>\n",
              "      <td>Cloudy</td>\n",
              "    </tr>\n",
              "  </tbody>\n",
              "</table>\n",
              "</div>"
            ],
            "text/plain": [
              "                 Time  Temperature  ...  Preciptation      Condition\n",
              "0 2020-01-01 00:51:00           40  ...        0.0 in         Cloudy\n",
              "1 2020-01-01 01:51:00           40  ...        0.0 in         Cloudy\n",
              "2 2020-01-01 02:51:00           40  ...        0.0 in  Mostly Cloudy\n",
              "3 2020-01-01 03:51:00           39  ...        0.0 in         Cloudy\n",
              "4 2020-01-01 04:51:00           38  ...        0.0 in         Cloudy\n",
              "\n",
              "[5 rows x 10 columns]"
            ]
          },
          "metadata": {
            "tags": []
          },
          "execution_count": 14
        }
      ]
    },
    {
      "cell_type": "markdown",
      "metadata": {
        "id": "0nVdiLoDAIaH"
      },
      "source": [
        "### Corrigindo os dados de pressao"
      ]
    },
    {
      "cell_type": "code",
      "metadata": {
        "colab": {
          "base_uri": "https://localhost:8080/",
          "height": 0
        },
        "id": "Ta-kq_NuAFdn",
        "outputId": "de393ffa-a6d8-49ba-b49e-d46c38fb0c3d"
      },
      "source": [
        "Pressure = []\n",
        "for index, row in data.iterrows():\n",
        "  Pressure.append(int(''.join(filter(str.isdigit, row['Pressure'])))/100)\n",
        "data['Pressure'] = Pressure\n",
        "data.head()"
      ],
      "execution_count": 15,
      "outputs": [
        {
          "output_type": "execute_result",
          "data": {
            "text/html": [
              "<div>\n",
              "<style scoped>\n",
              "    .dataframe tbody tr th:only-of-type {\n",
              "        vertical-align: middle;\n",
              "    }\n",
              "\n",
              "    .dataframe tbody tr th {\n",
              "        vertical-align: top;\n",
              "    }\n",
              "\n",
              "    .dataframe thead th {\n",
              "        text-align: right;\n",
              "    }\n",
              "</style>\n",
              "<table border=\"1\" class=\"dataframe\">\n",
              "  <thead>\n",
              "    <tr style=\"text-align: right;\">\n",
              "      <th></th>\n",
              "      <th>Time</th>\n",
              "      <th>Temperature</th>\n",
              "      <th>Dew Point</th>\n",
              "      <th>Humidity</th>\n",
              "      <th>Wind</th>\n",
              "      <th>Wind Speed</th>\n",
              "      <th>Wind Gust</th>\n",
              "      <th>Pressure</th>\n",
              "      <th>Preciptation</th>\n",
              "      <th>Condition</th>\n",
              "    </tr>\n",
              "  </thead>\n",
              "  <tbody>\n",
              "    <tr>\n",
              "      <th>0</th>\n",
              "      <td>2020-01-01 00:51:00</td>\n",
              "      <td>40</td>\n",
              "      <td>25</td>\n",
              "      <td>0.55</td>\n",
              "      <td>W</td>\n",
              "      <td>14</td>\n",
              "      <td>24</td>\n",
              "      <td>29.63</td>\n",
              "      <td>0.0 in</td>\n",
              "      <td>Cloudy</td>\n",
              "    </tr>\n",
              "    <tr>\n",
              "      <th>1</th>\n",
              "      <td>2020-01-01 01:51:00</td>\n",
              "      <td>40</td>\n",
              "      <td>26</td>\n",
              "      <td>0.58</td>\n",
              "      <td>W</td>\n",
              "      <td>17</td>\n",
              "      <td>22</td>\n",
              "      <td>29.64</td>\n",
              "      <td>0.0 in</td>\n",
              "      <td>Cloudy</td>\n",
              "    </tr>\n",
              "    <tr>\n",
              "      <th>2</th>\n",
              "      <td>2020-01-01 02:51:00</td>\n",
              "      <td>40</td>\n",
              "      <td>25</td>\n",
              "      <td>0.55</td>\n",
              "      <td>W</td>\n",
              "      <td>16</td>\n",
              "      <td>28</td>\n",
              "      <td>29.64</td>\n",
              "      <td>0.0 in</td>\n",
              "      <td>Mostly Cloudy</td>\n",
              "    </tr>\n",
              "    <tr>\n",
              "      <th>3</th>\n",
              "      <td>2020-01-01 03:51:00</td>\n",
              "      <td>39</td>\n",
              "      <td>23</td>\n",
              "      <td>0.53</td>\n",
              "      <td>W</td>\n",
              "      <td>16</td>\n",
              "      <td>0</td>\n",
              "      <td>29.66</td>\n",
              "      <td>0.0 in</td>\n",
              "      <td>Cloudy</td>\n",
              "    </tr>\n",
              "    <tr>\n",
              "      <th>4</th>\n",
              "      <td>2020-01-01 04:51:00</td>\n",
              "      <td>38</td>\n",
              "      <td>23</td>\n",
              "      <td>0.55</td>\n",
              "      <td>W</td>\n",
              "      <td>14</td>\n",
              "      <td>23</td>\n",
              "      <td>29.66</td>\n",
              "      <td>0.0 in</td>\n",
              "      <td>Cloudy</td>\n",
              "    </tr>\n",
              "  </tbody>\n",
              "</table>\n",
              "</div>"
            ],
            "text/plain": [
              "                 Time  Temperature  ...  Preciptation      Condition\n",
              "0 2020-01-01 00:51:00           40  ...        0.0 in         Cloudy\n",
              "1 2020-01-01 01:51:00           40  ...        0.0 in         Cloudy\n",
              "2 2020-01-01 02:51:00           40  ...        0.0 in  Mostly Cloudy\n",
              "3 2020-01-01 03:51:00           39  ...        0.0 in         Cloudy\n",
              "4 2020-01-01 04:51:00           38  ...        0.0 in         Cloudy\n",
              "\n",
              "[5 rows x 10 columns]"
            ]
          },
          "metadata": {
            "tags": []
          },
          "execution_count": 15
        }
      ]
    },
    {
      "cell_type": "markdown",
      "metadata": {
        "id": "oPlxoyhgBHpC"
      },
      "source": [
        "### Corrigindo os dados de precipitacao"
      ]
    },
    {
      "cell_type": "code",
      "metadata": {
        "colab": {
          "base_uri": "https://localhost:8080/",
          "height": 0
        },
        "id": "as25MWI9AHUA",
        "outputId": "d217d61b-102b-45d5-e3d2-b89b9fbe908c"
      },
      "source": [
        "Preciptation = []\n",
        "for index, row in data.iterrows():\n",
        "  Preciptation.append(int(''.join(filter(str.isdigit, row['Preciptation'])))/100)\n",
        "data['Preciptation'] = Preciptation\n",
        "data.head()"
      ],
      "execution_count": 16,
      "outputs": [
        {
          "output_type": "execute_result",
          "data": {
            "text/html": [
              "<div>\n",
              "<style scoped>\n",
              "    .dataframe tbody tr th:only-of-type {\n",
              "        vertical-align: middle;\n",
              "    }\n",
              "\n",
              "    .dataframe tbody tr th {\n",
              "        vertical-align: top;\n",
              "    }\n",
              "\n",
              "    .dataframe thead th {\n",
              "        text-align: right;\n",
              "    }\n",
              "</style>\n",
              "<table border=\"1\" class=\"dataframe\">\n",
              "  <thead>\n",
              "    <tr style=\"text-align: right;\">\n",
              "      <th></th>\n",
              "      <th>Time</th>\n",
              "      <th>Temperature</th>\n",
              "      <th>Dew Point</th>\n",
              "      <th>Humidity</th>\n",
              "      <th>Wind</th>\n",
              "      <th>Wind Speed</th>\n",
              "      <th>Wind Gust</th>\n",
              "      <th>Pressure</th>\n",
              "      <th>Preciptation</th>\n",
              "      <th>Condition</th>\n",
              "    </tr>\n",
              "  </thead>\n",
              "  <tbody>\n",
              "    <tr>\n",
              "      <th>0</th>\n",
              "      <td>2020-01-01 00:51:00</td>\n",
              "      <td>40</td>\n",
              "      <td>25</td>\n",
              "      <td>0.55</td>\n",
              "      <td>W</td>\n",
              "      <td>14</td>\n",
              "      <td>24</td>\n",
              "      <td>29.63</td>\n",
              "      <td>0.0</td>\n",
              "      <td>Cloudy</td>\n",
              "    </tr>\n",
              "    <tr>\n",
              "      <th>1</th>\n",
              "      <td>2020-01-01 01:51:00</td>\n",
              "      <td>40</td>\n",
              "      <td>26</td>\n",
              "      <td>0.58</td>\n",
              "      <td>W</td>\n",
              "      <td>17</td>\n",
              "      <td>22</td>\n",
              "      <td>29.64</td>\n",
              "      <td>0.0</td>\n",
              "      <td>Cloudy</td>\n",
              "    </tr>\n",
              "    <tr>\n",
              "      <th>2</th>\n",
              "      <td>2020-01-01 02:51:00</td>\n",
              "      <td>40</td>\n",
              "      <td>25</td>\n",
              "      <td>0.55</td>\n",
              "      <td>W</td>\n",
              "      <td>16</td>\n",
              "      <td>28</td>\n",
              "      <td>29.64</td>\n",
              "      <td>0.0</td>\n",
              "      <td>Mostly Cloudy</td>\n",
              "    </tr>\n",
              "    <tr>\n",
              "      <th>3</th>\n",
              "      <td>2020-01-01 03:51:00</td>\n",
              "      <td>39</td>\n",
              "      <td>23</td>\n",
              "      <td>0.53</td>\n",
              "      <td>W</td>\n",
              "      <td>16</td>\n",
              "      <td>0</td>\n",
              "      <td>29.66</td>\n",
              "      <td>0.0</td>\n",
              "      <td>Cloudy</td>\n",
              "    </tr>\n",
              "    <tr>\n",
              "      <th>4</th>\n",
              "      <td>2020-01-01 04:51:00</td>\n",
              "      <td>38</td>\n",
              "      <td>23</td>\n",
              "      <td>0.55</td>\n",
              "      <td>W</td>\n",
              "      <td>14</td>\n",
              "      <td>23</td>\n",
              "      <td>29.66</td>\n",
              "      <td>0.0</td>\n",
              "      <td>Cloudy</td>\n",
              "    </tr>\n",
              "  </tbody>\n",
              "</table>\n",
              "</div>"
            ],
            "text/plain": [
              "                 Time  Temperature  ...  Preciptation      Condition\n",
              "0 2020-01-01 00:51:00           40  ...           0.0         Cloudy\n",
              "1 2020-01-01 01:51:00           40  ...           0.0         Cloudy\n",
              "2 2020-01-01 02:51:00           40  ...           0.0  Mostly Cloudy\n",
              "3 2020-01-01 03:51:00           39  ...           0.0         Cloudy\n",
              "4 2020-01-01 04:51:00           38  ...           0.0         Cloudy\n",
              "\n",
              "[5 rows x 10 columns]"
            ]
          },
          "metadata": {
            "tags": []
          },
          "execution_count": 16
        }
      ]
    },
    {
      "cell_type": "markdown",
      "metadata": {
        "id": "PWjmrLQ7BQ0x"
      },
      "source": [
        "### Verificando os dados de condicoes"
      ]
    },
    {
      "cell_type": "code",
      "metadata": {
        "colab": {
          "base_uri": "https://localhost:8080/"
        },
        "id": "oCIvRhlQBTGH",
        "outputId": "d55c2715-9901-4d59-8f04-a839aff6cb66"
      },
      "source": [
        "data['Condition'].value_counts()"
      ],
      "execution_count": 17,
      "outputs": [
        {
          "output_type": "execute_result",
          "data": {
            "text/plain": [
              "Mostly Cloudy              2829\n",
              "Cloudy                     2028\n",
              "Fair                       1904\n",
              "Partly Cloudy              1266\n",
              "Light Rain                  829\n",
              "Fog                         197\n",
              "Mostly Cloudy / Windy       144\n",
              "Rain                        127\n",
              "Light Rain / Windy          123\n",
              "Light Drizzle               116\n",
              "Fair / Windy                110\n",
              "Partly Cloudy / Windy        84\n",
              "Cloudy / Windy               75\n",
              "Heavy Rain                   52\n",
              "Light Snow                   38\n",
              "Haze                         35\n",
              "Light Rain with Thunder      31\n",
              "Thunder in the Vicinity      28\n",
              "Drizzle and Fog              28\n",
              "T-Storm                      28\n",
              "Thunder                      26\n",
              "Light Snow / Windy           23\n",
              "Heavy Rain / Windy           22\n",
              "Rain / Windy                 21\n",
              "Wintry Mix                   12\n",
              "Snow / Windy                 10\n",
              "Light Drizzle / Windy        10\n",
              "Heavy T-Storm / Windy         8\n",
              "Heavy T-Storm                 8\n",
              "Snow and Sleet / Windy        7\n",
              "T-Storm / Windy               5\n",
              "Haze / Windy                  5\n",
              "Light Snow and Sleet          4\n",
              "Drizzle and Fog / Windy       3\n",
              "Snow                          3\n",
              "Wintry Mix / Windy            2\n",
              "Squalls / Windy               2\n",
              "Fog / Windy                   1\n",
              "Thunder / Windy               1\n",
              "Heavy Snow                    1\n",
              "Name: Condition, dtype: int64"
            ]
          },
          "metadata": {
            "tags": []
          },
          "execution_count": 17
        }
      ]
    },
    {
      "cell_type": "code",
      "metadata": {
        "id": "B0prYq5lBWNn"
      },
      "source": [
        "data['Condition'] = data['Condition'].astype('category')"
      ],
      "execution_count": 18,
      "outputs": []
    },
    {
      "cell_type": "markdown",
      "metadata": {
        "id": "jMuxC1wEBgcN"
      },
      "source": [
        "### Verificando os dados após as correcoes"
      ]
    },
    {
      "cell_type": "code",
      "metadata": {
        "colab": {
          "base_uri": "https://localhost:8080/"
        },
        "id": "M-Q5EhlMBfQ9",
        "outputId": "9b2d7e3b-6c7a-479e-8e6c-9312c7ef57da"
      },
      "source": [
        "data.dtypes"
      ],
      "execution_count": 19,
      "outputs": [
        {
          "output_type": "execute_result",
          "data": {
            "text/plain": [
              "Time            datetime64[ns]\n",
              "Temperature              int64\n",
              "Dew Point                int64\n",
              "Humidity               float64\n",
              "Wind                  category\n",
              "Wind Speed               int64\n",
              "Wind Gust                int64\n",
              "Pressure               float64\n",
              "Preciptation           float64\n",
              "Condition             category\n",
              "dtype: object"
            ]
          },
          "metadata": {
            "tags": []
          },
          "execution_count": 19
        }
      ]
    },
    {
      "cell_type": "markdown",
      "metadata": {
        "id": "eBFOV8fQCk3E"
      },
      "source": [
        "# Analise de dados Univariados"
      ]
    },
    {
      "cell_type": "markdown",
      "metadata": {
        "id": "8-qgKOdIH-JX"
      },
      "source": [
        "## Temperatura"
      ]
    },
    {
      "cell_type": "markdown",
      "metadata": {
        "id": "K_Ni6JtrGDFm"
      },
      "source": [
        "Descricao da temperatura"
      ]
    },
    {
      "cell_type": "code",
      "metadata": {
        "colab": {
          "base_uri": "https://localhost:8080/"
        },
        "id": "7bOzCTvvCoZ7",
        "outputId": "ce4965c4-d1dc-41e3-accd-56a2be04e539"
      },
      "source": [
        "data['Temperature'].describe()"
      ],
      "execution_count": 20,
      "outputs": [
        {
          "output_type": "execute_result",
          "data": {
            "text/plain": [
              "count    10246.000000\n",
              "mean        58.203592\n",
              "std         16.487466\n",
              "min         15.000000\n",
              "25%         45.000000\n",
              "50%         57.000000\n",
              "75%         73.000000\n",
              "max         97.000000\n",
              "Name: Temperature, dtype: float64"
            ]
          },
          "metadata": {
            "tags": []
          },
          "execution_count": 20
        }
      ]
    },
    {
      "cell_type": "markdown",
      "metadata": {
        "id": "aGqTIfn-GWx2"
      },
      "source": [
        "Temperaturas medias mensais ao longo do ano"
      ]
    },
    {
      "cell_type": "code",
      "metadata": {
        "colab": {
          "base_uri": "https://localhost:8080/",
          "height": 0
        },
        "id": "bnxc5FefC5bD",
        "outputId": "56d181a2-d363-4941-8215-3626c46aff98"
      },
      "source": [
        "data.resample('M', on='Time').mean()['Temperature'].plot()"
      ],
      "execution_count": 21,
      "outputs": [
        {
          "output_type": "execute_result",
          "data": {
            "text/plain": [
              "<matplotlib.axes._subplots.AxesSubplot at 0x7f046ea2af90>"
            ]
          },
          "metadata": {
            "tags": []
          },
          "execution_count": 21
        },
        {
          "output_type": "display_data",
          "data": {
            "image/png": "[encoded data removed]",
            "text/plain": [
              "<Figure size 432x288 with 1 Axes>"
            ]
          },
          "metadata": {
            "tags": [],
            "needs_background": "light"
          }
        }
      ]
    },
    {
      "cell_type": "markdown",
      "metadata": {
        "id": "oXJspeTgSMXp"
      },
      "source": [
        "Distribuicao das temperaturas ao longo do ano de acordo com os meses"
      ]
    },
    {
      "cell_type": "code",
      "metadata": {
        "id": "Nf1RFfCBLJqd",
        "outputId": "de0abe4c-2287-4643-a411-a689ab7998cc",
        "colab": {
          "base_uri": "https://localhost:8080/",
          "height": 0
        }
      },
      "source": [
        "sns.violinplot(x=data['Time'].dt.month, y=data['Temperature'] )"
      ],
      "execution_count": 22,
      "outputs": [
        {
          "output_type": "execute_result",
          "data": {
            "text/plain": [
              "<matplotlib.axes._subplots.AxesSubplot at 0x7f046eaf1f10>"
            ]
          },
          "metadata": {
            "tags": []
          },
          "execution_count": 22
        },
        {
          "output_type": "display_data",
          "data": {
            "image/png": "[encoded data removed]",
            "text/plain": [
              "<Figure size 432x288 with 1 Axes>"
            ]
          },
          "metadata": {
            "tags": [],
            "needs_background": "light"
          }
        }
      ]
    },
    {
      "cell_type": "markdown",
      "metadata": {
        "id": "lv60psOmIE_q"
      },
      "source": [
        "## Dew Point"
      ]
    },
    {
      "cell_type": "markdown",
      "metadata": {
        "id": "ge1OFiGASh4d"
      },
      "source": [
        "Descricao do ponto de condensação da água"
      ]
    },
    {
      "cell_type": "code",
      "metadata": {
        "colab": {
          "base_uri": "https://localhost:8080/"
        },
        "id": "tZo3zBlyIHZK",
        "outputId": "d2d9e516-e9ea-4085-82a6-668541e2a6d0"
      },
      "source": [
        "data['Dew Point'].describe()"
      ],
      "execution_count": 23,
      "outputs": [
        {
          "output_type": "execute_result",
          "data": {
            "text/plain": [
              "count    10246.000000\n",
              "mean        43.948175\n",
              "std         17.607824\n",
              "min          0.000000\n",
              "25%         31.000000\n",
              "50%         43.000000\n",
              "75%         60.000000\n",
              "max         75.000000\n",
              "Name: Dew Point, dtype: float64"
            ]
          },
          "metadata": {
            "tags": []
          },
          "execution_count": 23
        }
      ]
    },
    {
      "cell_type": "markdown",
      "metadata": {
        "id": "NWoRsxSmSntH"
      },
      "source": [
        "Pontos de condensação da água medios mensais ao longo do ano"
      ]
    },
    {
      "cell_type": "code",
      "metadata": {
        "id": "Y8bzKUF2ISQa",
        "colab": {
          "base_uri": "https://localhost:8080/",
          "height": 0
        },
        "outputId": "0439b08e-6b92-4adc-fe8e-df5ccdd573f3"
      },
      "source": [
        "data.resample('M', on='Time').mean()['Dew Point'].plot()"
      ],
      "execution_count": 24,
      "outputs": [
        {
          "output_type": "execute_result",
          "data": {
            "text/plain": [
              "<matplotlib.axes._subplots.AxesSubplot at 0x7f046e314dd0>"
            ]
          },
          "metadata": {
            "tags": []
          },
          "execution_count": 24
        },
        {
          "output_type": "display_data",
          "data": {
            "image/png": "[encoded data removed]",
            "text/plain": [
              "<Figure size 432x288 with 1 Axes>"
            ]
          },
          "metadata": {
            "tags": [],
            "needs_background": "light"
          }
        }
      ]
    },
    {
      "cell_type": "markdown",
      "metadata": {
        "id": "MqcDR1cCTQOR"
      },
      "source": [
        "Distribuicao dos pontos de condensação da água ao longo do ano de acordo com os meses"
      ]
    },
    {
      "cell_type": "code",
      "metadata": {
        "colab": {
          "base_uri": "https://localhost:8080/",
          "height": 0
        },
        "id": "vrXfnPFYLPQp",
        "outputId": "d85ae768-d22f-486b-c6eb-8850ae1da180"
      },
      "source": [
        "sns.violinplot(x=data['Time'].dt.month, y=data['Dew Point'] )"
      ],
      "execution_count": 25,
      "outputs": [
        {
          "output_type": "execute_result",
          "data": {
            "text/plain": [
              "<matplotlib.axes._subplots.AxesSubplot at 0x7f046e2a9e90>"
            ]
          },
          "metadata": {
            "tags": []
          },
          "execution_count": 25
        },
        {
          "output_type": "display_data",
          "data": {
            "image/png": "[encoded data removed]",
            "text/plain": [
              "<Figure size 432x288 with 1 Axes>"
            ]
          },
          "metadata": {
            "tags": [],
            "needs_background": "light"
          }
        }
      ]
    },
    {
      "cell_type": "markdown",
      "metadata": {
        "id": "vwUXEyFTTh9e"
      },
      "source": [
        "## Humidity"
      ]
    },
    {
      "cell_type": "markdown",
      "metadata": {
        "id": "kcMmCBXTTh9q"
      },
      "source": [
        "Descricao da Humidade"
      ]
    },
    {
      "cell_type": "code",
      "metadata": {
        "colab": {
          "base_uri": "https://localhost:8080/"
        },
        "id": "l0IYkfHRTh9r",
        "outputId": "8d6b681f-85eb-4367-f074-bd78ac7c8097"
      },
      "source": [
        "data['Humidity'].describe()"
      ],
      "execution_count": 26,
      "outputs": [
        {
          "output_type": "execute_result",
          "data": {
            "text/plain": [
              "count    10246.000000\n",
              "mean         0.621752\n",
              "std          0.191933\n",
              "min          0.140000\n",
              "25%          0.470000\n",
              "50%          0.630000\n",
              "75%          0.790000\n",
              "max          1.000000\n",
              "Name: Humidity, dtype: float64"
            ]
          },
          "metadata": {
            "tags": []
          },
          "execution_count": 26
        }
      ]
    },
    {
      "cell_type": "markdown",
      "metadata": {
        "id": "xPH5dXAHTh9s"
      },
      "source": [
        "Humidades medias mensais ao longo do ano"
      ]
    },
    {
      "cell_type": "code",
      "metadata": {
        "colab": {
          "base_uri": "https://localhost:8080/",
          "height": 309
        },
        "id": "OdGzYNeaTh9s",
        "outputId": "7665b7e2-0c80-4b23-e1d3-f3c085c19e00"
      },
      "source": [
        "data.resample('M', on='Time').mean()['Humidity'].plot()"
      ],
      "execution_count": 27,
      "outputs": [
        {
          "output_type": "execute_result",
          "data": {
            "text/plain": [
              "<matplotlib.axes._subplots.AxesSubplot at 0x7f046e140990>"
            ]
          },
          "metadata": {
            "tags": []
          },
          "execution_count": 27
        },
        {
          "output_type": "display_data",
          "data": {
            "image/png": "[encoded data removed]",
            "text/plain": [
              "<Figure size 432x288 with 1 Axes>"
            ]
          },
          "metadata": {
            "tags": [],
            "needs_background": "light"
          }
        }
      ]
    },
    {
      "cell_type": "markdown",
      "metadata": {
        "id": "UTgLhfhATh9s"
      },
      "source": [
        "Distribuicao das humidades ao longo do ano de acordo com os meses"
      ]
    },
    {
      "cell_type": "code",
      "metadata": {
        "colab": {
          "base_uri": "https://localhost:8080/",
          "height": 297
        },
        "id": "Ey6QbGS3Th9s",
        "outputId": "085e3992-d751-4329-b3dc-953819831bed"
      },
      "source": [
        "sns.violinplot(x=data['Time'].dt.month, y=data['Humidity'] )"
      ],
      "execution_count": 28,
      "outputs": [
        {
          "output_type": "execute_result",
          "data": {
            "text/plain": [
              "<matplotlib.axes._subplots.AxesSubplot at 0x7f046e13a1d0>"
            ]
          },
          "metadata": {
            "tags": []
          },
          "execution_count": 28
        },
        {
          "output_type": "display_data",
          "data": {
            "image/png": "[encoded data removed]",
            "text/plain": [
              "<Figure size 432x288 with 1 Axes>"
            ]
          },
          "metadata": {
            "tags": [],
            "needs_background": "light"
          }
        }
      ]
    },
    {
      "cell_type": "markdown",
      "metadata": {
        "id": "iQWk0YjfUIjh"
      },
      "source": [
        "## Wind"
      ]
    },
    {
      "cell_type": "markdown",
      "metadata": {
        "id": "_PgrQWmFUIjs"
      },
      "source": [
        "Descricao do vento"
      ]
    },
    {
      "cell_type": "code",
      "metadata": {
        "colab": {
          "base_uri": "https://localhost:8080/"
        },
        "id": "wD309BJLUIjs",
        "outputId": "ca57f7a6-f208-4e73-a49d-40dcfc1f9052"
      },
      "source": [
        "data['Wind'].describe()"
      ],
      "execution_count": 29,
      "outputs": [
        {
          "output_type": "execute_result",
          "data": {
            "text/plain": [
              "count     10246\n",
              "unique       18\n",
              "top           S\n",
              "freq       1306\n",
              "Name: Wind, dtype: object"
            ]
          },
          "metadata": {
            "tags": []
          },
          "execution_count": 29
        }
      ]
    },
    {
      "cell_type": "markdown",
      "metadata": {
        "id": "GZ86258fhNSz"
      },
      "source": [
        "Contagem das direçoes dos ventos"
      ]
    },
    {
      "cell_type": "code",
      "metadata": {
        "colab": {
          "base_uri": "https://localhost:8080/",
          "height": 284
        },
        "id": "pFhh8poDUTDH",
        "outputId": "fdc721ce-bd67-402b-d9bc-282921e2a3b5"
      },
      "source": [
        "data['Wind'].hist()"
      ],
      "execution_count": 64,
      "outputs": [
        {
          "output_type": "execute_result",
          "data": {
            "text/plain": [
              "<matplotlib.axes._subplots.AxesSubplot at 0x7f0468735e10>"
            ]
          },
          "metadata": {
            "tags": []
          },
          "execution_count": 64
        },
        {
          "output_type": "display_data",
          "data": {
            "image/png": "[encoded data removed]",
            "text/plain": [
              "<Figure size 432x288 with 1 Axes>"
            ]
          },
          "metadata": {
            "tags": [],
            "needs_background": "light"
          }
        }
      ]
    },
    {
      "cell_type": "markdown",
      "metadata": {
        "id": "SjrRlN3VhYpG"
      },
      "source": [
        "## Wind speed\n"
      ]
    },
    {
      "cell_type": "markdown",
      "metadata": {
        "id": "WtEByAuMhYpR"
      },
      "source": [
        "Descricao da velocidade do vento"
      ]
    },
    {
      "cell_type": "code",
      "metadata": {
        "colab": {
          "base_uri": "https://localhost:8080/"
        },
        "id": "7E93tY1mhYpR",
        "outputId": "bf1bad9c-45c4-4605-9b4a-b960f87b41f7"
      },
      "source": [
        "data['Wind Speed'].describe()"
      ],
      "execution_count": 65,
      "outputs": [
        {
          "output_type": "execute_result",
          "data": {
            "text/plain": [
              "count    10246.000000\n",
              "mean        10.654792\n",
              "std          5.728815\n",
              "min          0.000000\n",
              "25%          7.000000\n",
              "50%          9.000000\n",
              "75%         14.000000\n",
              "max         53.000000\n",
              "Name: Wind Speed, dtype: float64"
            ]
          },
          "metadata": {
            "tags": []
          },
          "execution_count": 65
        }
      ]
    },
    {
      "cell_type": "markdown",
      "metadata": {
        "id": "Rka_U6axhYpS"
      },
      "source": [
        "velocidades do vento medias mensais ao longo do ano"
      ]
    },
    {
      "cell_type": "code",
      "metadata": {
        "colab": {
          "base_uri": "https://localhost:8080/",
          "height": 309
        },
        "id": "dHgUSp3VhYpS",
        "outputId": "8c286b88-bd95-48eb-e731-5f12e8b41ea8"
      },
      "source": [
        "data.resample('M', on='Time').mean()['Wind Speed'].plot()"
      ],
      "execution_count": 66,
      "outputs": [
        {
          "output_type": "execute_result",
          "data": {
            "text/plain": [
              "<matplotlib.axes._subplots.AxesSubplot at 0x7f0468418590>"
            ]
          },
          "metadata": {
            "tags": []
          },
          "execution_count": 66
        },
        {
          "output_type": "display_data",
          "data": {
            "image/png": "[encoded data removed]",
            "text/plain": [
              "<Figure size 432x288 with 1 Axes>"
            ]
          },
          "metadata": {
            "tags": [],
            "needs_background": "light"
          }
        }
      ]
    },
    {
      "cell_type": "markdown",
      "metadata": {
        "id": "vYXOWrkfhYpS"
      },
      "source": [
        "Distribuicao das velocidades do vento ao longo do ano de acordo com os meses"
      ]
    },
    {
      "cell_type": "code",
      "metadata": {
        "colab": {
          "base_uri": "https://localhost:8080/",
          "height": 297
        },
        "id": "NOp3KOCuhYpS",
        "outputId": "ab95a4e8-512d-4bd0-f0b7-94ebd13af2e5"
      },
      "source": [
        "sns.violinplot(x=data['Time'].dt.month, y=data['Wind Speed'] )"
      ],
      "execution_count": 69,
      "outputs": [
        {
          "output_type": "execute_result",
          "data": {
            "text/plain": [
              "<matplotlib.axes._subplots.AxesSubplot at 0x7f04680f2e10>"
            ]
          },
          "metadata": {
            "tags": []
          },
          "execution_count": 69
        },
        {
          "output_type": "display_data",
          "data": {
            "image/png": "[encoded data removed]",
            "text/plain": [
              "<Figure size 432x288 with 1 Axes>"
            ]
          },
          "metadata": {
            "tags": [],
            "needs_background": "light"
          }
        }
      ]
    },
    {
      "cell_type": "markdown",
      "metadata": {
        "id": "irh_ZbhIh_Bm"
      },
      "source": [
        "## Wind gust\n",
        "\n"
      ]
    },
    {
      "cell_type": "markdown",
      "metadata": {
        "id": "LKLWOrYth_By"
      },
      "source": [
        "Descricao da velocidade de rajada do vento"
      ]
    },
    {
      "cell_type": "code",
      "metadata": {
        "colab": {
          "base_uri": "https://localhost:8080/"
        },
        "id": "XP1SFkkGh_By",
        "outputId": "6977c4f4-00fb-409f-ec06-79a1d8d75a72"
      },
      "source": [
        "data['Wind Gust'].describe()"
      ],
      "execution_count": 70,
      "outputs": [
        {
          "output_type": "execute_result",
          "data": {
            "text/plain": [
              "count    10246.000000\n",
              "mean         4.830470\n",
              "std         10.928297\n",
              "min          0.000000\n",
              "25%          0.000000\n",
              "50%          0.000000\n",
              "75%          0.000000\n",
              "max         69.000000\n",
              "Name: Wind Gust, dtype: float64"
            ]
          },
          "metadata": {
            "tags": []
          },
          "execution_count": 70
        }
      ]
    },
    {
      "cell_type": "markdown",
      "metadata": {
        "id": "irUCnLDHh_Bz"
      },
      "source": [
        "velocidades de rajada do vento medias mensais ao longo do ano"
      ]
    },
    {
      "cell_type": "code",
      "metadata": {
        "colab": {
          "base_uri": "https://localhost:8080/",
          "height": 309
        },
        "id": "Ys_6vEbMh_Bz",
        "outputId": "8d7328a1-af4f-48a7-85fc-79b7c36c6bb9"
      },
      "source": [
        "data.resample('M', on='Time').mean()['Wind Gust'].plot()"
      ],
      "execution_count": 71,
      "outputs": [
        {
          "output_type": "execute_result",
          "data": {
            "text/plain": [
              "<matplotlib.axes._subplots.AxesSubplot at 0x7f0467ff4fd0>"
            ]
          },
          "metadata": {
            "tags": []
          },
          "execution_count": 71
        },
        {
          "output_type": "display_data",
          "data": {
            "image/png": "[encoded data removed]",
            "text/plain": [
              "<Figure size 432x288 with 1 Axes>"
            ]
          },
          "metadata": {
            "tags": [],
            "needs_background": "light"
          }
        }
      ]
    },
    {
      "cell_type": "markdown",
      "metadata": {
        "id": "HBfzjnKch_Bz"
      },
      "source": [
        "Distribuicao das velocidades de rajada do vento ao longo do ano de acordo com os meses"
      ]
    },
    {
      "cell_type": "code",
      "metadata": {
        "colab": {
          "base_uri": "https://localhost:8080/",
          "height": 297
        },
        "id": "WsMRicbxh_Bz",
        "outputId": "2eff038f-658a-49c6-9049-76443654b50e"
      },
      "source": [
        "sns.violinplot(x=data['Time'].dt.month, y=data['Wind Gust'] )"
      ],
      "execution_count": 72,
      "outputs": [
        {
          "output_type": "execute_result",
          "data": {
            "text/plain": [
              "<matplotlib.axes._subplots.AxesSubplot at 0x7f0467f6d1d0>"
            ]
          },
          "metadata": {
            "tags": []
          },
          "execution_count": 72
        },
        {
          "output_type": "display_data",
          "data": {
            "image/png": "[encoded data removed]",
            "text/plain": [
              "<Figure size 432x288 with 1 Axes>"
            ]
          },
          "metadata": {
            "tags": [],
            "needs_background": "light"
          }
        }
      ]
    },
    {
      "cell_type": "markdown",
      "metadata": {
        "id": "ZzX5mFSBibHo"
      },
      "source": [
        "## Pressure\n",
        "\n"
      ]
    },
    {
      "cell_type": "markdown",
      "metadata": {
        "id": "rQiTFHbLibHz"
      },
      "source": [
        "Descricao da pressao"
      ]
    },
    {
      "cell_type": "code",
      "metadata": {
        "colab": {
          "base_uri": "https://localhost:8080/"
        },
        "id": "yjkCF9c6ibHz",
        "outputId": "9def53b9-a910-471e-a64c-41bf83eb6444"
      },
      "source": [
        "data['Pressure'].describe()"
      ],
      "execution_count": 73,
      "outputs": [
        {
          "output_type": "execute_result",
          "data": {
            "text/plain": [
              "count    10246.000000\n",
              "mean        29.990655\n",
              "std          0.381287\n",
              "min          0.000000\n",
              "25%         29.840000\n",
              "50%         29.980000\n",
              "75%         30.150000\n",
              "max         30.740000\n",
              "Name: Pressure, dtype: float64"
            ]
          },
          "metadata": {
            "tags": []
          },
          "execution_count": 73
        }
      ]
    },
    {
      "cell_type": "markdown",
      "metadata": {
        "id": "AFEYNj2PibH0"
      },
      "source": [
        "pressoes medias mensais ao longo do ano"
      ]
    },
    {
      "cell_type": "code",
      "metadata": {
        "colab": {
          "base_uri": "https://localhost:8080/",
          "height": 309
        },
        "id": "Bl6wl-JkibH0",
        "outputId": "bf339c4d-675b-4c19-a6b4-2fb2a5305e0c"
      },
      "source": [
        "data.resample('M', on='Time').mean()['Pressure'].plot()"
      ],
      "execution_count": 74,
      "outputs": [
        {
          "output_type": "execute_result",
          "data": {
            "text/plain": [
              "<matplotlib.axes._subplots.AxesSubplot at 0x7f046e031ad0>"
            ]
          },
          "metadata": {
            "tags": []
          },
          "execution_count": 74
        },
        {
          "output_type": "display_data",
          "data": {
            "image/png": "[encoded data removed]",
            "text/plain": [
              "<Figure size 432x288 with 1 Axes>"
            ]
          },
          "metadata": {
            "tags": [],
            "needs_background": "light"
          }
        }
      ]
    },
    {
      "cell_type": "markdown",
      "metadata": {
        "id": "SXAPztKXibH0"
      },
      "source": [
        "Distribuicao das pressoes ao longo do ano de acordo com os meses"
      ]
    },
    {
      "cell_type": "code",
      "metadata": {
        "colab": {
          "base_uri": "https://localhost:8080/",
          "height": 297
        },
        "id": "rAcgVIsMibH1",
        "outputId": "7808b404-d52f-45d8-9251-d0f00d06b8cc"
      },
      "source": [
        "sns.violinplot(x=data['Time'].dt.month, y=data['Pressure'] )"
      ],
      "execution_count": 75,
      "outputs": [
        {
          "output_type": "execute_result",
          "data": {
            "text/plain": [
              "<matplotlib.axes._subplots.AxesSubplot at 0x7f0467e05f90>"
            ]
          },
          "metadata": {
            "tags": []
          },
          "execution_count": 75
        },
        {
          "output_type": "display_data",
          "data": {
            "image/png": "[encoded data removed]",
            "text/plain": [
              "<Figure size 432x288 with 1 Axes>"
            ]
          },
          "metadata": {
            "tags": [],
            "needs_background": "light"
          }
        }
      ]
    },
    {
      "cell_type": "markdown",
      "metadata": {
        "id": "38K-h5Hfi8su"
      },
      "source": [
        "Removendo esse outlier de pressao (erro) através da insercao da media"
      ]
    },
    {
      "cell_type": "code",
      "metadata": {
        "id": "Stj0C3EXitPF"
      },
      "source": [
        "pressao = []\n",
        "for index, row in data.iterrows():\n",
        "  if(row['Pressure']) < 20:\n",
        "    pressao.append(data['Pressure'].mean())\n",
        "  else:\n",
        "    pressao.append(row['Pressure'])\n",
        "data['Pressure'] = pressao"
      ],
      "execution_count": 80,
      "outputs": []
    },
    {
      "cell_type": "markdown",
      "metadata": {
        "id": "JJwYW8vyj68y"
      },
      "source": [
        "Verificando correcao"
      ]
    },
    {
      "cell_type": "code",
      "metadata": {
        "id": "_9vxzoYbjLTC",
        "outputId": "0be8189f-f96e-4601-f5d5-c31e3019080e",
        "colab": {
          "base_uri": "https://localhost:8080/",
          "height": 301
        }
      },
      "source": [
        "sns.violinplot(x=data['Time'].dt.month, y=data['Pressure'] )"
      ],
      "execution_count": 81,
      "outputs": [
        {
          "output_type": "execute_result",
          "data": {
            "text/plain": [
              "<matplotlib.axes._subplots.AxesSubplot at 0x7f046857e490>"
            ]
          },
          "metadata": {
            "tags": []
          },
          "execution_count": 81
        },
        {
          "output_type": "display_data",
          "data": {
            "image/png": "[encoded data removed]",
            "text/plain": [
              "<Figure size 432x288 with 1 Axes>"
            ]
          },
          "metadata": {
            "tags": [],
            "needs_background": "light"
          }
        }
      ]
    },
    {
      "cell_type": "markdown",
      "metadata": {
        "id": "Eef1MRW4kyS6"
      },
      "source": [
        "## Preciptation\n",
        "\n"
      ]
    },
    {
      "cell_type": "markdown",
      "metadata": {
        "id": "hzpV2F25kyTE"
      },
      "source": [
        "Descricao da precipitacao"
      ]
    },
    {
      "cell_type": "code",
      "metadata": {
        "colab": {
          "base_uri": "https://localhost:8080/"
        },
        "id": "xdb9K8RVkyTE",
        "outputId": "2441ec9b-8e53-4fd5-f093-81750bc56df9"
      },
      "source": [
        "data['Preciptation'].describe()"
      ],
      "execution_count": 83,
      "outputs": [
        {
          "output_type": "execute_result",
          "data": {
            "text/plain": [
              "count    10246.000000\n",
              "mean         0.000641\n",
              "std          0.004098\n",
              "min          0.000000\n",
              "25%          0.000000\n",
              "50%          0.000000\n",
              "75%          0.000000\n",
              "max          0.130000\n",
              "Name: Preciptation, dtype: float64"
            ]
          },
          "metadata": {
            "tags": []
          },
          "execution_count": 83
        }
      ]
    },
    {
      "cell_type": "markdown",
      "metadata": {
        "id": "cWbfv01ckyTF"
      },
      "source": [
        "precipitacoes medias mensais ao longo do ano"
      ]
    },
    {
      "cell_type": "code",
      "metadata": {
        "colab": {
          "base_uri": "https://localhost:8080/",
          "height": 309
        },
        "id": "xG6SrT-qkyTF",
        "outputId": "3859ac3f-71b5-4477-f373-7dfda076496b"
      },
      "source": [
        "data.resample('M', on='Time').mean()['Preciptation'].plot()"
      ],
      "execution_count": 84,
      "outputs": [
        {
          "output_type": "execute_result",
          "data": {
            "text/plain": [
              "<matplotlib.axes._subplots.AxesSubplot at 0x7f046ec5c890>"
            ]
          },
          "metadata": {
            "tags": []
          },
          "execution_count": 84
        },
        {
          "output_type": "display_data",
          "data": {
            "image/png": "[encoded data removed]",
            "text/plain": [
              "<Figure size 432x288 with 1 Axes>"
            ]
          },
          "metadata": {
            "tags": [],
            "needs_background": "light"
          }
        }
      ]
    },
    {
      "cell_type": "markdown",
      "metadata": {
        "id": "UyLqDba1kyTF"
      },
      "source": [
        "Distribuicao das precipitacoes ao longo do ano de acordo com os meses"
      ]
    },
    {
      "cell_type": "code",
      "metadata": {
        "colab": {
          "base_uri": "https://localhost:8080/",
          "height": 300
        },
        "id": "EDoqafrTkyTF",
        "outputId": "c0322619-5571-4dca-cb64-636fe41d8083"
      },
      "source": [
        "sns.violinplot(x=data['Time'].dt.month, y=data['Preciptation'] )"
      ],
      "execution_count": 86,
      "outputs": [
        {
          "output_type": "execute_result",
          "data": {
            "text/plain": [
              "<matplotlib.axes._subplots.AxesSubplot at 0x7f046ec19190>"
            ]
          },
          "metadata": {
            "tags": []
          },
          "execution_count": 86
        },
        {
          "output_type": "display_data",
          "data": {
            "image/png": "[encoded data removed]",
            "text/plain": [
              "<Figure size 432x288 with 1 Axes>"
            ]
          },
          "metadata": {
            "tags": [],
            "needs_background": "light"
          }
        }
      ]
    },
    {
      "cell_type": "markdown",
      "metadata": {
        "id": "w2mGPr-hlbER"
      },
      "source": [
        "## Condition"
      ]
    },
    {
      "cell_type": "markdown",
      "metadata": {
        "id": "UvkanL_SlbEc"
      },
      "source": [
        "Descricao da condicao"
      ]
    },
    {
      "cell_type": "code",
      "metadata": {
        "colab": {
          "base_uri": "https://localhost:8080/"
        },
        "id": "UpiBXBmxlbEc",
        "outputId": "bfce8280-b9c6-4e57-cec4-c44ba9197cdb"
      },
      "source": [
        "data['Condition'].describe()"
      ],
      "execution_count": 87,
      "outputs": [
        {
          "output_type": "execute_result",
          "data": {
            "text/plain": [
              "count             10246\n",
              "unique               40\n",
              "top       Mostly Cloudy\n",
              "freq               2829\n",
              "Name: Condition, dtype: object"
            ]
          },
          "metadata": {
            "tags": []
          },
          "execution_count": 87
        }
      ]
    },
    {
      "cell_type": "markdown",
      "metadata": {
        "id": "h8fPCLI_lbEc"
      },
      "source": [
        "Contagem das condicoes"
      ]
    },
    {
      "cell_type": "code",
      "metadata": {
        "colab": {
          "base_uri": "https://localhost:8080/",
          "height": 283
        },
        "id": "p209t1GAlbEd",
        "outputId": "cf72a117-bd3e-42ce-abea-4b1e69417e97"
      },
      "source": [
        "data['Condition'].hist()"
      ],
      "execution_count": 88,
      "outputs": [
        {
          "output_type": "execute_result",
          "data": {
            "text/plain": [
              "<matplotlib.axes._subplots.AxesSubplot at 0x7f0467b483d0>"
            ]
          },
          "metadata": {
            "tags": []
          },
          "execution_count": 88
        },
        {
          "output_type": "display_data",
          "data": {
            "image/png": "[encoded data removed]",
            "text/plain": [
              "<Figure size 432x288 with 1 Axes>"
            ]
          },
          "metadata": {
            "tags": [],
            "needs_background": "light"
          }
        }
      ]
    }
  ]
}